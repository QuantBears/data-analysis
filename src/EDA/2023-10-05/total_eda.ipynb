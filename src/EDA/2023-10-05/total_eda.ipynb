{
 "cells": [
  {
   "cell_type": "code",
   "execution_count": 8,
   "metadata": {},
   "outputs": [],
   "source": [
    "import boto3\n",
    "import awswrangler as wr\n",
    "import pandas as pd\n",
    "accessKeys = pd.read_csv(\"../../quant-bears_accessKeys.csv\")\n",
    "session = boto3.Session(\n",
    "\taws_access_key_id=accessKeys.loc[0, \"Access key ID\"],\n",
    "\taws_secret_access_key=accessKeys.loc[0, \"Secret access key\"]\n",
    ")\n",
    "\n",
    "s3_collection_path = \"s3://quant-bears-data-collection/raw-data/\"\n",
    "s3_price_collection_path = \"s3://quant-bears-data-collection/raw-resolved-price/\""
   ]
  },
  {
   "cell_type": "code",
   "execution_count": 9,
   "metadata": {},
   "outputs": [],
   "source": [
    "data_sources = [\"seekingAlpha.seekingAlphaBulkMetrics\", \"gurufocus\"]\n",
    "\n",
    "sources_dict = dict((source, wr.s3.list_objects(s3_collection_path + source + \"/\", boto3_session=session)) for source in data_sources)"
   ]
  },
  {
   "cell_type": "code",
   "execution_count": 10,
   "metadata": {},
   "outputs": [],
   "source": [
    "from tqdm import tqdm"
   ]
  },
  {
   "cell_type": "code",
   "execution_count": 12,
   "metadata": {},
   "outputs": [
    {
     "name": "stdout",
     "output_type": "stream",
     "text": [
      "seekingAlpha.seekingAlphaBulkMetrics\n"
     ]
    },
    {
     "name": "stderr",
     "output_type": "stream",
     "text": [
      "  0%|          | 0/7 [00:00<?, ?it/s]/var/folders/tq/51dxx6813y7g8dg44h973dmr0000gn/T/ipykernel_82380/1571599482.py:7: PerformanceWarning: DataFrame is highly fragmented.  This is usually the result of calling `frame.insert` many times, which has poor performance.  Consider joining all columns at once using pd.concat(axis=1) instead. To get a de-fragmented frame, use `newframe = frame.copy()`\n",
      "  new_df[\"date\"] = path.split(\"/\")[-1].split(\".\")[0]\n",
      " 14%|█▍        | 1/7 [00:00<00:04,  1.45it/s]/var/folders/tq/51dxx6813y7g8dg44h973dmr0000gn/T/ipykernel_82380/1571599482.py:7: PerformanceWarning: DataFrame is highly fragmented.  This is usually the result of calling `frame.insert` many times, which has poor performance.  Consider joining all columns at once using pd.concat(axis=1) instead. To get a de-fragmented frame, use `newframe = frame.copy()`\n",
      "  new_df[\"date\"] = path.split(\"/\")[-1].split(\".\")[0]\n",
      " 29%|██▊       | 2/7 [00:01<00:03,  1.56it/s]/var/folders/tq/51dxx6813y7g8dg44h973dmr0000gn/T/ipykernel_82380/1571599482.py:7: PerformanceWarning: DataFrame is highly fragmented.  This is usually the result of calling `frame.insert` many times, which has poor performance.  Consider joining all columns at once using pd.concat(axis=1) instead. To get a de-fragmented frame, use `newframe = frame.copy()`\n",
      "  new_df[\"date\"] = path.split(\"/\")[-1].split(\".\")[0]\n",
      " 43%|████▎     | 3/7 [00:02<00:03,  1.03it/s]/var/folders/tq/51dxx6813y7g8dg44h973dmr0000gn/T/ipykernel_82380/1571599482.py:7: PerformanceWarning: DataFrame is highly fragmented.  This is usually the result of calling `frame.insert` many times, which has poor performance.  Consider joining all columns at once using pd.concat(axis=1) instead. To get a de-fragmented frame, use `newframe = frame.copy()`\n",
      "  new_df[\"date\"] = path.split(\"/\")[-1].split(\".\")[0]\n",
      " 57%|█████▋    | 4/7 [00:05<00:04,  1.67s/it]/var/folders/tq/51dxx6813y7g8dg44h973dmr0000gn/T/ipykernel_82380/1571599482.py:7: PerformanceWarning: DataFrame is highly fragmented.  This is usually the result of calling `frame.insert` many times, which has poor performance.  Consider joining all columns at once using pd.concat(axis=1) instead. To get a de-fragmented frame, use `newframe = frame.copy()`\n",
      "  new_df[\"date\"] = path.split(\"/\")[-1].split(\".\")[0]\n",
      " 71%|███████▏  | 5/7 [00:06<00:02,  1.29s/it]/var/folders/tq/51dxx6813y7g8dg44h973dmr0000gn/T/ipykernel_82380/1571599482.py:7: PerformanceWarning: DataFrame is highly fragmented.  This is usually the result of calling `frame.insert` many times, which has poor performance.  Consider joining all columns at once using pd.concat(axis=1) instead. To get a de-fragmented frame, use `newframe = frame.copy()`\n",
      "  new_df[\"date\"] = path.split(\"/\")[-1].split(\".\")[0]\n",
      " 86%|████████▌ | 6/7 [00:06<00:01,  1.17s/it]/var/folders/tq/51dxx6813y7g8dg44h973dmr0000gn/T/ipykernel_82380/1571599482.py:7: PerformanceWarning: DataFrame is highly fragmented.  This is usually the result of calling `frame.insert` many times, which has poor performance.  Consider joining all columns at once using pd.concat(axis=1) instead. To get a de-fragmented frame, use `newframe = frame.copy()`\n",
      "  new_df[\"date\"] = path.split(\"/\")[-1].split(\".\")[0]\n",
      "100%|██████████| 7/7 [00:07<00:00,  1.09s/it]\n"
     ]
    },
    {
     "name": "stdout",
     "output_type": "stream",
     "text": [
      "gurufocus\n"
     ]
    },
    {
     "name": "stderr",
     "output_type": "stream",
     "text": [
      "100%|██████████| 7/7 [00:04<00:00,  1.67it/s]\n"
     ]
    }
   ],
   "source": [
    "df_dict = {}\n",
    "for source in data_sources:\n",
    "\tdfs = []\n",
    "\tprint(source)\n",
    "\tfor path in tqdm(sources_dict[source]):\n",
    "\t\tnew_df = wr.s3.read_parquet(path, boto3_session=session)\n",
    "\t\tnew_df[\"date\"] = path.split(\"/\")[-1].split(\".\")[0]\n",
    "\t\tdfs.append(new_df)\n",
    "\n",
    "\tdf_dict[source] = pd.concat(dfs, axis = 0)"
   ]
  },
  {
   "cell_type": "code",
   "execution_count": 13,
   "metadata": {},
   "outputs": [
    {
     "data": {
      "text/plain": [
       "(11109, 337)"
      ]
     },
     "execution_count": 13,
     "metadata": {},
     "output_type": "execute_result"
    }
   ],
   "source": [
    "joined_df = pd.concat([df.set_index([\"date\", \"ticker\"]) for df in df_dict.values()], axis = 1)\n",
    "joined_df.shape"
   ]
  },
  {
   "cell_type": "code",
   "execution_count": 14,
   "metadata": {},
   "outputs": [
    {
     "data": {
      "text/plain": [
       "MultiIndex([('2023-09-28',    'A'),\n",
       "            ('2023-09-28',   'AA'),\n",
       "            ('2023-09-28',  'AAL'),\n",
       "            ('2023-09-28',  'AAP'),\n",
       "            ('2023-09-28', 'AAPL'),\n",
       "            ('2023-09-28', 'ABBV'),\n",
       "            ('2023-09-28', 'ABCL'),\n",
       "            ('2023-09-28', 'ABCM'),\n",
       "            ('2023-09-28', 'ABEV'),\n",
       "            ('2023-09-28',  'ABM'),\n",
       "            ...\n",
       "            ('2023-10-06',  'ZIM'),\n",
       "            ('2023-10-06', 'ZION'),\n",
       "            ('2023-10-06',  'ZIP'),\n",
       "            ('2023-10-06',   'ZM'),\n",
       "            ('2023-10-06', 'ZNTL'),\n",
       "            ('2023-10-06',   'ZS'),\n",
       "            ('2023-10-06',  'ZTO'),\n",
       "            ('2023-10-06',  'ZTS'),\n",
       "            ('2023-10-06',  'ZUO'),\n",
       "            ('2023-10-06',  'ZWS')],\n",
       "           names=['date', 'ticker'], length=11109)"
      ]
     },
     "execution_count": 14,
     "metadata": {},
     "output_type": "execute_result"
    }
   ],
   "source": [
    "joined_df.index"
   ]
  },
  {
   "cell_type": "code",
   "execution_count": 16,
   "metadata": {},
   "outputs": [],
   "source": [
    "nan_pct = joined_df.isna().sum() / joined_df.shape[0]"
   ]
  },
  {
   "cell_type": "code",
   "execution_count": 17,
   "metadata": {},
   "outputs": [
    {
     "data": {
      "text/plain": [
       "<Axes: >"
      ]
     },
     "execution_count": 17,
     "metadata": {},
     "output_type": "execute_result"
    },
    {
     "data": {
      "image/png": "[encoded data removed]",
      "text/plain": [
       "<Figure size 640x480 with 1 Axes>"
      ]
     },
     "metadata": {},
     "output_type": "display_data"
    }
   ],
   "source": [
    "nan_pct.hist()"
   ]
  },
  {
   "cell_type": "code",
   "execution_count": 35,
   "metadata": {},
   "outputs": [
    {
     "data": {
      "text/plain": [
       "<Axes: >"
      ]
     },
     "execution_count": 35,
     "metadata": {},
     "output_type": "execute_result"
    },
    {
     "data": {
      "image/png": "[encoded data removed]",
      "text/plain": [
       "<Figure size 640x480 with 1 Axes>"
      ]
     },
     "metadata": {},
     "output_type": "display_data"
    }
   ],
   "source": [
    "test_median_fill = joined_df[\"analysts_up_percent_avg_5y\"]\n",
    "test_median_fill.hist()"
   ]
  },
  {
   "cell_type": "code",
   "execution_count": 37,
   "metadata": {},
   "outputs": [
    {
     "data": {
      "text/plain": [
       "14.181596172742932"
      ]
     },
     "execution_count": 37,
     "metadata": {},
     "output_type": "execute_result"
    }
   ],
   "source": [
    "test_median_fill.fillna(test_median_fill.median()).std()"
   ]
  },
  {
   "cell_type": "code",
   "execution_count": 41,
   "metadata": {},
   "outputs": [
    {
     "data": {
      "text/plain": [
       "0.9287906270938736"
      ]
     },
     "execution_count": 41,
     "metadata": {},
     "output_type": "execute_result"
    }
   ],
   "source": [
    "test_median_fill.fillna(test_median_fill.median()).std() / test_median_fill.std()"
   ]
  },
  {
   "cell_type": "code",
   "execution_count": 73,
   "metadata": {},
   "outputs": [],
   "source": [
    "def stddev_diff(col):\n",
    "\tstddev_median_diff = col.fillna(col.median()).std() / col.std()\n",
    "\tstddev_zero_diff = col.fillna(0.).std() / col.std()\n",
    "\treturn (stddev_median_diff, stddev_zero_diff, \"median\" if stddev_median_diff <= stddev_zero_diff else \"zero\")\n"
   ]
  },
  {
   "cell_type": "code",
   "execution_count": 74,
   "metadata": {},
   "outputs": [],
   "source": [
    "float_df = joined_df.select_dtypes([float, int])\n",
    "stddev_diffs = float_df.apply(stddev_diff).rename(index = {0: \"median_fill\", 1: \"zero_fill\", 2: \"method\"})"
   ]
  },
  {
   "cell_type": "code",
   "execution_count": 76,
   "metadata": {},
   "outputs": [
    {
     "data": {
      "text/plain": [
       "<Axes: >"
      ]
     },
     "execution_count": 76,
     "metadata": {},
     "output_type": "execute_result"
    },
    {
     "data": {
      "image/png": "[encoded data removed]",
      "text/plain": [
       "<Figure size 640x480 with 1 Axes>"
      ]
     },
     "metadata": {},
     "output_type": "display_data"
    }
   ],
   "source": [
    "stddev_diffs.loc[\"median_fill\"].hist()"
   ]
  },
  {
   "cell_type": "code",
   "execution_count": 77,
   "metadata": {},
   "outputs": [
    {
     "data": {
      "text/plain": [
       "<Axes: >"
      ]
     },
     "execution_count": 77,
     "metadata": {},
     "output_type": "execute_result"
    },
    {
     "data": {
      "image/png": "[encoded data removed]",
      "text/plain": [
       "<Figure size 640x480 with 1 Axes>"
      ]
     },
     "metadata": {},
     "output_type": "display_data"
    }
   ],
   "source": [
    "stddev_diffs.loc[\"zero_fill\"].hist()"
   ]
  },
  {
   "cell_type": "code",
   "execution_count": 87,
   "metadata": {},
   "outputs": [
    {
     "data": {
      "text/html": [
       "<div>\n",
       "<style scoped>\n",
       "    .dataframe tbody tr th:only-of-type {\n",
       "        vertical-align: middle;\n",
       "    }\n",
       "\n",
       "    .dataframe tbody tr th {\n",
       "        vertical-align: top;\n",
       "    }\n",
       "\n",
       "    .dataframe thead th {\n",
       "        text-align: right;\n",
       "    }\n",
       "</style>\n",
       "<table border=\"1\" class=\"dataframe\">\n",
       "  <thead>\n",
       "    <tr style=\"text-align: right;\">\n",
       "      <th></th>\n",
       "      <th>median_fill</th>\n",
       "      <th>zero_fill</th>\n",
       "      <th>method</th>\n",
       "    </tr>\n",
       "  </thead>\n",
       "  <tbody>\n",
       "    <tr>\n",
       "      <th>altman_z_score</th>\n",
       "      <td>0.87616</td>\n",
       "      <td>0.888796</td>\n",
       "      <td>median</td>\n",
       "    </tr>\n",
       "    <tr>\n",
       "      <th>analysts_down</th>\n",
       "      <td>0.991211</td>\n",
       "      <td>0.997444</td>\n",
       "      <td>median</td>\n",
       "    </tr>\n",
       "    <tr>\n",
       "      <th>analysts_down_percent</th>\n",
       "      <td>0.988452</td>\n",
       "      <td>1.005208</td>\n",
       "      <td>median</td>\n",
       "    </tr>\n",
       "    <tr>\n",
       "      <th>analysts_down_percent_avg_5y</th>\n",
       "      <td>0.928791</td>\n",
       "      <td>1.364143</td>\n",
       "      <td>median</td>\n",
       "    </tr>\n",
       "    <tr>\n",
       "      <th>analysts_up</th>\n",
       "      <td>0.991011</td>\n",
       "      <td>0.997099</td>\n",
       "      <td>median</td>\n",
       "    </tr>\n",
       "    <tr>\n",
       "      <th>...</th>\n",
       "      <td>...</td>\n",
       "      <td>...</td>\n",
       "      <td>...</td>\n",
       "    </tr>\n",
       "    <tr>\n",
       "      <th>Price-to-FFO</th>\n",
       "      <td>0.251876</td>\n",
       "      <td>0.263268</td>\n",
       "      <td>median</td>\n",
       "    </tr>\n",
       "    <tr>\n",
       "      <th>Volume</th>\n",
       "      <td>0.856113</td>\n",
       "      <td>0.876018</td>\n",
       "      <td>median</td>\n",
       "    </tr>\n",
       "    <tr>\n",
       "      <th>Avg_Volume__2M_</th>\n",
       "      <td>0.855917</td>\n",
       "      <td>0.876505</td>\n",
       "      <td>median</td>\n",
       "    </tr>\n",
       "    <tr>\n",
       "      <th>Market_Cap</th>\n",
       "      <td>0.851885</td>\n",
       "      <td>0.854509</td>\n",
       "      <td>median</td>\n",
       "    </tr>\n",
       "    <tr>\n",
       "      <th>Enterprise_Value</th>\n",
       "      <td>0.852534</td>\n",
       "      <td>0.856568</td>\n",
       "      <td>median</td>\n",
       "    </tr>\n",
       "  </tbody>\n",
       "</table>\n",
       "<p>335 rows × 3 columns</p>\n",
       "</div>"
      ],
      "text/plain": [
       "                             median_fill zero_fill  method\n",
       "altman_z_score                   0.87616  0.888796  median\n",
       "analysts_down                   0.991211  0.997444  median\n",
       "analysts_down_percent           0.988452  1.005208  median\n",
       "analysts_down_percent_avg_5y    0.928791  1.364143  median\n",
       "analysts_up                     0.991011  0.997099  median\n",
       "...                                  ...       ...     ...\n",
       "Price-to-FFO                    0.251876  0.263268  median\n",
       "Volume                          0.856113  0.876018  median\n",
       "Avg_Volume__2M_                 0.855917  0.876505  median\n",
       "Market_Cap                      0.851885  0.854509  median\n",
       "Enterprise_Value                0.852534  0.856568  median\n",
       "\n",
       "[335 rows x 3 columns]"
      ]
     },
     "execution_count": 87,
     "metadata": {},
     "output_type": "execute_result"
    }
   ],
   "source": [
    "stddev_diffs.T"
   ]
  },
  {
   "cell_type": "code",
   "execution_count": 88,
   "metadata": {},
   "outputs": [],
   "source": [
    "dist_from_1 = (1. - stddev_diffs.T[[\"median_fill\", \"zero_fill\"]]).abs()\n",
    "dist_from_1[\"min_diff\"] = dist_from_1.min(axis = 1)"
   ]
  },
  {
   "cell_type": "code",
   "execution_count": 90,
   "metadata": {},
   "outputs": [
    {
     "data": {
      "text/plain": [
       "<Axes: >"
      ]
     },
     "execution_count": 90,
     "metadata": {},
     "output_type": "execute_result"
    },
    {
     "data": {
      "image/png": "[encoded data removed]",
      "text/plain": [
       "<Figure size 640x480 with 1 Axes>"
      ]
     },
     "metadata": {},
     "output_type": "display_data"
    }
   ],
   "source": [
    "dist_from_1[\"min_diff\"].hist()"
   ]
  },
  {
   "cell_type": "code",
   "execution_count": 91,
   "metadata": {},
   "outputs": [
    {
     "data": {
      "text/plain": [
       "129"
      ]
     },
     "execution_count": 91,
     "metadata": {},
     "output_type": "execute_result"
    }
   ],
   "source": [
    "(dist_from_1[\"min_diff\"] >= .1).sum()"
   ]
  },
  {
   "cell_type": "code",
   "execution_count": 92,
   "metadata": {},
   "outputs": [
    {
     "data": {
      "text/plain": [
       "206"
      ]
     },
     "execution_count": 92,
     "metadata": {},
     "output_type": "execute_result"
    }
   ],
   "source": [
    "# Amount of features whose difference in standard deviation after median or zero fill is less than 10% of original standard deviation\n",
    "(dist_from_1[\"min_diff\"] < .1).sum()"
   ]
  },
  {
   "cell_type": "code",
   "execution_count": 98,
   "metadata": {},
   "outputs": [
    {
     "data": {
      "text/plain": [
       "<Axes: >"
      ]
     },
     "execution_count": 98,
     "metadata": {},
     "output_type": "execute_result"
    },
    {
     "data": {
      "image/png": "[encoded data removed]",
      "text/plain": [
       "<Figure size 640x480 with 1 Axes>"
      ]
     },
     "metadata": {},
     "output_type": "display_data"
    }
   ],
   "source": [
    "stddev_diffs.loc[\"method\"].hist()"
   ]
  },
  {
   "cell_type": "code",
   "execution_count": 97,
   "metadata": {},
   "outputs": [
    {
     "data": {
      "text/plain": [
       "<Axes: >"
      ]
     },
     "execution_count": 97,
     "metadata": {},
     "output_type": "execute_result"
    },
    {
     "data": {
      "image/png": "[encoded data removed]",
      "text/plain": [
       "<Figure size 640x480 with 1 Axes>"
      ]
     },
     "metadata": {},
     "output_type": "display_data"
    }
   ],
   "source": [
    "stddev_diffs.T[dist_from_1[\"min_diff\"] < .1][\"method\"].hist()"
   ]
  },
  {
   "cell_type": "code",
   "execution_count": 104,
   "metadata": {},
   "outputs": [
    {
     "data": {
      "text/html": [
       "<div>\n",
       "<style scoped>\n",
       "    .dataframe tbody tr th:only-of-type {\n",
       "        vertical-align: middle;\n",
       "    }\n",
       "\n",
       "    .dataframe tbody tr th {\n",
       "        vertical-align: top;\n",
       "    }\n",
       "\n",
       "    .dataframe thead th {\n",
       "        text-align: right;\n",
       "    }\n",
       "</style>\n",
       "<table border=\"1\" class=\"dataframe\">\n",
       "  <thead>\n",
       "    <tr style=\"text-align: right;\">\n",
       "      <th></th>\n",
       "      <th>median_fill</th>\n",
       "      <th>zero_fill</th>\n",
       "      <th>method</th>\n",
       "    </tr>\n",
       "  </thead>\n",
       "  <tbody>\n",
       "    <tr>\n",
       "      <th>analysts_down</th>\n",
       "      <td>0.991211</td>\n",
       "      <td>0.997444</td>\n",
       "      <td>median</td>\n",
       "    </tr>\n",
       "    <tr>\n",
       "      <th>analysts_down_percent</th>\n",
       "      <td>0.988452</td>\n",
       "      <td>1.005208</td>\n",
       "      <td>median</td>\n",
       "    </tr>\n",
       "    <tr>\n",
       "      <th>analysts_down_percent_avg_5y</th>\n",
       "      <td>0.928791</td>\n",
       "      <td>1.364143</td>\n",
       "      <td>median</td>\n",
       "    </tr>\n",
       "    <tr>\n",
       "      <th>analysts_up</th>\n",
       "      <td>0.991011</td>\n",
       "      <td>0.997099</td>\n",
       "      <td>median</td>\n",
       "    </tr>\n",
       "    <tr>\n",
       "      <th>analysts_up_percent</th>\n",
       "      <td>0.988452</td>\n",
       "      <td>1.008689</td>\n",
       "      <td>median</td>\n",
       "    </tr>\n",
       "    <tr>\n",
       "      <th>...</th>\n",
       "      <td>...</td>\n",
       "      <td>...</td>\n",
       "      <td>...</td>\n",
       "    </tr>\n",
       "    <tr>\n",
       "      <th>EV-to-Revenue</th>\n",
       "      <td>0.990592</td>\n",
       "      <td>0.990614</td>\n",
       "      <td>median</td>\n",
       "    </tr>\n",
       "    <tr>\n",
       "      <th>EV-to-Forward-Revenue</th>\n",
       "      <td>0.954</td>\n",
       "      <td>0.95432</td>\n",
       "      <td>median</td>\n",
       "    </tr>\n",
       "    <tr>\n",
       "      <th>EV-to-FCF</th>\n",
       "      <td>0.999415</td>\n",
       "      <td>0.999415</td>\n",
       "      <td>zero</td>\n",
       "    </tr>\n",
       "    <tr>\n",
       "      <th>Price-to-Median-PS-Value</th>\n",
       "      <td>0.80156</td>\n",
       "      <td>1.003722</td>\n",
       "      <td>median</td>\n",
       "    </tr>\n",
       "    <tr>\n",
       "      <th>Earnings_Yield__Greenblatt__%</th>\n",
       "      <td>0.961072</td>\n",
       "      <td>0.961276</td>\n",
       "      <td>median</td>\n",
       "    </tr>\n",
       "  </tbody>\n",
       "</table>\n",
       "<p>206 rows × 3 columns</p>\n",
       "</div>"
      ],
      "text/plain": [
       "                              median_fill zero_fill  method\n",
       "analysts_down                    0.991211  0.997444  median\n",
       "analysts_down_percent            0.988452  1.005208  median\n",
       "analysts_down_percent_avg_5y     0.928791  1.364143  median\n",
       "analysts_up                      0.991011  0.997099  median\n",
       "analysts_up_percent              0.988452  1.008689  median\n",
       "...                                   ...       ...     ...\n",
       "EV-to-Revenue                    0.990592  0.990614  median\n",
       "EV-to-Forward-Revenue               0.954   0.95432  median\n",
       "EV-to-FCF                        0.999415  0.999415    zero\n",
       "Price-to-Median-PS-Value          0.80156  1.003722  median\n",
       "Earnings_Yield__Greenblatt__%    0.961072  0.961276  median\n",
       "\n",
       "[206 rows x 3 columns]"
      ]
     },
     "execution_count": 104,
     "metadata": {},
     "output_type": "execute_result"
    }
   ],
   "source": [
    "stddev_diffs.T[dist_from_1[\"min_diff\"] < .1]"
   ]
  },
  {
   "cell_type": "code",
   "execution_count": 115,
   "metadata": {},
   "outputs": [],
   "source": [
    "def fill_median_or_zero_by_thresh(df: pd.DataFrame, thresh: float):\n",
    "\tdef stddev_diff(col):\n",
    "\t\tstddev_median_diff = col.fillna(col.median()).std() / col.std()\n",
    "\t\tstddev_zero_diff = col.fillna(0.).std() / col.std()\n",
    "\t\treturn (stddev_median_diff, stddev_zero_diff, \"median\" if stddev_median_diff <= stddev_zero_diff else \"zero\")\n",
    "\t\n",
    "\tfloat_df = df.select_dtypes([int, float])\n",
    "\tstddev_diffs = float_df.apply(stddev_diff).rename(index = {0: \"median_fill\", 1: \"zero_fill\", 2: \"method\"})\n",
    "\tdist_from_1 = (1. - stddev_diffs.T[[\"median_fill\", \"zero_fill\"]]).abs()\n",
    "\tdist_from_1[\"min_diff\"] = dist_from_1.min(axis = 1)\n",
    "\tpassed_diffs = stddev_diffs.T[dist_from_1[\"min_diff\"] <= thresh]\n",
    "\n",
    "\tdef apply_imputation(col: pd.Series):\n",
    "\t\tif col.name in passed_diffs.index:\n",
    "\t\t\tmethod = passed_diffs.loc[col.name][\"method\"]\n",
    "\t\t\tif method == \"zero\":\n",
    "\t\t\t\treturn col.fillna(0.)\n",
    "\t\t\telif method == \"median\":\n",
    "\t\t\t\treturn col.fillna(col.median())\n",
    "\t\treturn col\n",
    "\t\n",
    "\treturn df.apply(apply_imputation)"
   ]
  },
  {
   "cell_type": "code",
   "execution_count": 116,
   "metadata": {},
   "outputs": [
    {
     "data": {
      "text/plain": [
       "False"
      ]
     },
     "execution_count": 116,
     "metadata": {},
     "output_type": "execute_result"
    }
   ],
   "source": [
    "\"foobar\" in joined_df.columns"
   ]
  },
  {
   "cell_type": "code",
   "execution_count": 117,
   "metadata": {},
   "outputs": [
    {
     "data": {
      "text/html": [
       "<div>\n",
       "<style scoped>\n",
       "    .dataframe tbody tr th:only-of-type {\n",
       "        vertical-align: middle;\n",
       "    }\n",
       "\n",
       "    .dataframe tbody tr th {\n",
       "        vertical-align: top;\n",
       "    }\n",
       "\n",
       "    .dataframe thead th {\n",
       "        text-align: right;\n",
       "    }\n",
       "</style>\n",
       "<table border=\"1\" class=\"dataframe\">\n",
       "  <thead>\n",
       "    <tr style=\"text-align: right;\">\n",
       "      <th></th>\n",
       "      <th></th>\n",
       "      <th>altman_z_score</th>\n",
       "      <th>analysts_down</th>\n",
       "      <th>analysts_down_percent</th>\n",
       "      <th>analysts_down_percent_avg_5y</th>\n",
       "      <th>analysts_up</th>\n",
       "      <th>analysts_up_percent</th>\n",
       "      <th>analysts_up_percent_avg_5y</th>\n",
       "      <th>assets_turnover</th>\n",
       "      <th>assets_turnover_avg_5y</th>\n",
       "      <th>authors_count</th>\n",
       "      <th>...</th>\n",
       "      <th>area</th>\n",
       "      <th>Price-to-DCF__Earnings_Based_</th>\n",
       "      <th>Price-to-DCF__FCF_Based_</th>\n",
       "      <th>Price-to-Net-Current-Asset-Value</th>\n",
       "      <th>Price-to-Net-Cash</th>\n",
       "      <th>Price-to-FFO</th>\n",
       "      <th>Volume</th>\n",
       "      <th>Avg_Volume__2M_</th>\n",
       "      <th>Market_Cap</th>\n",
       "      <th>Enterprise_Value</th>\n",
       "    </tr>\n",
       "    <tr>\n",
       "      <th>date</th>\n",
       "      <th>ticker</th>\n",
       "      <th></th>\n",
       "      <th></th>\n",
       "      <th></th>\n",
       "      <th></th>\n",
       "      <th></th>\n",
       "      <th></th>\n",
       "      <th></th>\n",
       "      <th></th>\n",
       "      <th></th>\n",
       "      <th></th>\n",
       "      <th></th>\n",
       "      <th></th>\n",
       "      <th></th>\n",
       "      <th></th>\n",
       "      <th></th>\n",
       "      <th></th>\n",
       "      <th></th>\n",
       "      <th></th>\n",
       "      <th></th>\n",
       "      <th></th>\n",
       "      <th></th>\n",
       "    </tr>\n",
       "  </thead>\n",
       "  <tbody>\n",
       "    <tr>\n",
       "      <th rowspan=\"5\" valign=\"top\">2023-09-28</th>\n",
       "      <th>A</th>\n",
       "      <td>6.153144</td>\n",
       "      <td>15.0</td>\n",
       "      <td>100.000000</td>\n",
       "      <td>12.759212</td>\n",
       "      <td>0.0</td>\n",
       "      <td>0.000000</td>\n",
       "      <td>87.240790</td>\n",
       "      <td>0.661089</td>\n",
       "      <td>0.601508</td>\n",
       "      <td>4.0</td>\n",
       "      <td>...</td>\n",
       "      <td>Medical Diagnostics &amp; Research</td>\n",
       "      <td>NaN</td>\n",
       "      <td>NaN</td>\n",
       "      <td>NaN</td>\n",
       "      <td>NaN</td>\n",
       "      <td>NaN</td>\n",
       "      <td>NaN</td>\n",
       "      <td>NaN</td>\n",
       "      <td>NaN</td>\n",
       "      <td>NaN</td>\n",
       "    </tr>\n",
       "    <tr>\n",
       "      <th>AA</th>\n",
       "      <td>1.401235</td>\n",
       "      <td>7.0</td>\n",
       "      <td>100.000000</td>\n",
       "      <td>60.404625</td>\n",
       "      <td>0.0</td>\n",
       "      <td>0.000000</td>\n",
       "      <td>39.595375</td>\n",
       "      <td>0.728491</td>\n",
       "      <td>0.757975</td>\n",
       "      <td>2.0</td>\n",
       "      <td>...</td>\n",
       "      <td>Metals &amp; Mining</td>\n",
       "      <td>NaN</td>\n",
       "      <td>NaN</td>\n",
       "      <td>NaN</td>\n",
       "      <td>NaN</td>\n",
       "      <td>NaN</td>\n",
       "      <td>NaN</td>\n",
       "      <td>NaN</td>\n",
       "      <td>NaN</td>\n",
       "      <td>NaN</td>\n",
       "    </tr>\n",
       "    <tr>\n",
       "      <th>AAL</th>\n",
       "      <td>0.862385</td>\n",
       "      <td>9.0</td>\n",
       "      <td>52.941177</td>\n",
       "      <td>53.991806</td>\n",
       "      <td>8.0</td>\n",
       "      <td>47.058823</td>\n",
       "      <td>46.008194</td>\n",
       "      <td>0.782322</td>\n",
       "      <td>0.599356</td>\n",
       "      <td>7.0</td>\n",
       "      <td>...</td>\n",
       "      <td>Transportation</td>\n",
       "      <td>NaN</td>\n",
       "      <td>NaN</td>\n",
       "      <td>NaN</td>\n",
       "      <td>NaN</td>\n",
       "      <td>NaN</td>\n",
       "      <td>NaN</td>\n",
       "      <td>NaN</td>\n",
       "      <td>NaN</td>\n",
       "      <td>NaN</td>\n",
       "    </tr>\n",
       "    <tr>\n",
       "      <th>AAP</th>\n",
       "      <td>2.266178</td>\n",
       "      <td>15.0</td>\n",
       "      <td>100.000000</td>\n",
       "      <td>39.274876</td>\n",
       "      <td>0.0</td>\n",
       "      <td>0.000000</td>\n",
       "      <td>60.725124</td>\n",
       "      <td>0.917976</td>\n",
       "      <td>0.929945</td>\n",
       "      <td>8.0</td>\n",
       "      <td>...</td>\n",
       "      <td>Retail - Cyclical</td>\n",
       "      <td>0.83</td>\n",
       "      <td>NaN</td>\n",
       "      <td>NaN</td>\n",
       "      <td>NaN</td>\n",
       "      <td>NaN</td>\n",
       "      <td>NaN</td>\n",
       "      <td>NaN</td>\n",
       "      <td>NaN</td>\n",
       "      <td>NaN</td>\n",
       "    </tr>\n",
       "    <tr>\n",
       "      <th>AAPL</th>\n",
       "      <td>7.639575</td>\n",
       "      <td>8.0</td>\n",
       "      <td>22.222221</td>\n",
       "      <td>23.935060</td>\n",
       "      <td>28.0</td>\n",
       "      <td>77.777780</td>\n",
       "      <td>76.064940</td>\n",
       "      <td>1.143769</td>\n",
       "      <td>0.929182</td>\n",
       "      <td>36.0</td>\n",
       "      <td>...</td>\n",
       "      <td>Hardware</td>\n",
       "      <td>1.29</td>\n",
       "      <td>1.27</td>\n",
       "      <td>NaN</td>\n",
       "      <td>NaN</td>\n",
       "      <td>NaN</td>\n",
       "      <td>NaN</td>\n",
       "      <td>NaN</td>\n",
       "      <td>NaN</td>\n",
       "      <td>NaN</td>\n",
       "    </tr>\n",
       "    <tr>\n",
       "      <th>...</th>\n",
       "      <th>...</th>\n",
       "      <td>...</td>\n",
       "      <td>...</td>\n",
       "      <td>...</td>\n",
       "      <td>...</td>\n",
       "      <td>...</td>\n",
       "      <td>...</td>\n",
       "      <td>...</td>\n",
       "      <td>...</td>\n",
       "      <td>...</td>\n",
       "      <td>...</td>\n",
       "      <td>...</td>\n",
       "      <td>...</td>\n",
       "      <td>...</td>\n",
       "      <td>...</td>\n",
       "      <td>...</td>\n",
       "      <td>...</td>\n",
       "      <td>...</td>\n",
       "      <td>...</td>\n",
       "      <td>...</td>\n",
       "      <td>...</td>\n",
       "      <td>...</td>\n",
       "    </tr>\n",
       "    <tr>\n",
       "      <th rowspan=\"5\" valign=\"top\">2023-10-06</th>\n",
       "      <th>ZS</th>\n",
       "      <td>4.317831</td>\n",
       "      <td>4.0</td>\n",
       "      <td>12.121212</td>\n",
       "      <td>16.023056</td>\n",
       "      <td>29.0</td>\n",
       "      <td>87.878784</td>\n",
       "      <td>83.976944</td>\n",
       "      <td>0.502082</td>\n",
       "      <td>0.490827</td>\n",
       "      <td>10.0</td>\n",
       "      <td>...</td>\n",
       "      <td>Software</td>\n",
       "      <td>NaN</td>\n",
       "      <td>NaN</td>\n",
       "      <td>3271.8</td>\n",
       "      <td>NaN</td>\n",
       "      <td>NaN</td>\n",
       "      <td>2370000.0</td>\n",
       "      <td>1800000.0</td>\n",
       "      <td>2.408000e+10</td>\n",
       "      <td>2.167000e+10</td>\n",
       "    </tr>\n",
       "    <tr>\n",
       "      <th>ZTO</th>\n",
       "      <td>4.868613</td>\n",
       "      <td>2.0</td>\n",
       "      <td>16.666666</td>\n",
       "      <td>50.419450</td>\n",
       "      <td>10.0</td>\n",
       "      <td>83.333336</td>\n",
       "      <td>49.580550</td>\n",
       "      <td>0.498667</td>\n",
       "      <td>0.510326</td>\n",
       "      <td>1.0</td>\n",
       "      <td>...</td>\n",
       "      <td>Transportation</td>\n",
       "      <td>NaN</td>\n",
       "      <td>NaN</td>\n",
       "      <td>NaN</td>\n",
       "      <td>NaN</td>\n",
       "      <td>NaN</td>\n",
       "      <td>2510000.0</td>\n",
       "      <td>2870000.0</td>\n",
       "      <td>2.006000e+10</td>\n",
       "      <td>1.996000e+10</td>\n",
       "    </tr>\n",
       "    <tr>\n",
       "      <th>ZTS</th>\n",
       "      <td>7.658604</td>\n",
       "      <td>2.0</td>\n",
       "      <td>16.666666</td>\n",
       "      <td>28.783968</td>\n",
       "      <td>10.0</td>\n",
       "      <td>83.333336</td>\n",
       "      <td>71.216034</td>\n",
       "      <td>0.597550</td>\n",
       "      <td>0.566958</td>\n",
       "      <td>3.0</td>\n",
       "      <td>...</td>\n",
       "      <td>Drug Manufacturers</td>\n",
       "      <td>1.18</td>\n",
       "      <td>2.04</td>\n",
       "      <td>NaN</td>\n",
       "      <td>NaN</td>\n",
       "      <td>NaN</td>\n",
       "      <td>1490000.0</td>\n",
       "      <td>1640000.0</td>\n",
       "      <td>8.082000e+10</td>\n",
       "      <td>8.421000e+10</td>\n",
       "    </tr>\n",
       "    <tr>\n",
       "      <th>ZUO</th>\n",
       "      <td>0.155362</td>\n",
       "      <td>0.0</td>\n",
       "      <td>0.000000</td>\n",
       "      <td>24.833600</td>\n",
       "      <td>6.0</td>\n",
       "      <td>100.000000</td>\n",
       "      <td>75.166400</td>\n",
       "      <td>0.618500</td>\n",
       "      <td>0.803774</td>\n",
       "      <td>3.0</td>\n",
       "      <td>...</td>\n",
       "      <td>Software</td>\n",
       "      <td>NaN</td>\n",
       "      <td>NaN</td>\n",
       "      <td>NaN</td>\n",
       "      <td>NaN</td>\n",
       "      <td>NaN</td>\n",
       "      <td>886140.0</td>\n",
       "      <td>852430.0</td>\n",
       "      <td>1.120000e+09</td>\n",
       "      <td>9.729000e+08</td>\n",
       "    </tr>\n",
       "    <tr>\n",
       "      <th>ZWS</th>\n",
       "      <td>2.461064</td>\n",
       "      <td>0.0</td>\n",
       "      <td>0.000000</td>\n",
       "      <td>40.450850</td>\n",
       "      <td>7.0</td>\n",
       "      <td>100.000000</td>\n",
       "      <td>59.549150</td>\n",
       "      <td>0.770831</td>\n",
       "      <td>0.575590</td>\n",
       "      <td>1.0</td>\n",
       "      <td>...</td>\n",
       "      <td>Industrial Products</td>\n",
       "      <td>NaN</td>\n",
       "      <td>NaN</td>\n",
       "      <td>NaN</td>\n",
       "      <td>NaN</td>\n",
       "      <td>NaN</td>\n",
       "      <td>2180000.0</td>\n",
       "      <td>865000.0</td>\n",
       "      <td>4.580000e+09</td>\n",
       "      <td>5.180000e+09</td>\n",
       "    </tr>\n",
       "  </tbody>\n",
       "</table>\n",
       "<p>11109 rows × 337 columns</p>\n",
       "</div>"
      ],
      "text/plain": [
       "                   altman_z_score  analysts_down  analysts_down_percent  \\\n",
       "date       ticker                                                         \n",
       "2023-09-28 A             6.153144           15.0             100.000000   \n",
       "           AA            1.401235            7.0             100.000000   \n",
       "           AAL           0.862385            9.0              52.941177   \n",
       "           AAP           2.266178           15.0             100.000000   \n",
       "           AAPL          7.639575            8.0              22.222221   \n",
       "...                           ...            ...                    ...   \n",
       "2023-10-06 ZS            4.317831            4.0              12.121212   \n",
       "           ZTO           4.868613            2.0              16.666666   \n",
       "           ZTS           7.658604            2.0              16.666666   \n",
       "           ZUO           0.155362            0.0               0.000000   \n",
       "           ZWS           2.461064            0.0               0.000000   \n",
       "\n",
       "                   analysts_down_percent_avg_5y  analysts_up  \\\n",
       "date       ticker                                              \n",
       "2023-09-28 A                          12.759212          0.0   \n",
       "           AA                         60.404625          0.0   \n",
       "           AAL                        53.991806          8.0   \n",
       "           AAP                        39.274876          0.0   \n",
       "           AAPL                       23.935060         28.0   \n",
       "...                                         ...          ...   \n",
       "2023-10-06 ZS                         16.023056         29.0   \n",
       "           ZTO                        50.419450         10.0   \n",
       "           ZTS                        28.783968         10.0   \n",
       "           ZUO                        24.833600          6.0   \n",
       "           ZWS                        40.450850          7.0   \n",
       "\n",
       "                   analysts_up_percent  analysts_up_percent_avg_5y  \\\n",
       "date       ticker                                                    \n",
       "2023-09-28 A                  0.000000                   87.240790   \n",
       "           AA                 0.000000                   39.595375   \n",
       "           AAL               47.058823                   46.008194   \n",
       "           AAP                0.000000                   60.725124   \n",
       "           AAPL              77.777780                   76.064940   \n",
       "...                                ...                         ...   \n",
       "2023-10-06 ZS                87.878784                   83.976944   \n",
       "           ZTO               83.333336                   49.580550   \n",
       "           ZTS               83.333336                   71.216034   \n",
       "           ZUO              100.000000                   75.166400   \n",
       "           ZWS              100.000000                   59.549150   \n",
       "\n",
       "                   assets_turnover  assets_turnover_avg_5y  authors_count  \\\n",
       "date       ticker                                                           \n",
       "2023-09-28 A              0.661089                0.601508            4.0   \n",
       "           AA             0.728491                0.757975            2.0   \n",
       "           AAL            0.782322                0.599356            7.0   \n",
       "           AAP            0.917976                0.929945            8.0   \n",
       "           AAPL           1.143769                0.929182           36.0   \n",
       "...                            ...                     ...            ...   \n",
       "2023-10-06 ZS             0.502082                0.490827           10.0   \n",
       "           ZTO            0.498667                0.510326            1.0   \n",
       "           ZTS            0.597550                0.566958            3.0   \n",
       "           ZUO            0.618500                0.803774            3.0   \n",
       "           ZWS            0.770831                0.575590            1.0   \n",
       "\n",
       "                   ...                            area  \\\n",
       "date       ticker  ...                                   \n",
       "2023-09-28 A       ...  Medical Diagnostics & Research   \n",
       "           AA      ...                 Metals & Mining   \n",
       "           AAL     ...                  Transportation   \n",
       "           AAP     ...               Retail - Cyclical   \n",
       "           AAPL    ...                        Hardware   \n",
       "...                ...                             ...   \n",
       "2023-10-06 ZS      ...                        Software   \n",
       "           ZTO     ...                  Transportation   \n",
       "           ZTS     ...              Drug Manufacturers   \n",
       "           ZUO     ...                        Software   \n",
       "           ZWS     ...             Industrial Products   \n",
       "\n",
       "                   Price-to-DCF__Earnings_Based_  Price-to-DCF__FCF_Based_  \\\n",
       "date       ticker                                                            \n",
       "2023-09-28 A                                 NaN                       NaN   \n",
       "           AA                                NaN                       NaN   \n",
       "           AAL                               NaN                       NaN   \n",
       "           AAP                              0.83                       NaN   \n",
       "           AAPL                             1.29                      1.27   \n",
       "...                                          ...                       ...   \n",
       "2023-10-06 ZS                                NaN                       NaN   \n",
       "           ZTO                               NaN                       NaN   \n",
       "           ZTS                              1.18                      2.04   \n",
       "           ZUO                               NaN                       NaN   \n",
       "           ZWS                               NaN                       NaN   \n",
       "\n",
       "                   Price-to-Net-Current-Asset-Value  Price-to-Net-Cash  \\\n",
       "date       ticker                                                        \n",
       "2023-09-28 A                                    NaN                NaN   \n",
       "           AA                                   NaN                NaN   \n",
       "           AAL                                  NaN                NaN   \n",
       "           AAP                                  NaN                NaN   \n",
       "           AAPL                                 NaN                NaN   \n",
       "...                                             ...                ...   \n",
       "2023-10-06 ZS                                3271.8                NaN   \n",
       "           ZTO                                  NaN                NaN   \n",
       "           ZTS                                  NaN                NaN   \n",
       "           ZUO                                  NaN                NaN   \n",
       "           ZWS                                  NaN                NaN   \n",
       "\n",
       "                   Price-to-FFO     Volume  Avg_Volume__2M_    Market_Cap  \\\n",
       "date       ticker                                                           \n",
       "2023-09-28 A                NaN        NaN              NaN           NaN   \n",
       "           AA               NaN        NaN              NaN           NaN   \n",
       "           AAL              NaN        NaN              NaN           NaN   \n",
       "           AAP              NaN        NaN              NaN           NaN   \n",
       "           AAPL             NaN        NaN              NaN           NaN   \n",
       "...                         ...        ...              ...           ...   \n",
       "2023-10-06 ZS               NaN  2370000.0        1800000.0  2.408000e+10   \n",
       "           ZTO              NaN  2510000.0        2870000.0  2.006000e+10   \n",
       "           ZTS              NaN  1490000.0        1640000.0  8.082000e+10   \n",
       "           ZUO              NaN   886140.0         852430.0  1.120000e+09   \n",
       "           ZWS              NaN  2180000.0         865000.0  4.580000e+09   \n",
       "\n",
       "                   Enterprise_Value  \n",
       "date       ticker                    \n",
       "2023-09-28 A                    NaN  \n",
       "           AA                   NaN  \n",
       "           AAL                  NaN  \n",
       "           AAP                  NaN  \n",
       "           AAPL                 NaN  \n",
       "...                             ...  \n",
       "2023-10-06 ZS          2.167000e+10  \n",
       "           ZTO         1.996000e+10  \n",
       "           ZTS         8.421000e+10  \n",
       "           ZUO         9.729000e+08  \n",
       "           ZWS         5.180000e+09  \n",
       "\n",
       "[11109 rows x 337 columns]"
      ]
     },
     "execution_count": 117,
     "metadata": {},
     "output_type": "execute_result"
    }
   ],
   "source": [
    "imputed_df = fill_median_or_zero_by_thresh(joined_df, 0.1)\n",
    "imputed_df"
   ]
  },
  {
   "cell_type": "code",
   "execution_count": 120,
   "metadata": {},
   "outputs": [
    {
     "data": {
      "text/plain": [
       "oper_income_fy1_market_cap        0\n",
       "levered_fcf_margin                0\n",
       "levered_fcf_margin_avg_5y         0\n",
       "levered_free_cash_flow            0\n",
       "levered_free_cash_flow_yoy        0\n",
       "                              ...  \n",
       "Price-to-Net-Cash              9852\n",
       "impliedmarketcap              10306\n",
       "cf_payout_avg_5y              10385\n",
       "Price-to-FFO                  10422\n",
       "peg_gaap_avg_5y               11030\n",
       "Length: 337, dtype: int64"
      ]
     },
     "execution_count": 120,
     "metadata": {},
     "output_type": "execute_result"
    }
   ],
   "source": [
    "imputed_df.isna().sum().sort_values()"
   ]
  },
  {
   "cell_type": "code",
   "execution_count": null,
   "metadata": {},
   "outputs": [],
   "source": []
  }
 ],
 "metadata": {
  "kernelspec": {
   "display_name": "QuantBearsDataAnalysis",
   "language": "python",
   "name": "python3"
  },
  "language_info": {
   "codemirror_mode": {
    "name": "ipython",
    "version": 3
   },
   "file_extension": ".py",
   "mimetype": "text/x-python",
   "name": "python",
   "nbconvert_exporter": "python",
   "pygments_lexer": "ipython3",
   "version": "3.9.18"
  }
 },
 "nbformat": 4,
 "nbformat_minor": 2
}
