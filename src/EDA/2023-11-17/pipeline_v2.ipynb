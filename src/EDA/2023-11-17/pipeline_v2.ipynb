{
 "cells": [
  {
   "cell_type": "code",
   "execution_count": 1,
   "metadata": {},
   "outputs": [],
   "source": [
    "import boto3\n",
    "import awswrangler as wr\n",
    "import pandas as pd\n",
    "import numpy as np\n",
    "from tqdm import tqdm\n",
    "\n",
    "import pandas as pd, warnings\n",
    "warnings.simplefilter(action='ignore', category=pd.errors.SettingWithCopyWarning)\n",
    "\n",
    "short_term_columns = ['analysts_down', 'analysts_down_percent', 'analysts_up_percent',\n",
    "       'authors_count', 'capm_alpha_60m', 'coefficient_of_variation_90d',\n",
    "       'debt_eq', 'div_growth_category', 'div_safety_category',\n",
    "       'dividends_estimate_fy1_analyst_down',\n",
    "       'dividends_estimate_fy1_analyst_up',\n",
    "       'dividends_estimate_fy2_analyst_down',\n",
    "       'dividends_estimate_fy2_analyst_up',\n",
    "       'dps_consensus_mean_percent_revisions_down_1_annual_period_fwd',\n",
    "       'eps_ltg', 'last_price_vs_sma_100d', 'last_price_vs_sma_10d',\n",
    "       'last_price_vs_sma_200d', 'last_price_vs_sma_50d', 'momentum_12m',\n",
    "       'momentum_3m', 'momentum_6m', 'momentum_9m', 'pb_ratio',\n",
    "       'price_return_1y', 'price_return_3m', 'price_return_6m',\n",
    "       'price_return_9m', 'return_on_net_tangible_assets',\n",
    "       'return_on_total_capital', 'Future_3-5Y_EPS_without_NRI_Growth_Rate',\n",
    "       'moment_rank', '5-Day_RSI', '9-Day_RSI', '14-Day_RSI',\n",
    "       '6-1_Month_Momentum_%', '12-1_Month_Momentum_%', 'ratios_rank',\n",
    "       'Forward_PE_Ratio', 'EV-to-Forward-EBITDA',\n",
    "       'Earnings_Yield__Greenblatt__%', 'Volume']\n",
    "\n",
    "accessKeys = pd.read_csv(\"../../quant-bears_accessKeys.csv\")\n",
    "session = boto3.Session(\n",
    "\taws_access_key_id=accessKeys.loc[0, \"Access key ID\"],\n",
    "\taws_secret_access_key=accessKeys.loc[0, \"Secret access key\"]\n",
    ")\n",
    "\n",
    "s3_collection_path = \"s3://quant-bears-data-collection/raw-data/\"\n",
    "s3_price_collection_path = \"s3://quant-bears-data-collection/raw-resolved-price/\"\n",
    "\n",
    "def load_data():\n",
    "\tdata_sources = [\"seekingAlpha.seekingAlphaBulkMetrics\", \"gurufocus\"]\n",
    "\tsources_dict = dict((source, wr.s3.list_objects(s3_collection_path + source + \"/\", boto3_session=session)) for source in data_sources)\n",
    "\tdf_dict = {}\n",
    "\tfor source in data_sources:\n",
    "\t\tdfs = []\n",
    "\t\tprint(source)\n",
    "\t\tfor path in tqdm(sources_dict[source]):\n",
    "\t\t\tnew_df = wr.s3.read_parquet(path, boto3_session=session)\n",
    "\t\t\tnew_df[\"date\"] = path.split(\"/\")[-1].split(\".\")[0]\n",
    "\t\t\tdfs.append(new_df)\n",
    "\n",
    "\t\tdf_dict[source] = pd.concat(dfs, axis = 0)\n",
    "\tjoined_df = pd.concat([df.set_index([\"date\", \"ticker\"]) for df in df_dict.values()], axis = 1)\n",
    "\treturn joined_df\n",
    "\n",
    "def load_pred_price(df, days_ahead=5, diff = True):\n",
    "\tall_dates = df.index.get_level_values(0).unique()\n",
    "\tadjusted_dates = all_dates[:-days_ahead]\n",
    "\tadjusted_df = df.loc[adjusted_dates]\n",
    "\n",
    "\tpred_dates = all_dates[days_ahead:]\n",
    "\tdfs = []\n",
    "\tfor i, d in enumerate(tqdm(pred_dates)):\n",
    "\t\tpath = s3_price_collection_path + d + \".parquet\"\n",
    "\t\tnew_df = wr.s3.read_parquet(path, boto3_session=session)\n",
    "\n",
    "\t\ts = df.loc[all_dates[i], \"primary_price\"]\n",
    "\t\tintersect_tickers = np.intersect1d(new_df[\"ticker\"].values, s[~s.isna()].index.values)\n",
    "\t\tnew_df = new_df[new_df[\"ticker\"].isin(intersect_tickers)]\n",
    "\t\tnew_df[\"date\"] = all_dates[i]\n",
    "\t\tdfs.append(new_df)\n",
    "\n",
    "\tprice_df = pd.concat(dfs, axis = 0).set_index([\"date\", \"ticker\"]).rename({\"primary_price\": \"pred_price\"}, axis = 1)\n",
    "\n",
    "\tif diff:\n",
    "\t\ta_df = adjusted_df.reindex(price_df.index)\n",
    "\t\treturn a_df, pd.Series((price_df[\"pred_price\"] - a_df[\"primary_price\"]) / a_df[\"primary_price\"], index=price_df.index)\n",
    "\treturn adjusted_df.reindex(price_df.index), price_df\n",
    "\n",
    "def split_date(all_dates, train_size = 0.75, days_ahead = 5):\n",
    "\tnum_dates = len(all_dates)\n",
    "\tnum_train_test_dates = num_dates - days_ahead\n",
    "\tnum_train_dates = int(num_train_test_dates * train_size)\n",
    "\n",
    "\ttrain_dates = all_dates[:num_train_dates]\n",
    "\tval_dates = all_dates[num_train_dates:num_train_dates+days_ahead]\n",
    "\ttest_dates = all_dates[num_train_dates+days_ahead:]\n",
    "\n",
    "\treturn train_dates, val_dates, test_dates\n",
    "\n",
    "def create_autoreg_features(df, short_term_features, num_days = 2):\n",
    "\tall_days = df.index.get_level_values(0).unique().sort_values()\n",
    "\n",
    "\tnew_df = pd.DataFrame()\n",
    "\tfor dayIndex in range(num_days, all_days.shape[0]):\n",
    "\t\tday = all_days[dayIndex]\n",
    "\n",
    "\t\tnewDayDf = df.loc[day]\n",
    "\t\tnewDayDf[\"date\"] = day\n",
    "\t\tcurrTickers = newDayDf.index.values\n",
    "\t\tfor prevIndex in range(num_days):\n",
    "\t\t\tprevDay = all_days[dayIndex - prevIndex]\n",
    "\t\t\tprevDayFeatures = df.loc[prevDay].reindex(currTickers)[short_term_features].add_suffix(f\"_prev_{prevIndex + 1}\")\n",
    "\t\t\tnewDayDf = pd.concat([newDayDf, prevDayFeatures], axis = 1)\n",
    "\t\t\n",
    "\t\tnew_df = pd.concat([new_df, newDayDf.set_index(\"date\", append = True)], axis = 0)\n",
    "\n",
    "\tautoreg_removed_rows = df.loc[all_days[:num_days]].shape[0]\n",
    "\n",
    "\tassert df.shape[0] - new_df.shape[0] == autoreg_removed_rows, \"Autoregression removed different amount of rows than expected\"\n",
    "\t\n",
    "\treturn new_df.reorder_levels([1, 0]).sort_index()"
   ]
  },
  {
   "cell_type": "markdown",
   "metadata": {},
   "source": [
    "### Steps:\n",
    "\n",
    "Load:\n",
    "\n",
    "- Load data\n",
    "- Create autoregressive features\n",
    "- Load prediction price\n",
    "- Split train/val/test dates\n",
    "- Split into train/val/test dataset\n",
    "\n",
    "Preprocess:\n",
    "\n",
    "- One-hot encoder for features: sector, area\n",
    "- Standard scaler for rest of features\n",
    "\t- ignore NaNs\n",
    "- Fit on train set"
   ]
  },
  {
   "cell_type": "code",
   "execution_count": 2,
   "metadata": {},
   "outputs": [
    {
     "name": "stdout",
     "output_type": "stream",
     "text": [
      "seekingAlpha.seekingAlphaBulkMetrics\n"
     ]
    },
    {
     "name": "stderr",
     "output_type": "stream",
     "text": [
      "100%|██████████| 35/35 [00:30<00:00,  1.14it/s]\n"
     ]
    },
    {
     "name": "stdout",
     "output_type": "stream",
     "text": [
      "gurufocus\n"
     ]
    },
    {
     "name": "stderr",
     "output_type": "stream",
     "text": [
      "100%|██████████| 35/35 [00:21<00:00,  1.60it/s]\n"
     ]
    },
    {
     "name": "stdout",
     "output_type": "stream",
     "text": [
      "Loaded data shape: (55341, 339)\n"
     ]
    },
    {
     "name": "stderr",
     "output_type": "stream",
     "text": [
      "100%|██████████| 30/30 [00:12<00:00,  2.42it/s]"
     ]
    },
    {
     "name": "stdout",
     "output_type": "stream",
     "text": [
      "Post loaded pred price: ((47093, 339), (47093,))\n",
      "# of train dates (18), val dates (5), test dates (7)\n",
      "Train shapes: ((28240, 339), (28240,))\n",
      "Val shapes: ((7729, 339), (7729,))\n",
      "Test shapes: ((11124, 339), (11124,))\n"
     ]
    },
    {
     "name": "stderr",
     "output_type": "stream",
     "text": [
      "\n"
     ]
    }
   ],
   "source": [
    "# Load\n",
    "\n",
    "warnings.simplefilter(action='ignore', category=pd.errors.PerformanceWarning)\n",
    "\n",
    "df = load_data()\n",
    "print(f\"Loaded data shape: {df.shape}\")\n",
    "autoreg_df = df\n",
    "# autoreg_df = create_autoreg_features(df, short_term_columns, num_days=2)\n",
    "# print(f\"Post autoregressive: {autoreg_df.shape}\")\n",
    "X_df, y_series = load_pred_price(autoreg_df, days_ahead = 5, diff = True)\n",
    "print(f\"Post loaded pred price: {X_df.shape, y_series.shape}\")\n",
    "\n",
    "train_dates, val_dates, test_dates = split_date(X_df.index.get_level_values(0).unique().sort_values())\n",
    "print(f\"# of train dates ({len(train_dates)}), val dates ({len(val_dates)}), test dates ({len(test_dates)})\")\n",
    "\n",
    "X_df = X_df.fillna({\"sector\": \"none\", \"area\": \"none\"})\n",
    "\n",
    "X_train, y_train = X_df.loc[train_dates], y_series.loc[train_dates]\n",
    "X_val, y_val = X_df.loc[val_dates], y_series.loc[val_dates]\n",
    "X_test, y_test = X_df.loc[test_dates], y_series.loc[test_dates]\n",
    "\n",
    "print(f\"Train shapes: {X_train.shape, y_train.shape}\")\n",
    "print(f\"Val shapes: {X_val.shape, y_val.shape}\")\n",
    "print(f\"Test shapes: {X_test.shape, y_test.shape}\")\n"
   ]
  },
  {
   "cell_type": "code",
   "execution_count": 3,
   "metadata": {},
   "outputs": [
    {
     "data": {
      "text/plain": [
       "sector    0\n",
       "area      0\n",
       "dtype: int64"
      ]
     },
     "execution_count": 3,
     "metadata": {},
     "output_type": "execute_result"
    }
   ],
   "source": [
    "X_val[[\"sector\", \"area\"]].isna().sum()"
   ]
  },
  {
   "cell_type": "code",
   "execution_count": 4,
   "metadata": {},
   "outputs": [],
   "source": [
    "# Preprocess\n",
    "from sklearn.preprocessing import OneHotEncoder, StandardScaler\n",
    "from sklearn.impute import SimpleImputer\n",
    "from sklearn.compose import ColumnTransformer\n",
    "from sklearn.pipeline import make_pipeline\n",
    "from xgboost import XGBRegressor\n",
    "\n",
    "onehot_features = [\"sector\", \"area\"]\n",
    "standard_scale_features = [f for f in X_train.columns.values if f not in onehot_features]\n",
    "\n",
    "preprocessor = ColumnTransformer(\n",
    "\ttransformers = [\n",
    "\t\t(\"medianImpute\", SimpleImputer(strategy=\"median\"), standard_scale_features),\n",
    "\t\t(\"onehot\", OneHotEncoder(sparse_output=False, handle_unknown=\"ignore\"), onehot_features),\n",
    "\t\t(\"std\", StandardScaler(), standard_scale_features)\n",
    "\t]\n",
    ")"
   ]
  },
  {
   "cell_type": "code",
   "execution_count": 5,
   "metadata": {},
   "outputs": [],
   "source": [
    "# Assemble pipeline\n",
    "from sklearn.metrics import mean_squared_error\n",
    "from sklearn.model_selection import PredefinedSplit, GridSearchCV\n",
    "\n",
    "def XGBoost_RMSE(X_train, y_train, X_val, y_val, X_test, y_test, preprocessor, param_grid):\n",
    "\t# lists to be returned \n",
    "\ttest_scores = []\n",
    "\tbest_models = []\n",
    "\n",
    "\tps = PredefinedSplit([-1 for i in range(X_train.shape[0])] + [0 for i in range(X_val.shape[0])])\n",
    "\n",
    "\tX_other = pd.concat([X_train, X_val], axis = 0).reset_index(drop = True)\n",
    "\ty_other = pd.concat([y_train, y_val], axis = 0).reset_index(drop = True)\n",
    "\n",
    "\t# your code here...\n",
    "\tfor state in range(5, 6):\n",
    "\n",
    "\t\t\t# print(\"Split shapes\")\n",
    "\t\t\t# print(X_other.shape, X_test.shape)\n",
    "\n",
    "\t\t\txgb_algo = XGBRegressor(random_state = state)\n",
    "\n",
    "\t\t\tpipe = make_pipeline(preprocessor, xgb_algo)\n",
    "\n",
    "\t\t\tgrid = GridSearchCV(\n",
    "\t\t\t\t\tpipe, cv = ps, param_grid = param_grid, scoring = \"neg_root_mean_squared_error\",\n",
    "\t\t\t\t\treturn_train_score = True, verbose = True)\n",
    "\n",
    "\t\t\tgrid.fit(X_other, y_other)\n",
    "\n",
    "\t\t\tprint(f\"Best params for random state: {state}\")\n",
    "\t\t\tprint(grid.best_params_)\n",
    "\n",
    "\t\t\ty_pred = grid.best_estimator_.predict(X_test)\n",
    "\n",
    "\t\t\trmse = mean_squared_error(y_test, y_pred, squared = False)\n",
    "\n",
    "\t\t\tprint(f\"RMSE for best estimator: {rmse:.2f}\")\n",
    "\n",
    "\t\t\ttest_scores.append(rmse)\n",
    "\t\t\tbest_models.append(grid.best_estimator_)\n",
    "\n",
    "\treturn test_scores, best_models"
   ]
  },
  {
   "cell_type": "code",
   "execution_count": 6,
   "metadata": {},
   "outputs": [
    {
     "name": "stdout",
     "output_type": "stream",
     "text": [
      "Fitting 1 folds for each of 108 candidates, totalling 108 fits\n",
      "Best params for random state: 5\n",
      "{'xgbregressor__gamma': 0.01, 'xgbregressor__learning_rate': 0.001, 'xgbregressor__n_estimators': 100, 'xgbregressor__reg_lambda': 0.5}\n",
      "RMSE for best estimator: 0.07\n"
     ]
    }
   ],
   "source": [
    "xgboost_param_grid = {\n",
    "\t# \"xgbregressor__eta\": TODO,\n",
    "\t\"xgbregressor__n_estimators\": [50, 100, 150],\n",
    "\t\"xgbregressor__gamma\": [0.1, 0.01, 0.001, 0.],\n",
    "\t'xgbregressor__learning_rate': [0.1, 0.01, 0.001],\n",
    "\t\"xgbregressor__reg_lambda\": [0.5, 1.0, 5.]\n",
    "}\n",
    "\n",
    "warnings.simplefilter(\"ignore\")\n",
    "\n",
    "grid_result = XGBoost_RMSE(X_train, y_train, X_val, y_val, X_test, y_test, preprocessor, xgboost_param_grid)"
   ]
  },
  {
   "cell_type": "code",
   "execution_count": 7,
   "metadata": {},
   "outputs": [],
   "source": [
    "y_pred = grid_result[1][0].predict(X_test)"
   ]
  },
  {
   "cell_type": "code",
   "execution_count": 8,
   "metadata": {},
   "outputs": [
    {
     "data": {
      "text/plain": [
       "(array([5.000e+00, 6.700e+01, 3.000e+01, 1.080e+02, 2.905e+03, 7.616e+03,\n",
       "        3.280e+02, 3.600e+01, 2.400e+01, 5.000e+00]),\n",
       " array([-0.0240921 , -0.01945065, -0.0148092 , -0.01016775, -0.0055263 ,\n",
       "        -0.00088485,  0.0037566 ,  0.00839805,  0.0130395 ,  0.01768095,\n",
       "         0.0223224 ]),\n",
       " <BarContainer object of 10 artists>)"
      ]
     },
     "execution_count": 8,
     "metadata": {},
     "output_type": "execute_result"
    },
    {
     "data": {
      "image/png": "[encoded data removed]",
      "text/plain": [
       "<Figure size 640x480 with 1 Axes>"
      ]
     },
     "metadata": {},
     "output_type": "display_data"
    }
   ],
   "source": [
    "import matplotlib.pyplot as plt\n",
    "\n",
    "plt.hist(y_pred)"
   ]
  },
  {
   "cell_type": "code",
   "execution_count": 16,
   "metadata": {},
   "outputs": [
    {
     "data": {
      "text/plain": [
       "(array([1.000e+00, 3.000e+00, 1.600e+01, 9.500e+01, 1.312e+03, 8.752e+03,\n",
       "        8.550e+02, 7.700e+01, 8.000e+00, 5.000e+00]),\n",
       " array([-0.71222179, -0.57888648, -0.44555118, -0.31221587, -0.17888057,\n",
       "        -0.04554526,  0.08779005,  0.22112535,  0.35446066,  0.48779596,\n",
       "         0.62113127]),\n",
       " <BarContainer object of 10 artists>)"
      ]
     },
     "execution_count": 16,
     "metadata": {},
     "output_type": "execute_result"
    },
    {
     "data": {
      "image/png": "[encoded data removed]",
      "text/plain": [
       "<Figure size 640x480 with 1 Axes>"
      ]
     },
     "metadata": {},
     "output_type": "display_data"
    }
   ],
   "source": [
    "plt.hist(y_test)"
   ]
  },
  {
   "cell_type": "code",
   "execution_count": 13,
   "metadata": {},
   "outputs": [
    {
     "data": {
      "text/plain": [
       "0.06821198865515292"
      ]
     },
     "execution_count": 13,
     "metadata": {},
     "output_type": "execute_result"
    }
   ],
   "source": [
    "mean_squared_error(y_test, y_pred, squared = False)"
   ]
  },
  {
   "cell_type": "code",
   "execution_count": 101,
   "metadata": {},
   "outputs": [
    {
     "data": {
      "text/plain": [
       "0.6240560949298813"
      ]
     },
     "execution_count": 101,
     "metadata": {},
     "output_type": "execute_result"
    }
   ],
   "source": [
    "from sklearn.metrics import accuracy_score\n",
    "\n",
    "accuracy_score(y_test > 0.0, y_pred > 0.0)"
   ]
  },
  {
   "cell_type": "code",
   "execution_count": 78,
   "metadata": {},
   "outputs": [
    {
     "data": {
      "text/plain": [
       "9577"
      ]
     },
     "execution_count": 78,
     "metadata": {},
     "output_type": "execute_result"
    }
   ],
   "source": [
    "y_test.shape[0]"
   ]
  },
  {
   "cell_type": "code",
   "execution_count": 1,
   "metadata": {},
   "outputs": [],
   "source": [
    "from xgboost.sklearn import XGBRegressor"
   ]
  },
  {
   "cell_type": "code",
   "execution_count": 2,
   "metadata": {},
   "outputs": [],
   "source": [
    "reg = XGBRegressor()"
   ]
  },
  {
   "cell_type": "code",
   "execution_count": 3,
   "metadata": {},
   "outputs": [
    {
     "data": {
      "text/html": [
       "<style>#sk-container-id-1 {color: black;}#sk-container-id-1 pre{padding: 0;}#sk-container-id-1 div.sk-toggleable {background-color: white;}#sk-container-id-1 label.sk-toggleable__label {cursor: pointer;display: block;width: 100%;margin-bottom: 0;padding: 0.3em;box-sizing: border-box;text-align: center;}#sk-container-id-1 label.sk-toggleable__label-arrow:before {content: \"▸\";float: left;margin-right: 0.25em;color: #696969;}#sk-container-id-1 label.sk-toggleable__label-arrow:hover:before {color: black;}#sk-container-id-1 div.sk-estimator:hover label.sk-toggleable__label-arrow:before {color: black;}#sk-container-id-1 div.sk-toggleable__content {max-height: 0;max-width: 0;overflow: hidden;text-align: left;background-color: #f0f8ff;}#sk-container-id-1 div.sk-toggleable__content pre {margin: 0.2em;color: black;border-radius: 0.25em;background-color: #f0f8ff;}#sk-container-id-1 input.sk-toggleable__control:checked~div.sk-toggleable__content {max-height: 200px;max-width: 100%;overflow: auto;}#sk-container-id-1 input.sk-toggleable__control:checked~label.sk-toggleable__label-arrow:before {content: \"▾\";}#sk-container-id-1 div.sk-estimator input.sk-toggleable__control:checked~label.sk-toggleable__label {background-color: #d4ebff;}#sk-container-id-1 div.sk-label input.sk-toggleable__control:checked~label.sk-toggleable__label {background-color: #d4ebff;}#sk-container-id-1 input.sk-hidden--visually {border: 0;clip: rect(1px 1px 1px 1px);clip: rect(1px, 1px, 1px, 1px);height: 1px;margin: -1px;overflow: hidden;padding: 0;position: absolute;width: 1px;}#sk-container-id-1 div.sk-estimator {font-family: monospace;background-color: #f0f8ff;border: 1px dotted black;border-radius: 0.25em;box-sizing: border-box;margin-bottom: 0.5em;}#sk-container-id-1 div.sk-estimator:hover {background-color: #d4ebff;}#sk-container-id-1 div.sk-parallel-item::after {content: \"\";width: 100%;border-bottom: 1px solid gray;flex-grow: 1;}#sk-container-id-1 div.sk-label:hover label.sk-toggleable__label {background-color: #d4ebff;}#sk-container-id-1 div.sk-serial::before {content: \"\";position: absolute;border-left: 1px solid gray;box-sizing: border-box;top: 0;bottom: 0;left: 50%;z-index: 0;}#sk-container-id-1 div.sk-serial {display: flex;flex-direction: column;align-items: center;background-color: white;padding-right: 0.2em;padding-left: 0.2em;position: relative;}#sk-container-id-1 div.sk-item {position: relative;z-index: 1;}#sk-container-id-1 div.sk-parallel {display: flex;align-items: stretch;justify-content: center;background-color: white;position: relative;}#sk-container-id-1 div.sk-item::before, #sk-container-id-1 div.sk-parallel-item::before {content: \"\";position: absolute;border-left: 1px solid gray;box-sizing: border-box;top: 0;bottom: 0;left: 50%;z-index: -1;}#sk-container-id-1 div.sk-parallel-item {display: flex;flex-direction: column;z-index: 1;position: relative;background-color: white;}#sk-container-id-1 div.sk-parallel-item:first-child::after {align-self: flex-end;width: 50%;}#sk-container-id-1 div.sk-parallel-item:last-child::after {align-self: flex-start;width: 50%;}#sk-container-id-1 div.sk-parallel-item:only-child::after {width: 0;}#sk-container-id-1 div.sk-dashed-wrapped {border: 1px dashed gray;margin: 0 0.4em 0.5em 0.4em;box-sizing: border-box;padding-bottom: 0.4em;background-color: white;}#sk-container-id-1 div.sk-label label {font-family: monospace;font-weight: bold;display: inline-block;line-height: 1.2em;}#sk-container-id-1 div.sk-label-container {text-align: center;}#sk-container-id-1 div.sk-container {/* jupyter's `normalize.less` sets `[hidden] { display: none; }` but bootstrap.min.css set `[hidden] { display: none !important; }` so we also need the `!important` here to be able to override the default hidden behavior on the sphinx rendered scikit-learn.org. See: https://github.com/scikit-learn/scikit-learn/issues/21755 */display: inline-block !important;position: relative;}#sk-container-id-1 div.sk-text-repr-fallback {display: none;}</style><div id=\"sk-container-id-1\" class=\"sk-top-container\"><div class=\"sk-text-repr-fallback\"><pre>XGBRegressor(base_score=None, booster=None, callbacks=None,\n",
       "             colsample_bylevel=None, colsample_bynode=None,\n",
       "             colsample_bytree=None, device=None, early_stopping_rounds=None,\n",
       "             enable_categorical=False, eval_metric=None, feature_types=None,\n",
       "             gamma=None, grow_policy=None, importance_type=None,\n",
       "             interaction_constraints=None, learning_rate=None, max_bin=None,\n",
       "             max_cat_threshold=None, max_cat_to_onehot=None,\n",
       "             max_delta_step=None, max_depth=None, max_leaves=None,\n",
       "             min_child_weight=None, missing=nan, monotone_constraints=None,\n",
       "             multi_strategy=None, n_estimators=None, n_jobs=None,\n",
       "             num_parallel_tree=None, random_state=None, ...)</pre><b>In a Jupyter environment, please rerun this cell to show the HTML representation or trust the notebook. <br />On GitHub, the HTML representation is unable to render, please try loading this page with nbviewer.org.</b></div><div class=\"sk-container\" hidden><div class=\"sk-item\"><div class=\"sk-estimator sk-toggleable\"><input class=\"sk-toggleable__control sk-hidden--visually\" id=\"sk-estimator-id-1\" type=\"checkbox\" checked><label for=\"sk-estimator-id-1\" class=\"sk-toggleable__label sk-toggleable__label-arrow\">XGBRegressor</label><div class=\"sk-toggleable__content\"><pre>XGBRegressor(base_score=None, booster=None, callbacks=None,\n",
       "             colsample_bylevel=None, colsample_bynode=None,\n",
       "             colsample_bytree=None, device=None, early_stopping_rounds=None,\n",
       "             enable_categorical=False, eval_metric=None, feature_types=None,\n",
       "             gamma=None, grow_policy=None, importance_type=None,\n",
       "             interaction_constraints=None, learning_rate=None, max_bin=None,\n",
       "             max_cat_threshold=None, max_cat_to_onehot=None,\n",
       "             max_delta_step=None, max_depth=None, max_leaves=None,\n",
       "             min_child_weight=None, missing=nan, monotone_constraints=None,\n",
       "             multi_strategy=None, n_estimators=None, n_jobs=None,\n",
       "             num_parallel_tree=None, random_state=None, ...)</pre></div></div></div></div></div>"
      ],
      "text/plain": [
       "XGBRegressor(base_score=None, booster=None, callbacks=None,\n",
       "             colsample_bylevel=None, colsample_bynode=None,\n",
       "             colsample_bytree=None, device=None, early_stopping_rounds=None,\n",
       "             enable_categorical=False, eval_metric=None, feature_types=None,\n",
       "             gamma=None, grow_policy=None, importance_type=None,\n",
       "             interaction_constraints=None, learning_rate=None, max_bin=None,\n",
       "             max_cat_threshold=None, max_cat_to_onehot=None,\n",
       "             max_delta_step=None, max_depth=None, max_leaves=None,\n",
       "             min_child_weight=None, missing=nan, monotone_constraints=None,\n",
       "             multi_strategy=None, n_estimators=None, n_jobs=None,\n",
       "             num_parallel_tree=None, random_state=None, ...)"
      ]
     },
     "execution_count": 3,
     "metadata": {},
     "output_type": "execute_result"
    }
   ],
   "source": [
    "reg"
   ]
  },
  {
   "cell_type": "code",
   "execution_count": 4,
   "metadata": {},
   "outputs": [],
   "source": [
    "reg.n_estimators"
   ]
  },
  {
   "cell_type": "code",
   "execution_count": null,
   "metadata": {},
   "outputs": [],
   "source": []
  }
 ],
 "metadata": {
  "kernelspec": {
   "display_name": "QuantBearsDataAnalysis",
   "language": "python",
   "name": "python3"
  },
  "language_info": {
   "codemirror_mode": {
    "name": "ipython",
    "version": 3
   },
   "file_extension": ".py",
   "mimetype": "text/x-python",
   "name": "python",
   "nbconvert_exporter": "python",
   "pygments_lexer": "ipython3",
   "version": "3.9.18"
  }
 },
 "nbformat": 4,
 "nbformat_minor": 2
}
