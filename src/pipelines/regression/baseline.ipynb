{
 "cells": [
  {
   "cell_type": "code",
   "execution_count": 1,
   "metadata": {},
   "outputs": [],
   "source": [
    "import pandas as pd\n",
    "import numpy as np\n",
    "from tqdm import tqdm\n",
    "\n",
    "import pandas as pd, warnings\n",
    "# warnings.simplefilter(action='ignore', category=pd.errors.SettingWithCopyWarning)\n",
    "\n",
    "path_to_data_dir = \"../../data/\"\n",
    "\n",
    "def load_local_preprocessed_data():\n",
    "\tX_train = pd.read_csv(path_to_data_dir + \"prep_X_train.csv\").set_index([\"date\", \"ticker\"])\n",
    "\tX_val = pd.read_csv(path_to_data_dir + \"prep_X_val.csv\").set_index([\"date\", \"ticker\"])\n",
    "\tX_test = pd.read_csv(path_to_data_dir + \"prep_X_test.csv\").set_index([\"date\", \"ticker\"])\n",
    "\ttarget = pd.read_csv(path_to_data_dir + \"s&p_adjusted_target.csv\").set_index([\"date\", \"ticker\"])\n",
    "\treturn X_train, X_val, X_test, target[\"change_adj_s&p\"]"
   ]
  },
  {
   "cell_type": "code",
   "execution_count": 2,
   "metadata": {},
   "outputs": [
    {
     "name": "stdout",
     "output_type": "stream",
     "text": [
      "# of train dates (17), val dates (5), test dates (7)\n",
      "Train shapes: ((26571, 380), (26571,))\n",
      "Val shapes: ((7778, 380), (7778,))\n",
      "Test shapes: ((11263, 380), (11263,))\n"
     ]
    }
   ],
   "source": [
    "# Load data\n",
    "X_train, X_val, X_test, y_series = load_local_preprocessed_data()\n",
    "\n",
    "train_dates, val_dates, test_dates = list(map(lambda df: df.index.get_level_values(0).unique().sort_values(), [X_train, X_val, X_test]))\n",
    "print(f\"# of train dates ({len(train_dates)}), val dates ({len(val_dates)}), test dates ({len(test_dates)})\")\n",
    "\n",
    "y_train = y_series.loc[train_dates]\n",
    "y_val = y_series.loc[val_dates]\n",
    "y_test = y_series.loc[test_dates]\n",
    "\n",
    "print(f\"Train shapes: {X_train.shape, y_train.shape}\")\n",
    "print(f\"Val shapes: {X_val.shape, y_val.shape}\")\n",
    "print(f\"Test shapes: {X_test.shape, y_test.shape}\")"
   ]
  },
  {
   "cell_type": "markdown",
   "metadata": {},
   "source": [
    "## Calculating Baseline RMSE\n",
    "\n",
    "To calculate baseline RMSE scores, we predict the average of the target variable in the training set for all train and test samples."
   ]
  },
  {
   "cell_type": "code",
   "execution_count": 4,
   "metadata": {},
   "outputs": [
    {
     "name": "stdout",
     "output_type": "stream",
     "text": [
      "Train baseline rmse: 0.1143580539253659\n",
      "Val baseline rmse: 0.07161224650535102\n",
      "Test baseline rmse: 0.0653729970420981\n"
     ]
    }
   ],
   "source": [
    "from sklearn.metrics import mean_squared_error\n",
    "\n",
    "baseline_pred = y_train.median()\n",
    "\n",
    "train_baseline_rmse = mean_squared_error(y_train.values, baseline_pred * np.ones_like(y_train.values), squared=False)\n",
    "val_baseline_rmse = mean_squared_error(y_val.values, baseline_pred * np.ones_like(y_val.values), squared=False)\n",
    "test_baseline_rmse = mean_squared_error(y_test.values, baseline_pred * np.ones_like(y_test.values), squared = False)\n",
    "\n",
    "print(f\"Train baseline rmse: {train_baseline_rmse}\")\n",
    "print(f\"Val baseline rmse: {val_baseline_rmse}\")\n",
    "print(f\"Test baseline rmse: {test_baseline_rmse}\")"
   ]
  },
  {
   "cell_type": "code",
   "execution_count": null,
   "metadata": {},
   "outputs": [],
   "source": []
  }
 ],
 "metadata": {
  "kernelspec": {
   "display_name": "QuantBearsDataAnalysis",
   "language": "python",
   "name": "python3"
  },
  "language_info": {
   "codemirror_mode": {
    "name": "ipython",
    "version": 3
   },
   "file_extension": ".py",
   "mimetype": "text/x-python",
   "name": "python",
   "nbconvert_exporter": "python",
   "pygments_lexer": "ipython3",
   "version": "3.9.18"
  }
 },
 "nbformat": 4,
 "nbformat_minor": 2
}
