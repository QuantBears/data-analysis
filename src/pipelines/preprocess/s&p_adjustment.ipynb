{
 "cells": [
  {
   "cell_type": "code",
   "execution_count": 28,
   "metadata": {},
   "outputs": [
    {
     "name": "stderr",
     "output_type": "stream",
     "text": [
      "/var/folders/tq/51dxx6813y7g8dg44h973dmr0000gn/T/ipykernel_62352/1857336199.py:5: ParserWarning: Falling back to the 'python' engine because the 'c' engine does not support regex separators (separators > 1 char and different from '\\s+' are interpreted as regex); you can avoid this warning by specifying engine='python'.\n",
      "  sp_500 = pd.read_csv(path_to_data_dir + \"sp_500.csv\", sep=\", \").set_index(\"Date\")\n"
     ]
    }
   ],
   "source": [
    "import pandas as pd\n",
    "path_to_data_dir = \"../../data/\"\n",
    "\n",
    "targets = pd.read_csv(path_to_data_dir + \"target.csv\").set_index([\"date\", \"ticker\"])\n",
    "sp_500 = pd.read_csv(path_to_data_dir + \"sp_500.csv\", sep=\", \").set_index(\"Date\")"
   ]
  },
  {
   "cell_type": "code",
   "execution_count": 30,
   "metadata": {},
   "outputs": [],
   "source": [
    "sp_500.index = pd.to_datetime(sp_500.index, format = \"%m/%d/%y\").strftime(\"%Y-%m-%d\")"
   ]
  },
  {
   "cell_type": "code",
   "execution_count": 31,
   "metadata": {},
   "outputs": [
    {
     "data": {
      "text/html": [
       "<div>\n",
       "<style scoped>\n",
       "    .dataframe tbody tr th:only-of-type {\n",
       "        vertical-align: middle;\n",
       "    }\n",
       "\n",
       "    .dataframe tbody tr th {\n",
       "        vertical-align: top;\n",
       "    }\n",
       "\n",
       "    .dataframe thead th {\n",
       "        text-align: right;\n",
       "    }\n",
       "</style>\n",
       "<table border=\"1\" class=\"dataframe\">\n",
       "  <thead>\n",
       "    <tr style=\"text-align: right;\">\n",
       "      <th></th>\n",
       "      <th>Open</th>\n",
       "      <th>High</th>\n",
       "      <th>Low</th>\n",
       "      <th>Close</th>\n",
       "    </tr>\n",
       "    <tr>\n",
       "      <th>Date</th>\n",
       "      <th></th>\n",
       "      <th></th>\n",
       "      <th></th>\n",
       "      <th></th>\n",
       "    </tr>\n",
       "  </thead>\n",
       "  <tbody>\n",
       "    <tr>\n",
       "      <th>2023-09-01</th>\n",
       "      <td>4530.85</td>\n",
       "      <td>4541.25</td>\n",
       "      <td>4501.35</td>\n",
       "      <td>4515.77</td>\n",
       "    </tr>\n",
       "    <tr>\n",
       "      <th>2023-09-05</th>\n",
       "      <td>4510.06</td>\n",
       "      <td>4514.29</td>\n",
       "      <td>4496.01</td>\n",
       "      <td>4496.83</td>\n",
       "    </tr>\n",
       "    <tr>\n",
       "      <th>2023-09-06</th>\n",
       "      <td>4490.35</td>\n",
       "      <td>4490.35</td>\n",
       "      <td>4442.38</td>\n",
       "      <td>4465.48</td>\n",
       "    </tr>\n",
       "    <tr>\n",
       "      <th>2023-09-07</th>\n",
       "      <td>4434.55</td>\n",
       "      <td>4457.81</td>\n",
       "      <td>4430.46</td>\n",
       "      <td>4451.14</td>\n",
       "    </tr>\n",
       "    <tr>\n",
       "      <th>2023-09-08</th>\n",
       "      <td>4451.30</td>\n",
       "      <td>4473.53</td>\n",
       "      <td>4448.38</td>\n",
       "      <td>4457.49</td>\n",
       "    </tr>\n",
       "  </tbody>\n",
       "</table>\n",
       "</div>"
      ],
      "text/plain": [
       "               Open     High      Low    Close\n",
       "Date                                          \n",
       "2023-09-01  4530.85  4541.25  4501.35  4515.77\n",
       "2023-09-05  4510.06  4514.29  4496.01  4496.83\n",
       "2023-09-06  4490.35  4490.35  4442.38  4465.48\n",
       "2023-09-07  4434.55  4457.81  4430.46  4451.14\n",
       "2023-09-08  4451.30  4473.53  4448.38  4457.49"
      ]
     },
     "execution_count": 31,
     "metadata": {},
     "output_type": "execute_result"
    }
   ],
   "source": [
    "sp_500 = sp_500.sort_index()\n",
    "sp_500.head()"
   ]
  },
  {
   "cell_type": "code",
   "execution_count": 32,
   "metadata": {},
   "outputs": [],
   "source": [
    "import pandas_market_calendars as mcal\n",
    "import datetime\n",
    "def getPreviousMarketOpenDays(date: str, n: int):\n",
    "\t# Create a calendar\n",
    "\tnyse = mcal.get_calendar('NYSE')\n",
    "\tday = datetime.datetime.strptime(date, \"%Y-%m-%d\")\n",
    "\tschedule = nyse.schedule(\n",
    "\t\tstart_date = (day - datetime.timedelta(days = 20 + n*2)).strftime(\"%Y-%m-%d\"),\n",
    "\t\tend_date=day.strftime(\"%Y-%m-%d\"))\n",
    "\t\n",
    "\treturn schedule.index.strftime(\"%Y-%m-%d\").tolist()[-n:]"
   ]
  },
  {
   "cell_type": "code",
   "execution_count": 33,
   "metadata": {},
   "outputs": [
    {
     "data": {
      "text/plain": [
       "[-0.006269141253872679,\n",
       " -0.007767694131199154,\n",
       " 0.0004389225794314555,\n",
       " 0.012122737096563974,\n",
       " -0.001608528566525158]"
      ]
     },
     "execution_count": 33,
     "metadata": {},
     "output_type": "execute_result"
    }
   ],
   "source": [
    "all_datetimes = targets.index.get_level_values(0).unique()\n",
    "\n",
    "pct_change_col = []\n",
    "\n",
    "for dt in sp_500.index.sort_values()[5:]:\n",
    "\tprev_datetime = getPreviousMarketOpenDays(dt, 6)[0]\n",
    "\n",
    "\tpct_change = (sp_500.loc[dt, \"Close\"] / sp_500.loc[prev_datetime, \"Close\"]) - 1.\n",
    "\tpct_change_col.append(pct_change)\n",
    "\n",
    "pct_change_col[:5]"
   ]
  },
  {
   "cell_type": "code",
   "execution_count": 34,
   "metadata": {},
   "outputs": [],
   "source": [
    "sp_500 = sp_500.iloc[:-5]\n",
    "sp_500[\"5_day_pct_change\"] = pct_change_col"
   ]
  },
  {
   "cell_type": "code",
   "execution_count": 35,
   "metadata": {},
   "outputs": [
    {
     "data": {
      "text/html": [
       "<div>\n",
       "<style scoped>\n",
       "    .dataframe tbody tr th:only-of-type {\n",
       "        vertical-align: middle;\n",
       "    }\n",
       "\n",
       "    .dataframe tbody tr th {\n",
       "        vertical-align: top;\n",
       "    }\n",
       "\n",
       "    .dataframe thead th {\n",
       "        text-align: right;\n",
       "    }\n",
       "</style>\n",
       "<table border=\"1\" class=\"dataframe\">\n",
       "  <thead>\n",
       "    <tr style=\"text-align: right;\">\n",
       "      <th></th>\n",
       "      <th>Open</th>\n",
       "      <th>High</th>\n",
       "      <th>Low</th>\n",
       "      <th>Close</th>\n",
       "      <th>5_day_pct_change</th>\n",
       "    </tr>\n",
       "    <tr>\n",
       "      <th>Date</th>\n",
       "      <th></th>\n",
       "      <th></th>\n",
       "      <th></th>\n",
       "      <th></th>\n",
       "      <th></th>\n",
       "    </tr>\n",
       "  </thead>\n",
       "  <tbody>\n",
       "    <tr>\n",
       "      <th>2023-09-01</th>\n",
       "      <td>4530.85</td>\n",
       "      <td>4541.25</td>\n",
       "      <td>4501.35</td>\n",
       "      <td>4515.77</td>\n",
       "      <td>-0.006269</td>\n",
       "    </tr>\n",
       "    <tr>\n",
       "      <th>2023-09-05</th>\n",
       "      <td>4510.06</td>\n",
       "      <td>4514.29</td>\n",
       "      <td>4496.01</td>\n",
       "      <td>4496.83</td>\n",
       "      <td>-0.007768</td>\n",
       "    </tr>\n",
       "    <tr>\n",
       "      <th>2023-09-06</th>\n",
       "      <td>4490.35</td>\n",
       "      <td>4490.35</td>\n",
       "      <td>4442.38</td>\n",
       "      <td>4465.48</td>\n",
       "      <td>0.000439</td>\n",
       "    </tr>\n",
       "    <tr>\n",
       "      <th>2023-09-07</th>\n",
       "      <td>4434.55</td>\n",
       "      <td>4457.81</td>\n",
       "      <td>4430.46</td>\n",
       "      <td>4451.14</td>\n",
       "      <td>0.012123</td>\n",
       "    </tr>\n",
       "    <tr>\n",
       "      <th>2023-09-08</th>\n",
       "      <td>4451.30</td>\n",
       "      <td>4473.53</td>\n",
       "      <td>4448.38</td>\n",
       "      <td>4457.49</td>\n",
       "      <td>-0.001609</td>\n",
       "    </tr>\n",
       "  </tbody>\n",
       "</table>\n",
       "</div>"
      ],
      "text/plain": [
       "               Open     High      Low    Close  5_day_pct_change\n",
       "Date                                                            \n",
       "2023-09-01  4530.85  4541.25  4501.35  4515.77         -0.006269\n",
       "2023-09-05  4510.06  4514.29  4496.01  4496.83         -0.007768\n",
       "2023-09-06  4490.35  4490.35  4442.38  4465.48          0.000439\n",
       "2023-09-07  4434.55  4457.81  4430.46  4451.14          0.012123\n",
       "2023-09-08  4451.30  4473.53  4448.38  4457.49         -0.001609"
      ]
     },
     "execution_count": 35,
     "metadata": {},
     "output_type": "execute_result"
    }
   ],
   "source": [
    "sp_500.head()"
   ]
  },
  {
   "cell_type": "code",
   "execution_count": 36,
   "metadata": {},
   "outputs": [
    {
     "data": {
      "text/plain": [
       "[-0.009654161918273396, -0.009654161918273396]"
      ]
     },
     "execution_count": 36,
     "metadata": {},
     "output_type": "execute_result"
    }
   ],
   "source": [
    "sp_change_col = []\n",
    "for dt in targets.index.get_level_values(0):\n",
    "\tsp_change_col.append(sp_500.loc[dt, \"5_day_pct_change\"])\n",
    "sp_change_col[:2]"
   ]
  },
  {
   "cell_type": "code",
   "execution_count": 37,
   "metadata": {},
   "outputs": [
    {
     "data": {
      "text/html": [
       "<div>\n",
       "<style scoped>\n",
       "    .dataframe tbody tr th:only-of-type {\n",
       "        vertical-align: middle;\n",
       "    }\n",
       "\n",
       "    .dataframe tbody tr th {\n",
       "        vertical-align: top;\n",
       "    }\n",
       "\n",
       "    .dataframe thead th {\n",
       "        text-align: right;\n",
       "    }\n",
       "</style>\n",
       "<table border=\"1\" class=\"dataframe\">\n",
       "  <thead>\n",
       "    <tr style=\"text-align: right;\">\n",
       "      <th></th>\n",
       "      <th></th>\n",
       "      <th>target</th>\n",
       "      <th>s&amp;p_change</th>\n",
       "    </tr>\n",
       "    <tr>\n",
       "      <th>date</th>\n",
       "      <th>ticker</th>\n",
       "      <th></th>\n",
       "      <th></th>\n",
       "    </tr>\n",
       "  </thead>\n",
       "  <tbody>\n",
       "    <tr>\n",
       "      <th rowspan=\"5\" valign=\"top\">2023-09-28</th>\n",
       "      <th>AEO</th>\n",
       "      <td>0.079344</td>\n",
       "      <td>-0.009654</td>\n",
       "    </tr>\n",
       "    <tr>\n",
       "      <th>AAPL</th>\n",
       "      <td>0.009886</td>\n",
       "      <td>-0.009654</td>\n",
       "    </tr>\n",
       "    <tr>\n",
       "      <th>AEE</th>\n",
       "      <td>-0.052310</td>\n",
       "      <td>-0.009654</td>\n",
       "    </tr>\n",
       "    <tr>\n",
       "      <th>AEP</th>\n",
       "      <td>-0.039953</td>\n",
       "      <td>-0.009654</td>\n",
       "    </tr>\n",
       "    <tr>\n",
       "      <th>AES</th>\n",
       "      <td>-0.167718</td>\n",
       "      <td>-0.009654</td>\n",
       "    </tr>\n",
       "  </tbody>\n",
       "</table>\n",
       "</div>"
      ],
      "text/plain": [
       "                     target  s&p_change\n",
       "date       ticker                      \n",
       "2023-09-28 AEO     0.079344   -0.009654\n",
       "           AAPL    0.009886   -0.009654\n",
       "           AEE    -0.052310   -0.009654\n",
       "           AEP    -0.039953   -0.009654\n",
       "           AES    -0.167718   -0.009654"
      ]
     },
     "execution_count": 37,
     "metadata": {},
     "output_type": "execute_result"
    }
   ],
   "source": [
    "targets[\"s&p_change\"] = sp_change_col\n",
    "targets.head()"
   ]
  },
  {
   "cell_type": "code",
   "execution_count": 38,
   "metadata": {},
   "outputs": [
    {
     "data": {
      "text/html": [
       "<div>\n",
       "<style scoped>\n",
       "    .dataframe tbody tr th:only-of-type {\n",
       "        vertical-align: middle;\n",
       "    }\n",
       "\n",
       "    .dataframe tbody tr th {\n",
       "        vertical-align: top;\n",
       "    }\n",
       "\n",
       "    .dataframe thead th {\n",
       "        text-align: right;\n",
       "    }\n",
       "</style>\n",
       "<table border=\"1\" class=\"dataframe\">\n",
       "  <thead>\n",
       "    <tr style=\"text-align: right;\">\n",
       "      <th></th>\n",
       "      <th></th>\n",
       "      <th>target</th>\n",
       "      <th>s&amp;p_change</th>\n",
       "      <th>change_adj_s&amp;p</th>\n",
       "    </tr>\n",
       "    <tr>\n",
       "      <th>date</th>\n",
       "      <th>ticker</th>\n",
       "      <th></th>\n",
       "      <th></th>\n",
       "      <th></th>\n",
       "    </tr>\n",
       "  </thead>\n",
       "  <tbody>\n",
       "    <tr>\n",
       "      <th rowspan=\"5\" valign=\"top\">2023-09-28</th>\n",
       "      <th>AEO</th>\n",
       "      <td>0.079344</td>\n",
       "      <td>-0.009654</td>\n",
       "      <td>0.088998</td>\n",
       "    </tr>\n",
       "    <tr>\n",
       "      <th>AAPL</th>\n",
       "      <td>0.009886</td>\n",
       "      <td>-0.009654</td>\n",
       "      <td>0.019540</td>\n",
       "    </tr>\n",
       "    <tr>\n",
       "      <th>AEE</th>\n",
       "      <td>-0.052310</td>\n",
       "      <td>-0.009654</td>\n",
       "      <td>-0.042656</td>\n",
       "    </tr>\n",
       "    <tr>\n",
       "      <th>AEP</th>\n",
       "      <td>-0.039953</td>\n",
       "      <td>-0.009654</td>\n",
       "      <td>-0.030299</td>\n",
       "    </tr>\n",
       "    <tr>\n",
       "      <th>AES</th>\n",
       "      <td>-0.167718</td>\n",
       "      <td>-0.009654</td>\n",
       "      <td>-0.158063</td>\n",
       "    </tr>\n",
       "  </tbody>\n",
       "</table>\n",
       "</div>"
      ],
      "text/plain": [
       "                     target  s&p_change  change_adj_s&p\n",
       "date       ticker                                      \n",
       "2023-09-28 AEO     0.079344   -0.009654        0.088998\n",
       "           AAPL    0.009886   -0.009654        0.019540\n",
       "           AEE    -0.052310   -0.009654       -0.042656\n",
       "           AEP    -0.039953   -0.009654       -0.030299\n",
       "           AES    -0.167718   -0.009654       -0.158063"
      ]
     },
     "execution_count": 38,
     "metadata": {},
     "output_type": "execute_result"
    }
   ],
   "source": [
    "targets[\"change_adj_s&p\"] = targets[\"target\"] - targets[\"s&p_change\"]\n",
    "targets.head()"
   ]
  },
  {
   "cell_type": "code",
   "execution_count": 40,
   "metadata": {},
   "outputs": [],
   "source": [
    "targets.to_csv(path_to_data_dir + \"s&p_adjusted_target.csv\", index = True)"
   ]
  },
  {
   "cell_type": "markdown",
   "metadata": {},
   "source": []
  }
 ],
 "metadata": {
  "kernelspec": {
   "display_name": "QuantBearsDataAnalysis",
   "language": "python",
   "name": "python3"
  },
  "language_info": {
   "codemirror_mode": {
    "name": "ipython",
    "version": 3
   },
   "file_extension": ".py",
   "mimetype": "text/x-python",
   "name": "python",
   "nbconvert_exporter": "python",
   "pygments_lexer": "ipython3",
   "version": "3.9.18"
  }
 },
 "nbformat": 4,
 "nbformat_minor": 2
}
