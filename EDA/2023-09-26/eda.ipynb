{
 "cells": [
  {
   "cell_type": "code",
   "execution_count": 1,
   "metadata": {},
   "outputs": [],
   "source": [
    "import boto3\n",
    "import awswrangler as wr\n",
    "import pandas as pd\n",
    "accessKeys = pd.read_csv(\"../../quant-bears_accessKeys.csv\")\n",
    "session = boto3.Session(\n",
    "\taws_access_key_id=accessKeys.loc[0, \"Access key ID\"],\n",
    "\taws_secret_access_key=accessKeys.loc[0, \"Secret access key\"]\n",
    ")\n",
    "\n",
    "s3_collection_path = \"s3://quant-bears-data-collection/raw-data/seekingAlpha.seekingAlphaBulkMetrics/\""
   ]
  },
  {
   "cell_type": "code",
   "execution_count": 2,
   "metadata": {},
   "outputs": [],
   "source": [
    "df_2023_09_19 = wr.s3.read_parquet(s3_collection_path + \"2023-09-19.parquet\", boto3_session=session)\n",
    "df_2023_09_26 = wr.s3.read_parquet(s3_collection_path + \"2023-09-26.parquet\", boto3_session=session)\n"
   ]
  },
  {
   "cell_type": "code",
   "execution_count": 3,
   "metadata": {},
   "outputs": [
    {
     "data": {
      "text/html": [
       "<div>\n",
       "<style scoped>\n",
       "    .dataframe tbody tr th:only-of-type {\n",
       "        vertical-align: middle;\n",
       "    }\n",
       "\n",
       "    .dataframe tbody tr th {\n",
       "        vertical-align: top;\n",
       "    }\n",
       "\n",
       "    .dataframe thead th {\n",
       "        text-align: right;\n",
       "    }\n",
       "</style>\n",
       "<table border=\"1\" class=\"dataframe\">\n",
       "  <thead>\n",
       "    <tr style=\"text-align: right;\">\n",
       "      <th></th>\n",
       "      <th>ticker</th>\n",
       "      <th>altman_z_score</th>\n",
       "      <th>analysts_down</th>\n",
       "      <th>analysts_down_percent</th>\n",
       "      <th>analysts_down_percent_avg_5y</th>\n",
       "      <th>analysts_up</th>\n",
       "      <th>analysts_up_percent</th>\n",
       "      <th>analysts_up_percent_avg_5y</th>\n",
       "      <th>assets_turnover</th>\n",
       "      <th>assets_turnover_avg_5y</th>\n",
       "      <th>...</th>\n",
       "      <th>total_debt</th>\n",
       "      <th>total_revenue</th>\n",
       "      <th>working_cap_change</th>\n",
       "      <th>working_cap_change_avg_5y</th>\n",
       "      <th>yld_on_cost_1y</th>\n",
       "      <th>yld_on_cost_1y_avg_5y</th>\n",
       "      <th>yld_on_cost_3y</th>\n",
       "      <th>yld_on_cost_3y_avg_5y</th>\n",
       "      <th>yld_on_cost_5y</th>\n",
       "      <th>yld_on_cost_5y_avg_5y</th>\n",
       "    </tr>\n",
       "  </thead>\n",
       "  <tbody>\n",
       "    <tr>\n",
       "      <th>0</th>\n",
       "      <td>AA</td>\n",
       "      <td>1.401235</td>\n",
       "      <td>9.0</td>\n",
       "      <td>100.000000</td>\n",
       "      <td>60.255886</td>\n",
       "      <td>0.0</td>\n",
       "      <td>0.000000</td>\n",
       "      <td>39.744114</td>\n",
       "      <td>0.728491</td>\n",
       "      <td>0.758183</td>\n",
       "      <td>...</td>\n",
       "      <td>1.834000e+09</td>\n",
       "      <td>1.086800e+10</td>\n",
       "      <td>-21.0507</td>\n",
       "      <td>20.532969</td>\n",
       "      <td>0.942063</td>\n",
       "      <td>NaN</td>\n",
       "      <td>3.003003</td>\n",
       "      <td>NaN</td>\n",
       "      <td>0.927644</td>\n",
       "      <td>NaN</td>\n",
       "    </tr>\n",
       "    <tr>\n",
       "      <th>1</th>\n",
       "      <td>AAP</td>\n",
       "      <td>2.266178</td>\n",
       "      <td>14.0</td>\n",
       "      <td>100.000000</td>\n",
       "      <td>38.802917</td>\n",
       "      <td>0.0</td>\n",
       "      <td>0.000000</td>\n",
       "      <td>61.197083</td>\n",
       "      <td>0.917976</td>\n",
       "      <td>0.930908</td>\n",
       "      <td>...</td>\n",
       "      <td>4.596040e+09</td>\n",
       "      <td>1.121875e+10</td>\n",
       "      <td>54.5253</td>\n",
       "      <td>-10.475822</td>\n",
       "      <td>2.847722</td>\n",
       "      <td>1.203241</td>\n",
       "      <td>3.086821</td>\n",
       "      <td>1.558655</td>\n",
       "      <td>2.833284</td>\n",
       "      <td>1.804696</td>\n",
       "    </tr>\n",
       "    <tr>\n",
       "      <th>2</th>\n",
       "      <td>ABCL</td>\n",
       "      <td>5.648530</td>\n",
       "      <td>1.0</td>\n",
       "      <td>14.285714</td>\n",
       "      <td>39.515347</td>\n",
       "      <td>6.0</td>\n",
       "      <td>85.714290</td>\n",
       "      <td>60.484653</td>\n",
       "      <td>0.092735</td>\n",
       "      <td>0.414523</td>\n",
       "      <td>...</td>\n",
       "      <td>8.403200e+07</td>\n",
       "      <td>1.451750e+08</td>\n",
       "      <td>-12.0268</td>\n",
       "      <td>2262.069600</td>\n",
       "      <td>NaN</td>\n",
       "      <td>NaN</td>\n",
       "      <td>NaN</td>\n",
       "      <td>NaN</td>\n",
       "      <td>NaN</td>\n",
       "      <td>NaN</td>\n",
       "    </tr>\n",
       "    <tr>\n",
       "      <th>3</th>\n",
       "      <td>ABCM</td>\n",
       "      <td>6.937922</td>\n",
       "      <td>1.0</td>\n",
       "      <td>25.000000</td>\n",
       "      <td>NaN</td>\n",
       "      <td>3.0</td>\n",
       "      <td>75.000000</td>\n",
       "      <td>NaN</td>\n",
       "      <td>0.363036</td>\n",
       "      <td>0.364674</td>\n",
       "      <td>...</td>\n",
       "      <td>2.755801e+08</td>\n",
       "      <td>4.822016e+08</td>\n",
       "      <td>23.8888</td>\n",
       "      <td>25.863136</td>\n",
       "      <td>NaN</td>\n",
       "      <td>NaN</td>\n",
       "      <td>NaN</td>\n",
       "      <td>NaN</td>\n",
       "      <td>NaN</td>\n",
       "      <td>NaN</td>\n",
       "    </tr>\n",
       "    <tr>\n",
       "      <th>4</th>\n",
       "      <td>ABEV</td>\n",
       "      <td>4.510405</td>\n",
       "      <td>2.0</td>\n",
       "      <td>66.666664</td>\n",
       "      <td>47.094288</td>\n",
       "      <td>1.0</td>\n",
       "      <td>33.333332</td>\n",
       "      <td>52.905710</td>\n",
       "      <td>0.612834</td>\n",
       "      <td>0.542864</td>\n",
       "      <td>...</td>\n",
       "      <td>8.554309e+08</td>\n",
       "      <td>1.727274e+10</td>\n",
       "      <td>-95.3390</td>\n",
       "      <td>116.744484</td>\n",
       "      <td>5.098481</td>\n",
       "      <td>3.130066</td>\n",
       "      <td>6.037113</td>\n",
       "      <td>2.510408</td>\n",
       "      <td>3.164189</td>\n",
       "      <td>1.532657</td>\n",
       "    </tr>\n",
       "  </tbody>\n",
       "</table>\n",
       "<p>5 rows × 265 columns</p>\n",
       "</div>"
      ],
      "text/plain": [
       "  ticker  altman_z_score  analysts_down  analysts_down_percent  \\\n",
       "0     AA        1.401235            9.0             100.000000   \n",
       "1    AAP        2.266178           14.0             100.000000   \n",
       "2   ABCL        5.648530            1.0              14.285714   \n",
       "3   ABCM        6.937922            1.0              25.000000   \n",
       "4   ABEV        4.510405            2.0              66.666664   \n",
       "\n",
       "   analysts_down_percent_avg_5y  analysts_up  analysts_up_percent  \\\n",
       "0                     60.255886          0.0             0.000000   \n",
       "1                     38.802917          0.0             0.000000   \n",
       "2                     39.515347          6.0            85.714290   \n",
       "3                           NaN          3.0            75.000000   \n",
       "4                     47.094288          1.0            33.333332   \n",
       "\n",
       "   analysts_up_percent_avg_5y  assets_turnover  assets_turnover_avg_5y  ...  \\\n",
       "0                   39.744114         0.728491                0.758183  ...   \n",
       "1                   61.197083         0.917976                0.930908  ...   \n",
       "2                   60.484653         0.092735                0.414523  ...   \n",
       "3                         NaN         0.363036                0.364674  ...   \n",
       "4                   52.905710         0.612834                0.542864  ...   \n",
       "\n",
       "     total_debt  total_revenue  working_cap_change  working_cap_change_avg_5y  \\\n",
       "0  1.834000e+09   1.086800e+10            -21.0507                  20.532969   \n",
       "1  4.596040e+09   1.121875e+10             54.5253                 -10.475822   \n",
       "2  8.403200e+07   1.451750e+08            -12.0268                2262.069600   \n",
       "3  2.755801e+08   4.822016e+08             23.8888                  25.863136   \n",
       "4  8.554309e+08   1.727274e+10            -95.3390                 116.744484   \n",
       "\n",
       "   yld_on_cost_1y  yld_on_cost_1y_avg_5y  yld_on_cost_3y  \\\n",
       "0        0.942063                    NaN        3.003003   \n",
       "1        2.847722               1.203241        3.086821   \n",
       "2             NaN                    NaN             NaN   \n",
       "3             NaN                    NaN             NaN   \n",
       "4        5.098481               3.130066        6.037113   \n",
       "\n",
       "   yld_on_cost_3y_avg_5y  yld_on_cost_5y  yld_on_cost_5y_avg_5y  \n",
       "0                    NaN        0.927644                    NaN  \n",
       "1               1.558655        2.833284               1.804696  \n",
       "2                    NaN             NaN                    NaN  \n",
       "3                    NaN             NaN                    NaN  \n",
       "4               2.510408        3.164189               1.532657  \n",
       "\n",
       "[5 rows x 265 columns]"
      ]
     },
     "execution_count": 3,
     "metadata": {},
     "output_type": "execute_result"
    }
   ],
   "source": [
    "df_2023_09_19.head()"
   ]
  },
  {
   "cell_type": "code",
   "execution_count": 4,
   "metadata": {},
   "outputs": [
    {
     "data": {
      "text/html": [
       "<div>\n",
       "<style scoped>\n",
       "    .dataframe tbody tr th:only-of-type {\n",
       "        vertical-align: middle;\n",
       "    }\n",
       "\n",
       "    .dataframe tbody tr th {\n",
       "        vertical-align: top;\n",
       "    }\n",
       "\n",
       "    .dataframe thead th {\n",
       "        text-align: right;\n",
       "    }\n",
       "</style>\n",
       "<table border=\"1\" class=\"dataframe\">\n",
       "  <thead>\n",
       "    <tr style=\"text-align: right;\">\n",
       "      <th></th>\n",
       "      <th>ticker</th>\n",
       "      <th>altman_z_score</th>\n",
       "      <th>analysts_down</th>\n",
       "      <th>analysts_down_percent</th>\n",
       "      <th>analysts_down_percent_avg_5y</th>\n",
       "      <th>analysts_up</th>\n",
       "      <th>analysts_up_percent</th>\n",
       "      <th>analysts_up_percent_avg_5y</th>\n",
       "      <th>assets_turnover</th>\n",
       "      <th>assets_turnover_avg_5y</th>\n",
       "      <th>...</th>\n",
       "      <th>total_debt</th>\n",
       "      <th>total_revenue</th>\n",
       "      <th>working_cap_change</th>\n",
       "      <th>working_cap_change_avg_5y</th>\n",
       "      <th>yld_on_cost_1y</th>\n",
       "      <th>yld_on_cost_1y_avg_5y</th>\n",
       "      <th>yld_on_cost_3y</th>\n",
       "      <th>yld_on_cost_3y_avg_5y</th>\n",
       "      <th>yld_on_cost_5y</th>\n",
       "      <th>yld_on_cost_5y_avg_5y</th>\n",
       "    </tr>\n",
       "  </thead>\n",
       "  <tbody>\n",
       "    <tr>\n",
       "      <th>0</th>\n",
       "      <td>AA</td>\n",
       "      <td>1.401235</td>\n",
       "      <td>7.0</td>\n",
       "      <td>100.000000</td>\n",
       "      <td>60.362130</td>\n",
       "      <td>0.0</td>\n",
       "      <td>0.000000</td>\n",
       "      <td>39.637870</td>\n",
       "      <td>0.728491</td>\n",
       "      <td>0.758034</td>\n",
       "      <td>...</td>\n",
       "      <td>1.834000e+09</td>\n",
       "      <td>1.086800e+10</td>\n",
       "      <td>-21.0507</td>\n",
       "      <td>20.329374</td>\n",
       "      <td>1.126443</td>\n",
       "      <td>NaN</td>\n",
       "      <td>3.463203</td>\n",
       "      <td>NaN</td>\n",
       "      <td>0.969932</td>\n",
       "      <td>NaN</td>\n",
       "    </tr>\n",
       "    <tr>\n",
       "      <th>1</th>\n",
       "      <td>AAP</td>\n",
       "      <td>2.266178</td>\n",
       "      <td>15.0</td>\n",
       "      <td>100.000000</td>\n",
       "      <td>39.140030</td>\n",
       "      <td>0.0</td>\n",
       "      <td>0.000000</td>\n",
       "      <td>60.859970</td>\n",
       "      <td>0.917976</td>\n",
       "      <td>0.930220</td>\n",
       "      <td>...</td>\n",
       "      <td>4.596040e+09</td>\n",
       "      <td>1.121875e+10</td>\n",
       "      <td>54.5253</td>\n",
       "      <td>-10.385799</td>\n",
       "      <td>2.959502</td>\n",
       "      <td>1.213778</td>\n",
       "      <td>3.179171</td>\n",
       "      <td>1.570691</td>\n",
       "      <td>2.838872</td>\n",
       "      <td>1.814740</td>\n",
       "    </tr>\n",
       "    <tr>\n",
       "      <th>2</th>\n",
       "      <td>ABCL</td>\n",
       "      <td>5.648530</td>\n",
       "      <td>1.0</td>\n",
       "      <td>14.285714</td>\n",
       "      <td>39.313187</td>\n",
       "      <td>6.0</td>\n",
       "      <td>85.714290</td>\n",
       "      <td>60.686813</td>\n",
       "      <td>0.092735</td>\n",
       "      <td>0.412051</td>\n",
       "      <td>...</td>\n",
       "      <td>8.403200e+07</td>\n",
       "      <td>1.451750e+08</td>\n",
       "      <td>-12.0268</td>\n",
       "      <td>2244.603300</td>\n",
       "      <td>NaN</td>\n",
       "      <td>NaN</td>\n",
       "      <td>NaN</td>\n",
       "      <td>NaN</td>\n",
       "      <td>NaN</td>\n",
       "      <td>NaN</td>\n",
       "    </tr>\n",
       "    <tr>\n",
       "      <th>3</th>\n",
       "      <td>ABCM</td>\n",
       "      <td>6.937922</td>\n",
       "      <td>2.0</td>\n",
       "      <td>50.000000</td>\n",
       "      <td>NaN</td>\n",
       "      <td>2.0</td>\n",
       "      <td>50.000000</td>\n",
       "      <td>NaN</td>\n",
       "      <td>0.363036</td>\n",
       "      <td>0.364662</td>\n",
       "      <td>...</td>\n",
       "      <td>2.755801e+08</td>\n",
       "      <td>4.822016e+08</td>\n",
       "      <td>23.8888</td>\n",
       "      <td>25.849815</td>\n",
       "      <td>NaN</td>\n",
       "      <td>NaN</td>\n",
       "      <td>NaN</td>\n",
       "      <td>NaN</td>\n",
       "      <td>NaN</td>\n",
       "      <td>NaN</td>\n",
       "    </tr>\n",
       "    <tr>\n",
       "      <th>4</th>\n",
       "      <td>ABEV</td>\n",
       "      <td>4.510405</td>\n",
       "      <td>2.0</td>\n",
       "      <td>66.666664</td>\n",
       "      <td>47.227093</td>\n",
       "      <td>1.0</td>\n",
       "      <td>33.333332</td>\n",
       "      <td>52.772907</td>\n",
       "      <td>0.612834</td>\n",
       "      <td>0.543050</td>\n",
       "      <td>...</td>\n",
       "      <td>8.554309e+08</td>\n",
       "      <td>1.727274e+10</td>\n",
       "      <td>-95.3390</td>\n",
       "      <td>116.636320</td>\n",
       "      <td>5.009965</td>\n",
       "      <td>3.142845</td>\n",
       "      <td>6.192575</td>\n",
       "      <td>2.536229</td>\n",
       "      <td>3.185144</td>\n",
       "      <td>1.544216</td>\n",
       "    </tr>\n",
       "  </tbody>\n",
       "</table>\n",
       "<p>5 rows × 265 columns</p>\n",
       "</div>"
      ],
      "text/plain": [
       "  ticker  altman_z_score  analysts_down  analysts_down_percent  \\\n",
       "0     AA        1.401235            7.0             100.000000   \n",
       "1    AAP        2.266178           15.0             100.000000   \n",
       "2   ABCL        5.648530            1.0              14.285714   \n",
       "3   ABCM        6.937922            2.0              50.000000   \n",
       "4   ABEV        4.510405            2.0              66.666664   \n",
       "\n",
       "   analysts_down_percent_avg_5y  analysts_up  analysts_up_percent  \\\n",
       "0                     60.362130          0.0             0.000000   \n",
       "1                     39.140030          0.0             0.000000   \n",
       "2                     39.313187          6.0            85.714290   \n",
       "3                           NaN          2.0            50.000000   \n",
       "4                     47.227093          1.0            33.333332   \n",
       "\n",
       "   analysts_up_percent_avg_5y  assets_turnover  assets_turnover_avg_5y  ...  \\\n",
       "0                   39.637870         0.728491                0.758034  ...   \n",
       "1                   60.859970         0.917976                0.930220  ...   \n",
       "2                   60.686813         0.092735                0.412051  ...   \n",
       "3                         NaN         0.363036                0.364662  ...   \n",
       "4                   52.772907         0.612834                0.543050  ...   \n",
       "\n",
       "     total_debt  total_revenue  working_cap_change  working_cap_change_avg_5y  \\\n",
       "0  1.834000e+09   1.086800e+10            -21.0507                  20.329374   \n",
       "1  4.596040e+09   1.121875e+10             54.5253                 -10.385799   \n",
       "2  8.403200e+07   1.451750e+08            -12.0268                2244.603300   \n",
       "3  2.755801e+08   4.822016e+08             23.8888                  25.849815   \n",
       "4  8.554309e+08   1.727274e+10            -95.3390                 116.636320   \n",
       "\n",
       "   yld_on_cost_1y  yld_on_cost_1y_avg_5y  yld_on_cost_3y  \\\n",
       "0        1.126443                    NaN        3.463203   \n",
       "1        2.959502               1.213778        3.179171   \n",
       "2             NaN                    NaN             NaN   \n",
       "3             NaN                    NaN             NaN   \n",
       "4        5.009965               3.142845        6.192575   \n",
       "\n",
       "   yld_on_cost_3y_avg_5y  yld_on_cost_5y  yld_on_cost_5y_avg_5y  \n",
       "0                    NaN        0.969932                    NaN  \n",
       "1               1.570691        2.838872               1.814740  \n",
       "2                    NaN             NaN                    NaN  \n",
       "3                    NaN             NaN                    NaN  \n",
       "4               2.536229        3.185144               1.544216  \n",
       "\n",
       "[5 rows x 265 columns]"
      ]
     },
     "execution_count": 4,
     "metadata": {},
     "output_type": "execute_result"
    }
   ],
   "source": [
    "df_2023_09_26.head()"
   ]
  },
  {
   "cell_type": "code",
   "execution_count": 5,
   "metadata": {},
   "outputs": [
    {
     "name": "stdout",
     "output_type": "stream",
     "text": [
      "(1093, 265)\n",
      "(1104, 265)\n"
     ]
    }
   ],
   "source": [
    "# Shapes\n",
    "print(df_2023_09_19.shape)\n",
    "\n",
    "print(df_2023_09_26.shape)"
   ]
  },
  {
   "cell_type": "code",
   "execution_count": 6,
   "metadata": {},
   "outputs": [
    {
     "data": {
      "text/plain": [
       "0.9679780420860018"
      ]
     },
     "execution_count": 6,
     "metadata": {},
     "output_type": "execute_result"
    }
   ],
   "source": [
    "# Percentage overlap of screened tickers\n",
    "overlapped_tickers = df_2023_09_19[\"ticker\"][df_2023_09_19[\"ticker\"].isin(df_2023_09_26[\"ticker\"])]\n",
    "overlapped_tickers.shape[0] / df_2023_09_19.shape[0]"
   ]
  },
  {
   "cell_type": "code",
   "execution_count": 7,
   "metadata": {},
   "outputs": [],
   "source": [
    "df_19 = df_2023_09_19.set_index(\"ticker\").loc[overlapped_tickers]\n",
    "df_26 = df_2023_09_26.set_index(\"ticker\").loc[overlapped_tickers]\n",
    "assert df_19.shape == df_26.shape, \"Shape mismatch\""
   ]
  },
  {
   "cell_type": "code",
   "execution_count": 8,
   "metadata": {},
   "outputs": [
    {
     "data": {
      "text/plain": [
       "count    263.000000\n",
       "mean       0.986585\n",
       "std        0.063279\n",
       "min        0.378230\n",
       "25%        0.997043\n",
       "50%        0.999901\n",
       "75%        0.999994\n",
       "max        1.000000\n",
       "dtype: float64"
      ]
     },
     "execution_count": 8,
     "metadata": {},
     "output_type": "execute_result"
    }
   ],
   "source": [
    "# Description of autocorrelation between columns\n",
    "df_19.corrwith(df_26).describe()"
   ]
  },
  {
   "cell_type": "code",
   "execution_count": 9,
   "metadata": {},
   "outputs": [
    {
     "data": {
      "text/plain": [
       "ev_ebit_fy1                      0.378230\n",
       "last_price_vs_sma_10d            0.394811\n",
       "peg_nongaap_fy1                  0.634679\n",
       "pe_nongaap_fy1                   0.679388\n",
       "price_cf_ratio_fy1               0.818411\n",
       "                                   ...   \n",
       "eps_gaap_annual_growth_yoy       1.000000\n",
       "sustainable_growth_rate          1.000000\n",
       "capm_alpha_60m                   1.000000\n",
       "institutional_ownership_level    1.000000\n",
       "peg_gaap_avg_5y                       NaN\n",
       "Length: 264, dtype: float64"
      ]
     },
     "execution_count": 9,
     "metadata": {},
     "output_type": "execute_result"
    }
   ],
   "source": [
    "df_19.corrwith(df_26).sort_values()"
   ]
  },
  {
   "cell_type": "code",
   "execution_count": 10,
   "metadata": {},
   "outputs": [
    {
     "data": {
      "text/plain": [
       "count     264.000000\n",
       "mean      304.981061\n",
       "std       277.248436\n",
       "min         0.000000\n",
       "25%        48.000000\n",
       "50%       217.000000\n",
       "75%       566.250000\n",
       "max      1057.000000\n",
       "dtype: float64"
      ]
     },
     "execution_count": 10,
     "metadata": {},
     "output_type": "execute_result"
    }
   ],
   "source": [
    "# Description of NAs in each column\n",
    "df_19.isna().sum().describe()"
   ]
  },
  {
   "cell_type": "code",
   "execution_count": 11,
   "metadata": {},
   "outputs": [
    {
     "data": {
      "text/plain": [
       "Index(['last_price_vs_sma_100d', 'last_price_vs_sma_10d',\n",
       "       'last_price_vs_sma_200d', 'last_price_vs_sma_50d',\n",
       "       'log_of_unadjusted_stock_price', 'price_cf_ratio',\n",
       "       'price_cf_ratio_avg_5y', 'price_cf_ratio_fy1',\n",
       "       'price_cf_ratio_fy1_avg_5y', 'price_close_10y', 'price_close_1m',\n",
       "       'price_close_1w', 'price_close_1y', 'price_close_3y', 'price_close_5y',\n",
       "       'price_close_6m', 'price_close_adj_10y', 'price_close_adj_1m',\n",
       "       'price_close_adj_1w', 'price_close_adj_1y', 'price_close_adj_3y',\n",
       "       'price_close_adj_5y', 'price_close_adj_6m', 'price_close_adj_ytd',\n",
       "       'price_close_ytd', 'price_high_52w', 'price_low_52w', 'price_return_1y',\n",
       "       'price_return_3m', 'price_return_6m', 'price_return_9m',\n",
       "       'primary_price'],\n",
       "      dtype='object')"
      ]
     },
     "execution_count": 11,
     "metadata": {},
     "output_type": "execute_result"
    }
   ],
   "source": [
    "# Find main price variable\n",
    "df_19.columns[df_19.columns.str.contains(\"price\")]"
   ]
  },
  {
   "cell_type": "code",
   "execution_count": 12,
   "metadata": {},
   "outputs": [
    {
     "data": {
      "text/plain": [
       "ticker\n",
       "AA     -2.220000\n",
       "AAP    -1.240000\n",
       "ABCL   -0.360000\n",
       "ABCM    0.060000\n",
       "ABEV   -0.092967\n",
       "Name: primary_price, dtype: float64"
      ]
     },
     "execution_count": 12,
     "metadata": {},
     "output_type": "execute_result"
    }
   ],
   "source": [
    "price_diff = df_26[\"primary_price\"] - df_19[\"primary_price\"]\n",
    "price_diff.head()"
   ]
  },
  {
   "cell_type": "code",
   "execution_count": 13,
   "metadata": {},
   "outputs": [
    {
     "data": {
      "text/plain": [
       "ticker\n",
       "ZNTL   -0.077368\n",
       "ZS     -0.037164\n",
       "ZTO    -0.028343\n",
       "ZUO    -0.036824\n",
       "ZWS    -0.014565\n",
       "Name: primary_price, dtype: float64"
      ]
     },
     "execution_count": 13,
     "metadata": {},
     "output_type": "execute_result"
    }
   ],
   "source": [
    "price_diff_pct = price_diff / df_19[\"primary_price\"]\n",
    "price_diff_pct.tail()"
   ]
  },
  {
   "cell_type": "code",
   "execution_count": 14,
   "metadata": {},
   "outputs": [
    {
     "data": {
      "text/plain": [
       "count    1058.000000\n",
       "mean       -0.033572\n",
       "std         0.048261\n",
       "min        -0.301408\n",
       "25%        -0.055550\n",
       "50%        -0.029842\n",
       "75%        -0.005902\n",
       "max         0.299906\n",
       "Name: primary_price, dtype: float64"
      ]
     },
     "execution_count": 14,
     "metadata": {},
     "output_type": "execute_result"
    }
   ],
   "source": [
    "price_diff_pct.describe()"
   ]
  },
  {
   "cell_type": "code",
   "execution_count": 15,
   "metadata": {},
   "outputs": [],
   "source": [
    "X = df_19.copy()\n",
    "X[\"target\"] = price_diff_pct"
   ]
  },
  {
   "cell_type": "code",
   "execution_count": 16,
   "metadata": {},
   "outputs": [
    {
     "data": {
      "text/plain": [
       "beta24                            -0.301661\n",
       "coefficient_of_variation_90d      -0.273251\n",
       "short_interest_percent_of_float   -0.241841\n",
       "p_week_vol_shares                 -0.187265\n",
       "div_payout_gaap_avg_5y            -0.169919\n",
       "                                     ...   \n",
       "return_on_avg_tot_assets           0.205067\n",
       "return_on_total_capital            0.256354\n",
       "cf_payout_avg_5y                   0.443166\n",
       "target                             1.000000\n",
       "peg_gaap_avg_5y                         NaN\n",
       "Name: target, Length: 265, dtype: float64"
      ]
     },
     "execution_count": 16,
     "metadata": {},
     "output_type": "execute_result"
    }
   ],
   "source": [
    "# What correlates the most with the target variable?\n",
    "feature_target_corr = X.corr()[\"target\"].sort_values()\n",
    "feature_target_corr"
   ]
  },
  {
   "cell_type": "code",
   "execution_count": 17,
   "metadata": {},
   "outputs": [
    {
     "data": {
      "text/plain": [
       "int_cover                         0.115490\n",
       "gross_profit                      0.119107\n",
       "earnings_yield_avg_5y             0.120022\n",
       "net_income                        0.136344\n",
       "div_yield_div_payout              0.140661\n",
       "earn_yield_gaap_fy1_avg_5y        0.143412\n",
       "div_yield_div_payout_avg_5y       0.144778\n",
       "return_on_total_capital_avg_5y    0.150472\n",
       "ebitda_margin                     0.154197\n",
       "diluted_eps                       0.154245\n",
       "ebit_margin                       0.155126\n",
       "levered_fcf_margin                0.157841\n",
       "earn_yield_gaap_fy1               0.161375\n",
       "net_lt_debt_tot_assets_avg_5y     0.163731\n",
       "eps_estimate                      0.191914\n",
       "return_on_avg_tot_assets          0.205067\n",
       "return_on_total_capital           0.256354\n",
       "cf_payout_avg_5y                  0.443166\n",
       "target                            1.000000\n",
       "peg_gaap_avg_5y                        NaN\n",
       "Name: target, dtype: float64"
      ]
     },
     "execution_count": 17,
     "metadata": {},
     "output_type": "execute_result"
    }
   ],
   "source": [
    "feature_target_corr.tail(20)"
   ]
  },
  {
   "cell_type": "code",
   "execution_count": 18,
   "metadata": {},
   "outputs": [
    {
     "data": {
      "text/plain": [
       "beta24                            -0.291399\n",
       "ps_ratio_avg_5y                   -0.224339\n",
       "ev_12m_sales_ratio_avg_5y         -0.220358\n",
       "short_interest_percent_of_float   -0.217066\n",
       "ev_ebit_fy1_avg_5y                -0.212758\n",
       "                                     ...   \n",
       "int_cover                          0.323999\n",
       "return_on_total_capital            0.331165\n",
       "cf_payout_avg_5y                   0.545320\n",
       "target                             1.000000\n",
       "peg_gaap_avg_5y                         NaN\n",
       "Name: target, Length: 265, dtype: float64"
      ]
     },
     "execution_count": 18,
     "metadata": {},
     "output_type": "execute_result"
    }
   ],
   "source": [
    "feature_target_corr_spearman = X.corr(method = \"spearman\")[\"target\"].sort_values()\n",
    "feature_target_corr_spearman"
   ]
  },
  {
   "cell_type": "code",
   "execution_count": 19,
   "metadata": {},
   "outputs": [
    {
     "data": {
      "text/plain": [
       "beta24                            -0.291399\n",
       "ps_ratio_avg_5y                   -0.224339\n",
       "ev_12m_sales_ratio_avg_5y         -0.220358\n",
       "short_interest_percent_of_float   -0.217066\n",
       "ev_ebit_fy1_avg_5y                -0.212758\n",
       "ev_12m_sales_ratio                -0.209231\n",
       "ev_ebit_fy1                       -0.200193\n",
       "ev_sales_fy1                      -0.199058\n",
       "ev_sales_fy1_avg_5y               -0.195333\n",
       "ev_ebitda_fy1                     -0.192411\n",
       "ps_ratio_fy1_avg_5y               -0.190669\n",
       "ps_ratio                          -0.181520\n",
       "ps_ratio_fy1                      -0.181358\n",
       "capex_change_avg_5y               -0.180312\n",
       "revenue_change_display_avg_5y     -0.178451\n",
       "current_ratio                     -0.177691\n",
       "ev_ebit_avg_5y                    -0.169803\n",
       "quick_ratio                       -0.169088\n",
       "coefficient_of_variation_90d      -0.167828\n",
       "p_week_vol_shares                 -0.166405\n",
       "Name: target, dtype: float64"
      ]
     },
     "execution_count": 19,
     "metadata": {},
     "output_type": "execute_result"
    }
   ],
   "source": [
    "feature_target_corr_spearman.head(20)"
   ]
  },
  {
   "cell_type": "code",
   "execution_count": 25,
   "metadata": {},
   "outputs": [],
   "source": [
    "\"\"\"\n",
    "Relatively important feature definitions\n",
    "\n",
    "POSITIVE CORRELATION:\n",
    "\n",
    "int_cover: Interest Coverage\n",
    "cf_payout_avg_5y: Cash Flow Payout Ratio Average 5 years\n",
    "return_on_avg_tot_assets: Return on Average Total Assets\n",
    "return_on_total_capital: Return on Total Capital\n",
    "eps_estimate: Earnings per Share estimate\n",
    "ebitda: Earnings before Interests, Taxes, Depreciation, and Amoritization\n",
    "net_income: Net Income\n",
    "net_inc_per_employee: Net income per employee\n",
    "tev: Total Enterprise Valuation\n",
    "total_revenue: Total Revenue\n",
    "total_cash: Total Cash\n",
    "\n",
    "NEGATIVE CORRELATION:\n",
    "\n",
    "beta24: Expected move in stock relative to market (higher beta means more similar to market)\n",
    "short_interest_percent_of_float: Short Interest Percent\n",
    "ps_ratio_avg_5y: Price to Sales ratio Average 5 years\n",
    "net_lt_debt_tot_assets_avg_5y: Net long term debt over total assets (average 5 years)\n",
    "ev_12m_sales_ratio: Enterprise Value (12 months) to Sales\n",
    "\"\"\"\n",
    "positive_features = [\n",
    "\t\"int_cover\", \"cf_payout_avg_5y\", \"return_on_avg_tot_assets\", \"return_on_total_capital\",\n",
    "\t\"eps_estimate\", \"ebitda\", \"net_income\", \"net_inc_per_employee\", \"tev\", \"total_revenue\", \"total_cash\"]\n",
    "\n",
    "negative_features = [\n",
    "\t\"beta24\", \"short_interest_percent_of_float\", \"ps_ratio_avg_5y\", \"net_lt_debt_tot_assets_avg_5y\", \"ev_12m_sales_ratio\"\n",
    "]"
   ]
  },
  {
   "cell_type": "code",
   "execution_count": 23,
   "metadata": {},
   "outputs": [
    {
     "data": {
      "text/plain": [
       "Text(0.5, 1.0, 'Distribution of pearson correlation with target')"
      ]
     },
     "execution_count": 23,
     "metadata": {},
     "output_type": "execute_result"
    },
    {
     "data": {
      "image/png": "[encoded data removed]",
      "text/plain": [
       "<Figure size 640x480 with 1 Axes>"
      ]
     },
     "metadata": {},
     "output_type": "display_data"
    }
   ],
   "source": [
    "import matplotlib.pyplot as plt\n",
    "X.corr(method = \"pearson\")[\"target\"].hist()\n",
    "plt.title(\"Distribution of pearson correlation with target\")"
   ]
  },
  {
   "cell_type": "code",
   "execution_count": 24,
   "metadata": {},
   "outputs": [
    {
     "data": {
      "text/plain": [
       "Text(0.5, 1.0, 'Distribution of spearman correlation with target')"
      ]
     },
     "execution_count": 24,
     "metadata": {},
     "output_type": "execute_result"
    },
    {
     "data": {
      "image/png": "[encoded data removed]",
      "text/plain": [
       "<Figure size 640x480 with 1 Axes>"
      ]
     },
     "metadata": {},
     "output_type": "display_data"
    }
   ],
   "source": [
    "X.corr(method = \"spearman\")[\"target\"].hist()\n",
    "plt.title(\"Distribution of spearman correlation with target\")"
   ]
  },
  {
   "cell_type": "code",
   "execution_count": 68,
   "metadata": {},
   "outputs": [
    {
     "data": {
      "text/plain": [
       "3.888923"
      ]
     },
     "execution_count": 68,
     "metadata": {},
     "output_type": "execute_result"
    }
   ],
   "source": [
    "X.loc[\"AA\", \"net_lt_debt_tot_assets_avg_5y\"]"
   ]
  },
  {
   "cell_type": "code",
   "execution_count": 70,
   "metadata": {},
   "outputs": [
    {
     "data": {
      "text/plain": [
       "nan"
      ]
     },
     "execution_count": 70,
     "metadata": {},
     "output_type": "execute_result"
    }
   ],
   "source": [
    "df_26.loc[\"AA\", \"ev_12m_sales_ratio_avg_5y\"]"
   ]
  },
  {
   "cell_type": "code",
   "execution_count": 73,
   "metadata": {},
   "outputs": [
    {
     "data": {
      "text/plain": [
       "ticker\n",
       "AA           NaN\n",
       "AAP     1.298646\n",
       "ABCL         NaN\n",
       "ABCM         NaN\n",
       "ABEV    3.926235\n",
       "Name: ev_12m_sales_ratio_avg_5y, dtype: float64"
      ]
     },
     "execution_count": 73,
     "metadata": {},
     "output_type": "execute_result"
    }
   ],
   "source": [
    "X[\"ev_12m_sales_ratio_avg_5y\"].head()"
   ]
  },
  {
   "cell_type": "code",
   "execution_count": 74,
   "metadata": {},
   "outputs": [
    {
     "data": {
      "text/plain": [
       "1.2960672"
      ]
     },
     "execution_count": 74,
     "metadata": {},
     "output_type": "execute_result"
    }
   ],
   "source": [
    "df_26.loc[\"AAP\", \"ev_12m_sales_ratio_avg_5y\"]"
   ]
  },
  {
   "cell_type": "code",
   "execution_count": 26,
   "metadata": {},
   "outputs": [],
   "source": [
    "from sklearn.linear_model import LinearRegression\n",
    "from sklearn.ensemble import RandomForestRegressor\n",
    "from sklearn.model_selection import train_test_split\n",
    "from sklearn.preprocessing import normalize"
   ]
  },
  {
   "cell_type": "code",
   "execution_count": 70,
   "metadata": {},
   "outputs": [],
   "source": [
    "# Get selected features\n",
    "\n",
    "y = X[\"target\"]\n",
    "X_ = X[positive_features + negative_features]\n",
    "# X_ = X[positive_features]\n"
   ]
  },
  {
   "cell_type": "code",
   "execution_count": 71,
   "metadata": {},
   "outputs": [
    {
     "data": {
      "text/plain": [
       "array([-1.89592548e-10,  0.00000000e+00, -7.79233459e-10, -1.41668178e-10,\n",
       "       -3.54319821e-11])"
      ]
     },
     "execution_count": 71,
     "metadata": {},
     "output_type": "execute_result"
    }
   ],
   "source": [
    "X_norm = normalize(X_.fillna(0.))\n",
    "X_norm[0, 0:5]"
   ]
  },
  {
   "cell_type": "code",
   "execution_count": 83,
   "metadata": {},
   "outputs": [
    {
     "name": "stdout",
     "output_type": "stream",
     "text": [
      "Train score:\n",
      "0.09038178212382131\n",
      "Test score:\n",
      "0.1154900895428449\n"
     ]
    }
   ],
   "source": [
    "X_train, X_test, y_train, y_test = train_test_split(X_.fillna(0.), y, shuffle=True, train_size=.8)\n",
    "\n",
    "X_train = normalize(X_train)\n",
    "X_test = normalize(X_test)\n",
    "\n",
    "linreg = LinearRegression()\n",
    "linreg.fit(X_train, y_train)\n",
    "\n",
    "print(\"Train score:\")\n",
    "print(linreg.score(X_train, y_train))\n",
    "print(\"Test score:\")\n",
    "print(linreg.score(X_test, y_test))"
   ]
  },
  {
   "cell_type": "code",
   "execution_count": 86,
   "metadata": {},
   "outputs": [
    {
     "data": {
      "text/html": [
       "<div>\n",
       "<style scoped>\n",
       "    .dataframe tbody tr th:only-of-type {\n",
       "        vertical-align: middle;\n",
       "    }\n",
       "\n",
       "    .dataframe tbody tr th {\n",
       "        vertical-align: top;\n",
       "    }\n",
       "\n",
       "    .dataframe thead th {\n",
       "        text-align: right;\n",
       "    }\n",
       "</style>\n",
       "<table border=\"1\" class=\"dataframe\">\n",
       "  <thead>\n",
       "    <tr style=\"text-align: right;\">\n",
       "      <th></th>\n",
       "      <th>0</th>\n",
       "      <th>1</th>\n",
       "    </tr>\n",
       "  </thead>\n",
       "  <tbody>\n",
       "    <tr>\n",
       "      <th>3</th>\n",
       "      <td>return_on_total_capital</td>\n",
       "      <td>3.309172e+05</td>\n",
       "    </tr>\n",
       "    <tr>\n",
       "      <th>14</th>\n",
       "      <td>net_lt_debt_tot_assets_avg_5y</td>\n",
       "      <td>2.544758e+05</td>\n",
       "    </tr>\n",
       "    <tr>\n",
       "      <th>0</th>\n",
       "      <td>int_cover</td>\n",
       "      <td>5.598109e+02</td>\n",
       "    </tr>\n",
       "    <tr>\n",
       "      <th>15</th>\n",
       "      <td>ev_12m_sales_ratio</td>\n",
       "      <td>2.432495e+02</td>\n",
       "    </tr>\n",
       "    <tr>\n",
       "      <th>5</th>\n",
       "      <td>ebitda</td>\n",
       "      <td>8.206028e-02</td>\n",
       "    </tr>\n",
       "    <tr>\n",
       "      <th>4</th>\n",
       "      <td>eps_estimate</td>\n",
       "      <td>5.508795e-02</td>\n",
       "    </tr>\n",
       "    <tr>\n",
       "      <th>10</th>\n",
       "      <td>total_cash</td>\n",
       "      <td>2.408547e-02</td>\n",
       "    </tr>\n",
       "    <tr>\n",
       "      <th>9</th>\n",
       "      <td>total_revenue</td>\n",
       "      <td>2.359592e-02</td>\n",
       "    </tr>\n",
       "    <tr>\n",
       "      <th>6</th>\n",
       "      <td>net_income</td>\n",
       "      <td>2.157422e-02</td>\n",
       "    </tr>\n",
       "    <tr>\n",
       "      <th>8</th>\n",
       "      <td>tev</td>\n",
       "      <td>1.125663e-02</td>\n",
       "    </tr>\n",
       "    <tr>\n",
       "      <th>7</th>\n",
       "      <td>net_inc_per_employee</td>\n",
       "      <td>-1.716307e-01</td>\n",
       "    </tr>\n",
       "    <tr>\n",
       "      <th>13</th>\n",
       "      <td>ps_ratio_avg_5y</td>\n",
       "      <td>-7.709486e+01</td>\n",
       "    </tr>\n",
       "    <tr>\n",
       "      <th>1</th>\n",
       "      <td>cf_payout_avg_5y</td>\n",
       "      <td>-4.665507e+05</td>\n",
       "    </tr>\n",
       "    <tr>\n",
       "      <th>2</th>\n",
       "      <td>return_on_avg_tot_assets</td>\n",
       "      <td>-6.405238e+05</td>\n",
       "    </tr>\n",
       "    <tr>\n",
       "      <th>12</th>\n",
       "      <td>short_interest_percent_of_float</td>\n",
       "      <td>-1.080776e+06</td>\n",
       "    </tr>\n",
       "    <tr>\n",
       "      <th>11</th>\n",
       "      <td>beta24</td>\n",
       "      <td>-5.708767e+06</td>\n",
       "    </tr>\n",
       "  </tbody>\n",
       "</table>\n",
       "</div>"
      ],
      "text/plain": [
       "                                  0             1\n",
       "3           return_on_total_capital  3.309172e+05\n",
       "14    net_lt_debt_tot_assets_avg_5y  2.544758e+05\n",
       "0                         int_cover  5.598109e+02\n",
       "15               ev_12m_sales_ratio  2.432495e+02\n",
       "5                            ebitda  8.206028e-02\n",
       "4                      eps_estimate  5.508795e-02\n",
       "10                       total_cash  2.408547e-02\n",
       "9                     total_revenue  2.359592e-02\n",
       "6                        net_income  2.157422e-02\n",
       "8                               tev  1.125663e-02\n",
       "7              net_inc_per_employee -1.716307e-01\n",
       "13                  ps_ratio_avg_5y -7.709486e+01\n",
       "1                  cf_payout_avg_5y -4.665507e+05\n",
       "2          return_on_avg_tot_assets -6.405238e+05\n",
       "12  short_interest_percent_of_float -1.080776e+06\n",
       "11                           beta24 -5.708767e+06"
      ]
     },
     "execution_count": 86,
     "metadata": {},
     "output_type": "execute_result"
    }
   ],
   "source": [
    "pd.DataFrame(list(zip(X_.columns, linreg.coef_))).sort_values(1, ascending = False)"
   ]
  },
  {
   "cell_type": "code",
   "execution_count": 87,
   "metadata": {},
   "outputs": [
    {
     "name": "stdout",
     "output_type": "stream",
     "text": [
      "Train score:\n",
      "0.8577218020161966\n",
      "Test score:\n",
      "-0.023358344940318077\n"
     ]
    }
   ],
   "source": [
    "X_train, X_test, y_train, y_test = train_test_split(X_.fillna(0.), y, shuffle=True, train_size=.8)\n",
    "\n",
    "X_train = normalize(X_train)\n",
    "X_test = normalize(X_test)\n",
    "\n",
    "forest = RandomForestRegressor()\n",
    "forest.fit(X_train, y_train)\n",
    "\n",
    "print(\"Train score:\")\n",
    "print(forest.score(X_train, y_train))\n",
    "print(\"Test score:\")\n",
    "print(forest.score(X_test, y_test))"
   ]
  },
  {
   "cell_type": "code",
   "execution_count": 88,
   "metadata": {},
   "outputs": [
    {
     "data": {
      "text/html": [
       "<div>\n",
       "<style scoped>\n",
       "    .dataframe tbody tr th:only-of-type {\n",
       "        vertical-align: middle;\n",
       "    }\n",
       "\n",
       "    .dataframe tbody tr th {\n",
       "        vertical-align: top;\n",
       "    }\n",
       "\n",
       "    .dataframe thead th {\n",
       "        text-align: right;\n",
       "    }\n",
       "</style>\n",
       "<table border=\"1\" class=\"dataframe\">\n",
       "  <thead>\n",
       "    <tr style=\"text-align: right;\">\n",
       "      <th></th>\n",
       "      <th>0</th>\n",
       "      <th>1</th>\n",
       "    </tr>\n",
       "  </thead>\n",
       "  <tbody>\n",
       "    <tr>\n",
       "      <th>5</th>\n",
       "      <td>ebitda</td>\n",
       "      <td>0.264377</td>\n",
       "    </tr>\n",
       "    <tr>\n",
       "      <th>6</th>\n",
       "      <td>net_income</td>\n",
       "      <td>0.162523</td>\n",
       "    </tr>\n",
       "    <tr>\n",
       "      <th>10</th>\n",
       "      <td>total_cash</td>\n",
       "      <td>0.145237</td>\n",
       "    </tr>\n",
       "    <tr>\n",
       "      <th>9</th>\n",
       "      <td>total_revenue</td>\n",
       "      <td>0.128283</td>\n",
       "    </tr>\n",
       "    <tr>\n",
       "      <th>8</th>\n",
       "      <td>tev</td>\n",
       "      <td>0.119745</td>\n",
       "    </tr>\n",
       "    <tr>\n",
       "      <th>7</th>\n",
       "      <td>net_inc_per_employee</td>\n",
       "      <td>0.118841</td>\n",
       "    </tr>\n",
       "    <tr>\n",
       "      <th>0</th>\n",
       "      <td>int_cover</td>\n",
       "      <td>0.042674</td>\n",
       "    </tr>\n",
       "    <tr>\n",
       "      <th>15</th>\n",
       "      <td>ev_12m_sales_ratio</td>\n",
       "      <td>0.009492</td>\n",
       "    </tr>\n",
       "    <tr>\n",
       "      <th>13</th>\n",
       "      <td>ps_ratio_avg_5y</td>\n",
       "      <td>0.008530</td>\n",
       "    </tr>\n",
       "    <tr>\n",
       "      <th>14</th>\n",
       "      <td>net_lt_debt_tot_assets_avg_5y</td>\n",
       "      <td>0.000162</td>\n",
       "    </tr>\n",
       "    <tr>\n",
       "      <th>3</th>\n",
       "      <td>return_on_total_capital</td>\n",
       "      <td>0.000099</td>\n",
       "    </tr>\n",
       "    <tr>\n",
       "      <th>4</th>\n",
       "      <td>eps_estimate</td>\n",
       "      <td>0.000038</td>\n",
       "    </tr>\n",
       "    <tr>\n",
       "      <th>1</th>\n",
       "      <td>cf_payout_avg_5y</td>\n",
       "      <td>0.000000</td>\n",
       "    </tr>\n",
       "    <tr>\n",
       "      <th>2</th>\n",
       "      <td>return_on_avg_tot_assets</td>\n",
       "      <td>0.000000</td>\n",
       "    </tr>\n",
       "    <tr>\n",
       "      <th>11</th>\n",
       "      <td>beta24</td>\n",
       "      <td>0.000000</td>\n",
       "    </tr>\n",
       "    <tr>\n",
       "      <th>12</th>\n",
       "      <td>short_interest_percent_of_float</td>\n",
       "      <td>0.000000</td>\n",
       "    </tr>\n",
       "  </tbody>\n",
       "</table>\n",
       "</div>"
      ],
      "text/plain": [
       "                                  0         1\n",
       "5                            ebitda  0.264377\n",
       "6                        net_income  0.162523\n",
       "10                       total_cash  0.145237\n",
       "9                     total_revenue  0.128283\n",
       "8                               tev  0.119745\n",
       "7              net_inc_per_employee  0.118841\n",
       "0                         int_cover  0.042674\n",
       "15               ev_12m_sales_ratio  0.009492\n",
       "13                  ps_ratio_avg_5y  0.008530\n",
       "14    net_lt_debt_tot_assets_avg_5y  0.000162\n",
       "3           return_on_total_capital  0.000099\n",
       "4                      eps_estimate  0.000038\n",
       "1                  cf_payout_avg_5y  0.000000\n",
       "2          return_on_avg_tot_assets  0.000000\n",
       "11                           beta24  0.000000\n",
       "12  short_interest_percent_of_float  0.000000"
      ]
     },
     "execution_count": 88,
     "metadata": {},
     "output_type": "execute_result"
    }
   ],
   "source": [
    "pd.DataFrame(list(zip(X_.columns, forest.feature_importances_))).sort_values(1, ascending = False)"
   ]
  },
  {
   "cell_type": "code",
   "execution_count": 89,
   "metadata": {},
   "outputs": [],
   "source": [
    "# Try as classification\n",
    "from sklearn.linear_model import LogisticRegression\n",
    "from sklearn.ensemble import RandomForestClassifier\n",
    "import numpy as np"
   ]
  },
  {
   "cell_type": "code",
   "execution_count": 90,
   "metadata": {},
   "outputs": [
    {
     "name": "stdout",
     "output_type": "stream",
     "text": [
      "Train score:\n",
      "0.8096926713947991\n",
      "Test score:\n",
      "0.7735849056603774\n"
     ]
    }
   ],
   "source": [
    "y_ = np.float32(y > 0.)\n",
    "\n",
    "X_train, X_test, y_train, y_test = train_test_split(X_.fillna(0.), y_, shuffle=True, train_size=.8)\n",
    "\n",
    "X_train = normalize(X_train)\n",
    "X_test = normalize(X_test)\n",
    "\n",
    "linreg = LogisticRegression()\n",
    "linreg.fit(X_train, y_train)\n",
    "\n",
    "print(\"Train score:\")\n",
    "print(linreg.score(X_train, y_train))\n",
    "print(\"Test score:\")\n",
    "print(linreg.score(X_test, y_test))"
   ]
  },
  {
   "cell_type": "code",
   "execution_count": 91,
   "metadata": {},
   "outputs": [
    {
     "data": {
      "text/html": [
       "<div>\n",
       "<style scoped>\n",
       "    .dataframe tbody tr th:only-of-type {\n",
       "        vertical-align: middle;\n",
       "    }\n",
       "\n",
       "    .dataframe tbody tr th {\n",
       "        vertical-align: top;\n",
       "    }\n",
       "\n",
       "    .dataframe thead th {\n",
       "        text-align: right;\n",
       "    }\n",
       "</style>\n",
       "<table border=\"1\" class=\"dataframe\">\n",
       "  <thead>\n",
       "    <tr style=\"text-align: right;\">\n",
       "      <th></th>\n",
       "      <th>0</th>\n",
       "      <th>1</th>\n",
       "    </tr>\n",
       "  </thead>\n",
       "  <tbody>\n",
       "    <tr>\n",
       "      <th>9</th>\n",
       "      <td>total_revenue</td>\n",
       "      <td>7.224641e-01</td>\n",
       "    </tr>\n",
       "    <tr>\n",
       "      <th>5</th>\n",
       "      <td>ebitda</td>\n",
       "      <td>4.749765e-01</td>\n",
       "    </tr>\n",
       "    <tr>\n",
       "      <th>15</th>\n",
       "      <td>ev_12m_sales_ratio</td>\n",
       "      <td>2.773758e-06</td>\n",
       "    </tr>\n",
       "    <tr>\n",
       "      <th>3</th>\n",
       "      <td>return_on_total_capital</td>\n",
       "      <td>4.984226e-08</td>\n",
       "    </tr>\n",
       "    <tr>\n",
       "      <th>1</th>\n",
       "      <td>cf_payout_avg_5y</td>\n",
       "      <td>-4.043711e-09</td>\n",
       "    </tr>\n",
       "    <tr>\n",
       "      <th>11</th>\n",
       "      <td>beta24</td>\n",
       "      <td>-6.793539e-09</td>\n",
       "    </tr>\n",
       "    <tr>\n",
       "      <th>14</th>\n",
       "      <td>net_lt_debt_tot_assets_avg_5y</td>\n",
       "      <td>-1.081275e-08</td>\n",
       "    </tr>\n",
       "    <tr>\n",
       "      <th>12</th>\n",
       "      <td>short_interest_percent_of_float</td>\n",
       "      <td>-5.768169e-08</td>\n",
       "    </tr>\n",
       "    <tr>\n",
       "      <th>2</th>\n",
       "      <td>return_on_avg_tot_assets</td>\n",
       "      <td>-1.854912e-07</td>\n",
       "    </tr>\n",
       "    <tr>\n",
       "      <th>0</th>\n",
       "      <td>int_cover</td>\n",
       "      <td>-4.123948e-05</td>\n",
       "    </tr>\n",
       "    <tr>\n",
       "      <th>13</th>\n",
       "      <td>ps_ratio_avg_5y</td>\n",
       "      <td>-6.503755e-05</td>\n",
       "    </tr>\n",
       "    <tr>\n",
       "      <th>8</th>\n",
       "      <td>tev</td>\n",
       "      <td>-7.693679e-03</td>\n",
       "    </tr>\n",
       "    <tr>\n",
       "      <th>7</th>\n",
       "      <td>net_inc_per_employee</td>\n",
       "      <td>-4.055218e-02</td>\n",
       "    </tr>\n",
       "    <tr>\n",
       "      <th>4</th>\n",
       "      <td>eps_estimate</td>\n",
       "      <td>-1.442804e-01</td>\n",
       "    </tr>\n",
       "    <tr>\n",
       "      <th>6</th>\n",
       "      <td>net_income</td>\n",
       "      <td>-5.422360e-01</td>\n",
       "    </tr>\n",
       "    <tr>\n",
       "      <th>10</th>\n",
       "      <td>total_cash</td>\n",
       "      <td>-5.873814e-01</td>\n",
       "    </tr>\n",
       "  </tbody>\n",
       "</table>\n",
       "</div>"
      ],
      "text/plain": [
       "                                  0             1\n",
       "9                     total_revenue  7.224641e-01\n",
       "5                            ebitda  4.749765e-01\n",
       "15               ev_12m_sales_ratio  2.773758e-06\n",
       "3           return_on_total_capital  4.984226e-08\n",
       "1                  cf_payout_avg_5y -4.043711e-09\n",
       "11                           beta24 -6.793539e-09\n",
       "14    net_lt_debt_tot_assets_avg_5y -1.081275e-08\n",
       "12  short_interest_percent_of_float -5.768169e-08\n",
       "2          return_on_avg_tot_assets -1.854912e-07\n",
       "0                         int_cover -4.123948e-05\n",
       "13                  ps_ratio_avg_5y -6.503755e-05\n",
       "8                               tev -7.693679e-03\n",
       "7              net_inc_per_employee -4.055218e-02\n",
       "4                      eps_estimate -1.442804e-01\n",
       "6                        net_income -5.422360e-01\n",
       "10                       total_cash -5.873814e-01"
      ]
     },
     "execution_count": 91,
     "metadata": {},
     "output_type": "execute_result"
    }
   ],
   "source": [
    "pd.DataFrame(list(zip(X_.columns, linreg.coef_[0]))).sort_values(1, ascending = False)"
   ]
  },
  {
   "cell_type": "code",
   "execution_count": 93,
   "metadata": {},
   "outputs": [
    {
     "name": "stdout",
     "output_type": "stream",
     "text": [
      "Train score:\n",
      "1.0\n",
      "Test score:\n",
      "0.7547169811320755\n"
     ]
    }
   ],
   "source": [
    "y_ = np.float32(y > 0.)\n",
    "\n",
    "X_train, X_test, y_train, y_test = train_test_split(X_.fillna(0.), y_, shuffle=True, train_size=.8)\n",
    "\n",
    "X_train = normalize(X_train)\n",
    "X_test = normalize(X_test)\n",
    "\n",
    "forest = RandomForestClassifier()\n",
    "forest.fit(X_train, y_train)\n",
    "\n",
    "print(\"Train score:\")\n",
    "print(forest.score(X_train, y_train))\n",
    "print(\"Test score:\")\n",
    "print(forest.score(X_test, y_test))"
   ]
  },
  {
   "cell_type": "code",
   "execution_count": 94,
   "metadata": {},
   "outputs": [
    {
     "data": {
      "text/html": [
       "<div>\n",
       "<style scoped>\n",
       "    .dataframe tbody tr th:only-of-type {\n",
       "        vertical-align: middle;\n",
       "    }\n",
       "\n",
       "    .dataframe tbody tr th {\n",
       "        vertical-align: top;\n",
       "    }\n",
       "\n",
       "    .dataframe thead th {\n",
       "        text-align: right;\n",
       "    }\n",
       "</style>\n",
       "<table border=\"1\" class=\"dataframe\">\n",
       "  <thead>\n",
       "    <tr style=\"text-align: right;\">\n",
       "      <th></th>\n",
       "      <th>0</th>\n",
       "      <th>1</th>\n",
       "    </tr>\n",
       "  </thead>\n",
       "  <tbody>\n",
       "    <tr>\n",
       "      <th>10</th>\n",
       "      <td>total_cash</td>\n",
       "      <td>0.178994</td>\n",
       "    </tr>\n",
       "    <tr>\n",
       "      <th>9</th>\n",
       "      <td>total_revenue</td>\n",
       "      <td>0.169924</td>\n",
       "    </tr>\n",
       "    <tr>\n",
       "      <th>6</th>\n",
       "      <td>net_income</td>\n",
       "      <td>0.162898</td>\n",
       "    </tr>\n",
       "    <tr>\n",
       "      <th>5</th>\n",
       "      <td>ebitda</td>\n",
       "      <td>0.149967</td>\n",
       "    </tr>\n",
       "    <tr>\n",
       "      <th>7</th>\n",
       "      <td>net_inc_per_employee</td>\n",
       "      <td>0.143170</td>\n",
       "    </tr>\n",
       "    <tr>\n",
       "      <th>8</th>\n",
       "      <td>tev</td>\n",
       "      <td>0.142002</td>\n",
       "    </tr>\n",
       "    <tr>\n",
       "      <th>0</th>\n",
       "      <td>int_cover</td>\n",
       "      <td>0.033997</td>\n",
       "    </tr>\n",
       "    <tr>\n",
       "      <th>13</th>\n",
       "      <td>ps_ratio_avg_5y</td>\n",
       "      <td>0.010508</td>\n",
       "    </tr>\n",
       "    <tr>\n",
       "      <th>15</th>\n",
       "      <td>ev_12m_sales_ratio</td>\n",
       "      <td>0.007019</td>\n",
       "    </tr>\n",
       "    <tr>\n",
       "      <th>2</th>\n",
       "      <td>return_on_avg_tot_assets</td>\n",
       "      <td>0.001318</td>\n",
       "    </tr>\n",
       "    <tr>\n",
       "      <th>14</th>\n",
       "      <td>net_lt_debt_tot_assets_avg_5y</td>\n",
       "      <td>0.000130</td>\n",
       "    </tr>\n",
       "    <tr>\n",
       "      <th>4</th>\n",
       "      <td>eps_estimate</td>\n",
       "      <td>0.000051</td>\n",
       "    </tr>\n",
       "    <tr>\n",
       "      <th>3</th>\n",
       "      <td>return_on_total_capital</td>\n",
       "      <td>0.000022</td>\n",
       "    </tr>\n",
       "    <tr>\n",
       "      <th>1</th>\n",
       "      <td>cf_payout_avg_5y</td>\n",
       "      <td>0.000000</td>\n",
       "    </tr>\n",
       "    <tr>\n",
       "      <th>11</th>\n",
       "      <td>beta24</td>\n",
       "      <td>0.000000</td>\n",
       "    </tr>\n",
       "    <tr>\n",
       "      <th>12</th>\n",
       "      <td>short_interest_percent_of_float</td>\n",
       "      <td>0.000000</td>\n",
       "    </tr>\n",
       "  </tbody>\n",
       "</table>\n",
       "</div>"
      ],
      "text/plain": [
       "                                  0         1\n",
       "10                       total_cash  0.178994\n",
       "9                     total_revenue  0.169924\n",
       "6                        net_income  0.162898\n",
       "5                            ebitda  0.149967\n",
       "7              net_inc_per_employee  0.143170\n",
       "8                               tev  0.142002\n",
       "0                         int_cover  0.033997\n",
       "13                  ps_ratio_avg_5y  0.010508\n",
       "15               ev_12m_sales_ratio  0.007019\n",
       "2          return_on_avg_tot_assets  0.001318\n",
       "14    net_lt_debt_tot_assets_avg_5y  0.000130\n",
       "4                      eps_estimate  0.000051\n",
       "3           return_on_total_capital  0.000022\n",
       "1                  cf_payout_avg_5y  0.000000\n",
       "11                           beta24  0.000000\n",
       "12  short_interest_percent_of_float  0.000000"
      ]
     },
     "execution_count": 94,
     "metadata": {},
     "output_type": "execute_result"
    }
   ],
   "source": [
    "pd.DataFrame(list(zip(X_.columns, forest.feature_importances_))).sort_values(1, ascending=False)"
   ]
  },
  {
   "cell_type": "code",
   "execution_count": 79,
   "metadata": {},
   "outputs": [
    {
     "data": {
      "text/plain": [
       "0.07075762886163683"
      ]
     },
     "execution_count": 79,
     "metadata": {},
     "output_type": "execute_result"
    }
   ],
   "source": [
    "feature_target_corr[\"total_cash\"]"
   ]
  },
  {
   "cell_type": "code",
   "execution_count": null,
   "metadata": {},
   "outputs": [],
   "source": []
  }
 ],
 "metadata": {
  "kernelspec": {
   "display_name": "QuantBearsDataAnalysis",
   "language": "python",
   "name": "python3"
  },
  "language_info": {
   "codemirror_mode": {
    "name": "ipython",
    "version": 3
   },
   "file_extension": ".py",
   "mimetype": "text/x-python",
   "name": "python",
   "nbconvert_exporter": "python",
   "pygments_lexer": "ipython3",
   "version": "3.9.18"
  },
  "orig_nbformat": 4
 },
 "nbformat": 4,
 "nbformat_minor": 2
}
