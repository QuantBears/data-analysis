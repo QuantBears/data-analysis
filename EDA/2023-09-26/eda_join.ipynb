{
 "cells": [
  {
   "cell_type": "code",
   "execution_count": 1,
   "metadata": {},
   "outputs": [],
   "source": [
    "import boto3\n",
    "import awswrangler as wr\n",
    "import pandas as pd\n",
    "accessKeys = pd.read_csv(\"../../quant-bears_accessKeys.csv\")\n",
    "session = boto3.Session(\n",
    "\taws_access_key_id=accessKeys.loc[0, \"Access key ID\"],\n",
    "\taws_secret_access_key=accessKeys.loc[0, \"Secret access key\"]\n",
    ")\n",
    "\n",
    "s3_collection_path = \"s3://quant-bears-data-collection/raw-data/\""
   ]
  },
  {
   "cell_type": "code",
   "execution_count": 2,
   "metadata": {},
   "outputs": [],
   "source": [
    "sources = [\"gurufocus/\", \"seekingAlpha.seekingAlphaBulkMetrics/\"]\n",
    "\n",
    "dfs_19 = [wr.s3.read_parquet(s3_collection_path + s + \"2023-09-19.parquet\", boto3_session=session) for s in sources]\n",
    "dfs_26 = [wr.s3.read_parquet(s3_collection_path + s + \"2023-09-26.parquet\", boto3_session=session) for s in sources]\n",
    "\n",
    "# df_2023_09_19 = wr.s3.read_parquet(s3_collection_path + \"2023-09-19.parquet\", boto3_session=session)\n",
    "# df_2023_09_26 = wr.s3.read_parquet(s3_collection_path + \"2023-09-26.parquet\", boto3_session=session)\n"
   ]
  },
  {
   "cell_type": "code",
   "execution_count": 3,
   "metadata": {},
   "outputs": [
    {
     "data": {
      "text/html": [
       "<div>\n",
       "<style scoped>\n",
       "    .dataframe tbody tr th:only-of-type {\n",
       "        vertical-align: middle;\n",
       "    }\n",
       "\n",
       "    .dataframe tbody tr th {\n",
       "        vertical-align: top;\n",
       "    }\n",
       "\n",
       "    .dataframe thead th {\n",
       "        text-align: right;\n",
       "    }\n",
       "</style>\n",
       "<table border=\"1\" class=\"dataframe\">\n",
       "  <thead>\n",
       "    <tr style=\"text-align: right;\">\n",
       "      <th></th>\n",
       "      <th>symbol</th>\n",
       "      <th>growth_rank</th>\n",
       "      <th>3-Year_Revenue_Growth_Rate</th>\n",
       "      <th>3-Year_EBITDA_Growth_Rate</th>\n",
       "      <th>3-Year_EPS_without_NRI_Growth_Rate</th>\n",
       "      <th>3-Year_FCF_Growth_Rate</th>\n",
       "      <th>3-Year_Book_Growth_Rate</th>\n",
       "      <th>Future_3-5Y_Total_Revenue_Growth_Rate</th>\n",
       "      <th>profitability_rank</th>\n",
       "      <th>Gross_Margin_%</th>\n",
       "      <th>...</th>\n",
       "      <th>Price-to-DCF__Earnings_Based_</th>\n",
       "      <th>Price-to-Median-PS-Value</th>\n",
       "      <th>Price-to-Peter-Lynch-Fair-Value</th>\n",
       "      <th>Price-to-Graham-Number</th>\n",
       "      <th>Price-to-Net-Current-Asset-Value</th>\n",
       "      <th>Price-to-Net-Cash</th>\n",
       "      <th>Price-to-Owner-Earnings</th>\n",
       "      <th>Price-to-Free-Cash-Flow</th>\n",
       "      <th>Price-to-FFO</th>\n",
       "      <th>Price-to-DCF__FCF_Based_</th>\n",
       "    </tr>\n",
       "  </thead>\n",
       "  <tbody>\n",
       "    <tr>\n",
       "      <th>0</th>\n",
       "      <td>AA</td>\n",
       "      <td>0.4</td>\n",
       "      <td>6.8</td>\n",
       "      <td>54.4</td>\n",
       "      <td>51.8</td>\n",
       "      <td>4.4</td>\n",
       "      <td>9.0</td>\n",
       "      <td>-0.36</td>\n",
       "      <td>0.5</td>\n",
       "      <td>6.30</td>\n",
       "      <td>...</td>\n",
       "      <td>NaN</td>\n",
       "      <td>NaN</td>\n",
       "      <td>NaN</td>\n",
       "      <td>NaN</td>\n",
       "      <td>NaN</td>\n",
       "      <td>NaN</td>\n",
       "      <td>NaN</td>\n",
       "      <td>NaN</td>\n",
       "      <td>NaN</td>\n",
       "      <td>NaN</td>\n",
       "    </tr>\n",
       "    <tr>\n",
       "      <th>1</th>\n",
       "      <td>AAP</td>\n",
       "      <td>0.7</td>\n",
       "      <td>10.4</td>\n",
       "      <td>8.0</td>\n",
       "      <td>6.5</td>\n",
       "      <td>-4.2</td>\n",
       "      <td>-4.1</td>\n",
       "      <td>1.54</td>\n",
       "      <td>0.8</td>\n",
       "      <td>43.58</td>\n",
       "      <td>...</td>\n",
       "      <td>0.89</td>\n",
       "      <td>0.27</td>\n",
       "      <td>1.24</td>\n",
       "      <td>1.20</td>\n",
       "      <td>NaN</td>\n",
       "      <td>NaN</td>\n",
       "      <td>NaN</td>\n",
       "      <td>NaN</td>\n",
       "      <td>NaN</td>\n",
       "      <td>NaN</td>\n",
       "    </tr>\n",
       "    <tr>\n",
       "      <th>2</th>\n",
       "      <td>ABCL</td>\n",
       "      <td>NaN</td>\n",
       "      <td>215.7</td>\n",
       "      <td>NaN</td>\n",
       "      <td>NaN</td>\n",
       "      <td>NaN</td>\n",
       "      <td>631.1</td>\n",
       "      <td>NaN</td>\n",
       "      <td>0.5</td>\n",
       "      <td>88.57</td>\n",
       "      <td>...</td>\n",
       "      <td>NaN</td>\n",
       "      <td>NaN</td>\n",
       "      <td>NaN</td>\n",
       "      <td>NaN</td>\n",
       "      <td>2.48</td>\n",
       "      <td>3.22</td>\n",
       "      <td>NaN</td>\n",
       "      <td>NaN</td>\n",
       "      <td>NaN</td>\n",
       "      <td>NaN</td>\n",
       "    </tr>\n",
       "    <tr>\n",
       "      <th>3</th>\n",
       "      <td>ABCM</td>\n",
       "      <td>0.7</td>\n",
       "      <td>13.9</td>\n",
       "      <td>-22.7</td>\n",
       "      <td>NaN</td>\n",
       "      <td>NaN</td>\n",
       "      <td>22.7</td>\n",
       "      <td>18.15</td>\n",
       "      <td>0.8</td>\n",
       "      <td>75.88</td>\n",
       "      <td>...</td>\n",
       "      <td>NaN</td>\n",
       "      <td>0.74</td>\n",
       "      <td>NaN</td>\n",
       "      <td>39.74</td>\n",
       "      <td>NaN</td>\n",
       "      <td>NaN</td>\n",
       "      <td>NaN</td>\n",
       "      <td>NaN</td>\n",
       "      <td>NaN</td>\n",
       "      <td>NaN</td>\n",
       "    </tr>\n",
       "    <tr>\n",
       "      <th>4</th>\n",
       "      <td>ABEV</td>\n",
       "      <td>0.7</td>\n",
       "      <td>15.3</td>\n",
       "      <td>5.3</td>\n",
       "      <td>7.1</td>\n",
       "      <td>2.0</td>\n",
       "      <td>10.1</td>\n",
       "      <td>6.69</td>\n",
       "      <td>0.9</td>\n",
       "      <td>49.95</td>\n",
       "      <td>...</td>\n",
       "      <td>NaN</td>\n",
       "      <td>0.44</td>\n",
       "      <td>NaN</td>\n",
       "      <td>1.94</td>\n",
       "      <td>NaN</td>\n",
       "      <td>NaN</td>\n",
       "      <td>16.7</td>\n",
       "      <td>14.71</td>\n",
       "      <td>NaN</td>\n",
       "      <td>NaN</td>\n",
       "    </tr>\n",
       "  </tbody>\n",
       "</table>\n",
       "<p>5 rows × 70 columns</p>\n",
       "</div>"
      ],
      "text/plain": [
       "  symbol  growth_rank  3-Year_Revenue_Growth_Rate  3-Year_EBITDA_Growth_Rate  \\\n",
       "0     AA          0.4                         6.8                       54.4   \n",
       "1    AAP          0.7                        10.4                        8.0   \n",
       "2   ABCL          NaN                       215.7                        NaN   \n",
       "3   ABCM          0.7                        13.9                      -22.7   \n",
       "4   ABEV          0.7                        15.3                        5.3   \n",
       "\n",
       "   3-Year_EPS_without_NRI_Growth_Rate  3-Year_FCF_Growth_Rate  \\\n",
       "0                                51.8                     4.4   \n",
       "1                                 6.5                    -4.2   \n",
       "2                                 NaN                     NaN   \n",
       "3                                 NaN                     NaN   \n",
       "4                                 7.1                     2.0   \n",
       "\n",
       "   3-Year_Book_Growth_Rate  Future_3-5Y_Total_Revenue_Growth_Rate  \\\n",
       "0                      9.0                                  -0.36   \n",
       "1                     -4.1                                   1.54   \n",
       "2                    631.1                                    NaN   \n",
       "3                     22.7                                  18.15   \n",
       "4                     10.1                                   6.69   \n",
       "\n",
       "   profitability_rank  Gross_Margin_%  ...  Price-to-DCF__Earnings_Based_  \\\n",
       "0                 0.5            6.30  ...                            NaN   \n",
       "1                 0.8           43.58  ...                           0.89   \n",
       "2                 0.5           88.57  ...                            NaN   \n",
       "3                 0.8           75.88  ...                            NaN   \n",
       "4                 0.9           49.95  ...                            NaN   \n",
       "\n",
       "   Price-to-Median-PS-Value  Price-to-Peter-Lynch-Fair-Value  \\\n",
       "0                       NaN                              NaN   \n",
       "1                      0.27                             1.24   \n",
       "2                       NaN                              NaN   \n",
       "3                      0.74                              NaN   \n",
       "4                      0.44                              NaN   \n",
       "\n",
       "   Price-to-Graham-Number  Price-to-Net-Current-Asset-Value  \\\n",
       "0                     NaN                               NaN   \n",
       "1                    1.20                               NaN   \n",
       "2                     NaN                              2.48   \n",
       "3                   39.74                               NaN   \n",
       "4                    1.94                               NaN   \n",
       "\n",
       "   Price-to-Net-Cash  Price-to-Owner-Earnings  Price-to-Free-Cash-Flow  \\\n",
       "0                NaN                      NaN                      NaN   \n",
       "1                NaN                      NaN                      NaN   \n",
       "2               3.22                      NaN                      NaN   \n",
       "3                NaN                      NaN                      NaN   \n",
       "4                NaN                     16.7                    14.71   \n",
       "\n",
       "   Price-to-FFO  Price-to-DCF__FCF_Based_  \n",
       "0           NaN                       NaN  \n",
       "1           NaN                       NaN  \n",
       "2           NaN                       NaN  \n",
       "3           NaN                       NaN  \n",
       "4           NaN                       NaN  \n",
       "\n",
       "[5 rows x 70 columns]"
      ]
     },
     "execution_count": 3,
     "metadata": {},
     "output_type": "execute_result"
    }
   ],
   "source": [
    "dfs_19[0].head()"
   ]
  },
  {
   "cell_type": "code",
   "execution_count": 4,
   "metadata": {},
   "outputs": [],
   "source": [
    "overlapped_tickers = dfs_19[1][\"ticker\"][dfs_19[1][\"ticker\"].isin(dfs_26[1][\"ticker\"])]\n"
   ]
  },
  {
   "cell_type": "code",
   "execution_count": 7,
   "metadata": {},
   "outputs": [],
   "source": [
    "guru_19 = dfs_19[0].set_index(\"symbol\").loc[overlapped_tickers]\n",
    "guru_26 = dfs_26[0].set_index(\"symbol\").loc[overlapped_tickers]\n",
    "\n",
    "alpha_19 = dfs_19[1].set_index(\"ticker\").loc[overlapped_tickers]\n",
    "alpha_26 = dfs_26[1].set_index(\"ticker\").loc[overlapped_tickers]"
   ]
  },
  {
   "cell_type": "code",
   "execution_count": 19,
   "metadata": {},
   "outputs": [],
   "source": [
    "df_19 = pd.concat([guru_19, alpha_19], axis = 1).select_dtypes(\"float\")"
   ]
  },
  {
   "cell_type": "code",
   "execution_count": 20,
   "metadata": {},
   "outputs": [],
   "source": [
    "df_26 = pd.concat([guru_26, alpha_26], axis = 1).select_dtypes(\"float\")"
   ]
  },
  {
   "cell_type": "code",
   "execution_count": 21,
   "metadata": {},
   "outputs": [
    {
     "data": {
      "text/plain": [
       "count    330.000000\n",
       "mean       0.982506\n",
       "std        0.076800\n",
       "min        0.310832\n",
       "25%        0.997132\n",
       "50%        0.999887\n",
       "75%        0.999996\n",
       "max        1.000000\n",
       "dtype: float64"
      ]
     },
     "execution_count": 21,
     "metadata": {},
     "output_type": "execute_result"
    }
   ],
   "source": [
    "df_19.corrwith(df_26).describe()"
   ]
  },
  {
   "cell_type": "code",
   "execution_count": 22,
   "metadata": {},
   "outputs": [
    {
     "data": {
      "text/plain": [
       "Earnings_Yield__Greenblatt__%    0.310832\n",
       "ev_ebit_fy1                      0.378230\n",
       "last_price_vs_sma_10d            0.394811\n",
       "5-Day_RSI                        0.473860\n",
       "peg_nongaap_fy1                  0.634679\n",
       "                                   ...   \n",
       "3-Year_Revenue_Growth_Rate       1.000000\n",
       "eps_gaap_annual_growth_yoy       1.000000\n",
       "sustainable_growth_rate          1.000000\n",
       "3-Year_FCF_Growth_Rate           1.000000\n",
       "peg_gaap_avg_5y                       NaN\n",
       "Length: 331, dtype: float64"
      ]
     },
     "execution_count": 22,
     "metadata": {},
     "output_type": "execute_result"
    }
   ],
   "source": [
    "df_19.corrwith(df_26).sort_values()"
   ]
  },
  {
   "cell_type": "code",
   "execution_count": 23,
   "metadata": {},
   "outputs": [
    {
     "data": {
      "text/plain": [
       "count     331.000000\n",
       "mean      302.897281\n",
       "std       276.459326\n",
       "min         0.000000\n",
       "25%        53.000000\n",
       "50%       215.000000\n",
       "75%       552.000000\n",
       "max      1057.000000\n",
       "dtype: float64"
      ]
     },
     "execution_count": 23,
     "metadata": {},
     "output_type": "execute_result"
    }
   ],
   "source": [
    "df_19.isna().sum().describe()"
   ]
  },
  {
   "cell_type": "code",
   "execution_count": 24,
   "metadata": {},
   "outputs": [
    {
     "data": {
      "text/plain": [
       "ZNTL   -0.077368\n",
       "ZS     -0.037164\n",
       "ZTO    -0.028343\n",
       "ZUO    -0.036824\n",
       "ZWS    -0.014565\n",
       "Name: primary_price, dtype: float64"
      ]
     },
     "execution_count": 24,
     "metadata": {},
     "output_type": "execute_result"
    }
   ],
   "source": [
    "price_diff = df_26[\"primary_price\"] - df_19[\"primary_price\"]\n",
    "price_diff_pct = price_diff / df_19[\"primary_price\"]\n",
    "price_diff_pct.tail()"
   ]
  },
  {
   "cell_type": "code",
   "execution_count": 25,
   "metadata": {},
   "outputs": [],
   "source": [
    "X = df_19.copy()\n",
    "X[\"target\"] = price_diff_pct"
   ]
  },
  {
   "cell_type": "code",
   "execution_count": 26,
   "metadata": {},
   "outputs": [
    {
     "data": {
      "text/plain": [
       "beta24                            -0.301661\n",
       "coefficient_of_variation_90d      -0.273251\n",
       "short_interest_percent_of_float   -0.241841\n",
       "p_week_vol_shares                 -0.187265\n",
       "3-Year_Revenue_Growth_Rate        -0.180957\n",
       "                                     ...   \n",
       "profitability_rank                 0.237251\n",
       "return_on_total_capital            0.256354\n",
       "cf_payout_avg_5y                   0.443166\n",
       "target                             1.000000\n",
       "peg_gaap_avg_5y                         NaN\n",
       "Name: target, Length: 332, dtype: float64"
      ]
     },
     "execution_count": 26,
     "metadata": {},
     "output_type": "execute_result"
    }
   ],
   "source": [
    "# What correlates the most with the target variable?\n",
    "feature_target_corr = X.corr()[\"target\"].sort_values()\n",
    "feature_target_corr"
   ]
  },
  {
   "cell_type": "code",
   "execution_count": 27,
   "metadata": {},
   "outputs": [
    {
     "data": {
      "text/plain": [
       "return_on_total_capital_avg_5y        0.150472\n",
       "ebitda_margin                         0.154197\n",
       "diluted_eps                           0.154245\n",
       "ebit_margin                           0.155126\n",
       "levered_fcf_margin                    0.157841\n",
       "Earnings_Yield__Greenblatt__%         0.159189\n",
       "earn_yield_gaap_fy1                   0.161375\n",
       "net_lt_debt_tot_assets_avg_5y         0.163731\n",
       "ROE_%                                 0.177245\n",
       "3-Year_EBITDA_Growth_Rate             0.178879\n",
       "eps_estimate                          0.191914\n",
       "return_on_avg_tot_assets              0.205067\n",
       "ROA_%                                 0.215810\n",
       "ROCE_%                                0.222657\n",
       "3-Year_EPS_without_NRI_Growth_Rate    0.235203\n",
       "profitability_rank                    0.237251\n",
       "return_on_total_capital               0.256354\n",
       "cf_payout_avg_5y                      0.443166\n",
       "target                                1.000000\n",
       "peg_gaap_avg_5y                            NaN\n",
       "Name: target, dtype: float64"
      ]
     },
     "execution_count": 27,
     "metadata": {},
     "output_type": "execute_result"
    }
   ],
   "source": [
    "feature_target_corr.tail(20)"
   ]
  },
  {
   "cell_type": "code",
   "execution_count": 28,
   "metadata": {},
   "outputs": [
    {
     "data": {
      "text/plain": [
       "beta24                            -0.291399\n",
       "ps_ratio_avg_5y                   -0.224339\n",
       "ev_12m_sales_ratio_avg_5y         -0.220358\n",
       "short_interest_percent_of_float   -0.217066\n",
       "ev_ebit_fy1_avg_5y                -0.212758\n",
       "                                     ...   \n",
       "int_cover                          0.323999\n",
       "return_on_total_capital            0.331165\n",
       "cf_payout_avg_5y                   0.545320\n",
       "target                             1.000000\n",
       "peg_gaap_avg_5y                         NaN\n",
       "Name: target, Length: 332, dtype: float64"
      ]
     },
     "execution_count": 28,
     "metadata": {},
     "output_type": "execute_result"
    }
   ],
   "source": [
    "feature_target_corr_spearman = X.corr(method = \"spearman\")[\"target\"].sort_values()\n",
    "feature_target_corr_spearman"
   ]
  },
  {
   "cell_type": "code",
   "execution_count": 29,
   "metadata": {},
   "outputs": [
    {
     "data": {
      "text/plain": [
       "roe                                 0.246532\n",
       "cash_from_operations_as_reported    0.246552\n",
       "net_inc_per_employee                0.253559\n",
       "return_on_total_capital_avg_5y      0.256821\n",
       "return_on_net_tangible_assets       0.265342\n",
       "ROE_%                               0.267037\n",
       "ROA_%                               0.274354\n",
       "return_on_avg_tot_assets            0.275564\n",
       "diluted_eps                         0.276394\n",
       "ebitda                              0.285664\n",
       "Earnings_Yield__Greenblatt__%       0.286944\n",
       "ROIC_%                              0.287414\n",
       "net_income                          0.292214\n",
       "ROCE_%                              0.292333\n",
       "eps_estimate                        0.318226\n",
       "int_cover                           0.323999\n",
       "return_on_total_capital             0.331165\n",
       "cf_payout_avg_5y                    0.545320\n",
       "target                              1.000000\n",
       "peg_gaap_avg_5y                          NaN\n",
       "Name: target, dtype: float64"
      ]
     },
     "execution_count": 29,
     "metadata": {},
     "output_type": "execute_result"
    }
   ],
   "source": [
    "feature_target_corr_spearman.tail(20)"
   ]
  },
  {
   "cell_type": "code",
   "execution_count": null,
   "metadata": {},
   "outputs": [],
   "source": []
  }
 ],
 "metadata": {
  "kernelspec": {
   "display_name": "QuantBearsDataAnalysis",
   "language": "python",
   "name": "python3"
  },
  "language_info": {
   "codemirror_mode": {
    "name": "ipython",
    "version": 3
   },
   "file_extension": ".py",
   "mimetype": "text/x-python",
   "name": "python",
   "nbconvert_exporter": "python",
   "pygments_lexer": "ipython3",
   "version": "3.9.18"
  },
  "orig_nbformat": 4
 },
 "nbformat": 4,
 "nbformat_minor": 2
}
