{
 "cells": [
  {
   "cell_type": "code",
   "execution_count": 1,
   "metadata": {},
   "outputs": [],
   "source": [
    "import boto3\n",
    "import awswrangler as wr\n",
    "import pandas as pd\n",
    "from tqdm import tqdm\n",
    "accessKeys = pd.read_csv(\"../../quant-bears_accessKeys.csv\")\n",
    "session = boto3.Session(\n",
    "\taws_access_key_id=accessKeys.loc[0, \"Access key ID\"],\n",
    "\taws_secret_access_key=accessKeys.loc[0, \"Secret access key\"]\n",
    ")\n",
    "\n",
    "s3_collection_path = \"s3://quant-bears-data-collection/raw-data/\"\n",
    "s3_price_collection_path = \"s3://quant-bears-data-collection/raw-resolved-price/\""
   ]
  },
  {
   "cell_type": "code",
   "execution_count": 2,
   "metadata": {},
   "outputs": [
    {
     "name": "stdout",
     "output_type": "stream",
     "text": [
      "seekingAlpha.seekingAlphaBulkMetrics\n"
     ]
    },
    {
     "name": "stderr",
     "output_type": "stream",
     "text": [
      "  0%|          | 0/12 [00:00<?, ?it/s]/var/folders/tq/51dxx6813y7g8dg44h973dmr0000gn/T/ipykernel_44407/716229386.py:9: PerformanceWarning: DataFrame is highly fragmented.  This is usually the result of calling `frame.insert` many times, which has poor performance.  Consider joining all columns at once using pd.concat(axis=1) instead. To get a de-fragmented frame, use `newframe = frame.copy()`\n",
      "  new_df[\"date\"] = path.split(\"/\")[-1].split(\".\")[0]\n",
      "  8%|▊         | 1/12 [00:00<00:10,  1.06it/s]/var/folders/tq/51dxx6813y7g8dg44h973dmr0000gn/T/ipykernel_44407/716229386.py:9: PerformanceWarning: DataFrame is highly fragmented.  This is usually the result of calling `frame.insert` many times, which has poor performance.  Consider joining all columns at once using pd.concat(axis=1) instead. To get a de-fragmented frame, use `newframe = frame.copy()`\n",
      "  new_df[\"date\"] = path.split(\"/\")[-1].split(\".\")[0]\n",
      " 17%|█▋        | 2/12 [00:01<00:08,  1.20it/s]/var/folders/tq/51dxx6813y7g8dg44h973dmr0000gn/T/ipykernel_44407/716229386.py:9: PerformanceWarning: DataFrame is highly fragmented.  This is usually the result of calling `frame.insert` many times, which has poor performance.  Consider joining all columns at once using pd.concat(axis=1) instead. To get a de-fragmented frame, use `newframe = frame.copy()`\n",
      "  new_df[\"date\"] = path.split(\"/\")[-1].split(\".\")[0]\n",
      " 25%|██▌       | 3/12 [00:02<00:07,  1.14it/s]/var/folders/tq/51dxx6813y7g8dg44h973dmr0000gn/T/ipykernel_44407/716229386.py:9: PerformanceWarning: DataFrame is highly fragmented.  This is usually the result of calling `frame.insert` many times, which has poor performance.  Consider joining all columns at once using pd.concat(axis=1) instead. To get a de-fragmented frame, use `newframe = frame.copy()`\n",
      "  new_df[\"date\"] = path.split(\"/\")[-1].split(\".\")[0]\n",
      " 33%|███▎      | 4/12 [00:03<00:07,  1.12it/s]/var/folders/tq/51dxx6813y7g8dg44h973dmr0000gn/T/ipykernel_44407/716229386.py:9: PerformanceWarning: DataFrame is highly fragmented.  This is usually the result of calling `frame.insert` many times, which has poor performance.  Consider joining all columns at once using pd.concat(axis=1) instead. To get a de-fragmented frame, use `newframe = frame.copy()`\n",
      "  new_df[\"date\"] = path.split(\"/\")[-1].split(\".\")[0]\n",
      " 42%|████▏     | 5/12 [00:04<00:05,  1.26it/s]/var/folders/tq/51dxx6813y7g8dg44h973dmr0000gn/T/ipykernel_44407/716229386.py:9: PerformanceWarning: DataFrame is highly fragmented.  This is usually the result of calling `frame.insert` many times, which has poor performance.  Consider joining all columns at once using pd.concat(axis=1) instead. To get a de-fragmented frame, use `newframe = frame.copy()`\n",
      "  new_df[\"date\"] = path.split(\"/\")[-1].split(\".\")[0]\n",
      " 50%|█████     | 6/12 [00:06<00:08,  1.37s/it]/var/folders/tq/51dxx6813y7g8dg44h973dmr0000gn/T/ipykernel_44407/716229386.py:9: PerformanceWarning: DataFrame is highly fragmented.  This is usually the result of calling `frame.insert` many times, which has poor performance.  Consider joining all columns at once using pd.concat(axis=1) instead. To get a de-fragmented frame, use `newframe = frame.copy()`\n",
      "  new_df[\"date\"] = path.split(\"/\")[-1].split(\".\")[0]\n",
      " 58%|█████▊    | 7/12 [00:07<00:05,  1.14s/it]/var/folders/tq/51dxx6813y7g8dg44h973dmr0000gn/T/ipykernel_44407/716229386.py:9: PerformanceWarning: DataFrame is highly fragmented.  This is usually the result of calling `frame.insert` many times, which has poor performance.  Consider joining all columns at once using pd.concat(axis=1) instead. To get a de-fragmented frame, use `newframe = frame.copy()`\n",
      "  new_df[\"date\"] = path.split(\"/\")[-1].split(\".\")[0]\n",
      " 67%|██████▋   | 8/12 [00:08<00:04,  1.08s/it]/var/folders/tq/51dxx6813y7g8dg44h973dmr0000gn/T/ipykernel_44407/716229386.py:9: PerformanceWarning: DataFrame is highly fragmented.  This is usually the result of calling `frame.insert` many times, which has poor performance.  Consider joining all columns at once using pd.concat(axis=1) instead. To get a de-fragmented frame, use `newframe = frame.copy()`\n",
      "  new_df[\"date\"] = path.split(\"/\")[-1].split(\".\")[0]\n",
      " 75%|███████▌  | 9/12 [00:09<00:03,  1.23s/it]/var/folders/tq/51dxx6813y7g8dg44h973dmr0000gn/T/ipykernel_44407/716229386.py:9: PerformanceWarning: DataFrame is highly fragmented.  This is usually the result of calling `frame.insert` many times, which has poor performance.  Consider joining all columns at once using pd.concat(axis=1) instead. To get a de-fragmented frame, use `newframe = frame.copy()`\n",
      "  new_df[\"date\"] = path.split(\"/\")[-1].split(\".\")[0]\n",
      " 83%|████████▎ | 10/12 [00:10<00:02,  1.04s/it]/var/folders/tq/51dxx6813y7g8dg44h973dmr0000gn/T/ipykernel_44407/716229386.py:9: PerformanceWarning: DataFrame is highly fragmented.  This is usually the result of calling `frame.insert` many times, which has poor performance.  Consider joining all columns at once using pd.concat(axis=1) instead. To get a de-fragmented frame, use `newframe = frame.copy()`\n",
      "  new_df[\"date\"] = path.split(\"/\")[-1].split(\".\")[0]\n",
      " 92%|█████████▏| 11/12 [00:11<00:01,  1.18s/it]/var/folders/tq/51dxx6813y7g8dg44h973dmr0000gn/T/ipykernel_44407/716229386.py:9: PerformanceWarning: DataFrame is highly fragmented.  This is usually the result of calling `frame.insert` many times, which has poor performance.  Consider joining all columns at once using pd.concat(axis=1) instead. To get a de-fragmented frame, use `newframe = frame.copy()`\n",
      "  new_df[\"date\"] = path.split(\"/\")[-1].split(\".\")[0]\n",
      "100%|██████████| 12/12 [00:12<00:00,  1.05s/it]\n"
     ]
    },
    {
     "name": "stdout",
     "output_type": "stream",
     "text": [
      "gurufocus\n"
     ]
    },
    {
     "name": "stderr",
     "output_type": "stream",
     "text": [
      "100%|██████████| 12/12 [00:08<00:00,  1.46it/s]\n"
     ]
    },
    {
     "data": {
      "text/plain": [
       "(19073, 337)"
      ]
     },
     "execution_count": 2,
     "metadata": {},
     "output_type": "execute_result"
    }
   ],
   "source": [
    "data_sources = [\"seekingAlpha.seekingAlphaBulkMetrics\", \"gurufocus\"]\n",
    "sources_dict = dict((source, wr.s3.list_objects(s3_collection_path + source + \"/\", boto3_session=session)) for source in data_sources)\n",
    "df_dict = {}\n",
    "for source in data_sources:\n",
    "\tdfs = []\n",
    "\tprint(source)\n",
    "\tfor path in tqdm(sources_dict[source]):\n",
    "\t\tnew_df = wr.s3.read_parquet(path, boto3_session=session)\n",
    "\t\tnew_df[\"date\"] = path.split(\"/\")[-1].split(\".\")[0]\n",
    "\t\tdfs.append(new_df)\n",
    "\n",
    "\tdf_dict[source] = pd.concat(dfs, axis = 0)\n",
    "joined_df = pd.concat([df.set_index([\"date\", \"ticker\"]) for df in df_dict.values()], axis = 1)\n",
    "joined_df.shape"
   ]
  },
  {
   "cell_type": "code",
   "execution_count": 3,
   "metadata": {},
   "outputs": [
    {
     "data": {
      "text/plain": [
       "array(['2023-09-28', '2023-09-29', '2023-10-02', '2023-10-03',\n",
       "       '2023-10-04'], dtype=object)"
      ]
     },
     "execution_count": 3,
     "metadata": {},
     "output_type": "execute_result"
    }
   ],
   "source": [
    "all_dates = joined_df.index.get_level_values(0).unique().sort_values().values\n",
    "all_dates[:5]"
   ]
  },
  {
   "cell_type": "code",
   "execution_count": 4,
   "metadata": {},
   "outputs": [
    {
     "data": {
      "text/html": [
       "<div>\n",
       "<style scoped>\n",
       "    .dataframe tbody tr th:only-of-type {\n",
       "        vertical-align: middle;\n",
       "    }\n",
       "\n",
       "    .dataframe tbody tr th {\n",
       "        vertical-align: top;\n",
       "    }\n",
       "\n",
       "    .dataframe thead th {\n",
       "        text-align: right;\n",
       "    }\n",
       "</style>\n",
       "<table border=\"1\" class=\"dataframe\">\n",
       "  <thead>\n",
       "    <tr style=\"text-align: right;\">\n",
       "      <th></th>\n",
       "      <th>altman_z_score</th>\n",
       "      <th>analysts_down</th>\n",
       "      <th>analysts_down_percent</th>\n",
       "      <th>analysts_down_percent_avg_5y</th>\n",
       "      <th>analysts_up</th>\n",
       "      <th>analysts_up_percent</th>\n",
       "      <th>analysts_up_percent_avg_5y</th>\n",
       "      <th>assets_turnover</th>\n",
       "      <th>assets_turnover_avg_5y</th>\n",
       "      <th>authors_count</th>\n",
       "      <th>...</th>\n",
       "      <th>area</th>\n",
       "      <th>Price-to-DCF__Earnings_Based_</th>\n",
       "      <th>Price-to-DCF__FCF_Based_</th>\n",
       "      <th>Price-to-Net-Current-Asset-Value</th>\n",
       "      <th>Price-to-Net-Cash</th>\n",
       "      <th>Price-to-FFO</th>\n",
       "      <th>Volume</th>\n",
       "      <th>Avg_Volume__2M_</th>\n",
       "      <th>Market_Cap</th>\n",
       "      <th>Enterprise_Value</th>\n",
       "    </tr>\n",
       "    <tr>\n",
       "      <th>ticker</th>\n",
       "      <th></th>\n",
       "      <th></th>\n",
       "      <th></th>\n",
       "      <th></th>\n",
       "      <th></th>\n",
       "      <th></th>\n",
       "      <th></th>\n",
       "      <th></th>\n",
       "      <th></th>\n",
       "      <th></th>\n",
       "      <th></th>\n",
       "      <th></th>\n",
       "      <th></th>\n",
       "      <th></th>\n",
       "      <th></th>\n",
       "      <th></th>\n",
       "      <th></th>\n",
       "      <th></th>\n",
       "      <th></th>\n",
       "      <th></th>\n",
       "      <th></th>\n",
       "    </tr>\n",
       "  </thead>\n",
       "  <tbody>\n",
       "    <tr>\n",
       "      <th>A</th>\n",
       "      <td>6.153144</td>\n",
       "      <td>15.0</td>\n",
       "      <td>100.000000</td>\n",
       "      <td>12.759212</td>\n",
       "      <td>0.0</td>\n",
       "      <td>0.000000</td>\n",
       "      <td>87.240790</td>\n",
       "      <td>0.661089</td>\n",
       "      <td>0.601508</td>\n",
       "      <td>4.0</td>\n",
       "      <td>...</td>\n",
       "      <td>Medical Diagnostics &amp; Research</td>\n",
       "      <td>NaN</td>\n",
       "      <td>NaN</td>\n",
       "      <td>NaN</td>\n",
       "      <td>NaN</td>\n",
       "      <td>NaN</td>\n",
       "      <td>NaN</td>\n",
       "      <td>NaN</td>\n",
       "      <td>NaN</td>\n",
       "      <td>NaN</td>\n",
       "    </tr>\n",
       "    <tr>\n",
       "      <th>AA</th>\n",
       "      <td>1.401235</td>\n",
       "      <td>7.0</td>\n",
       "      <td>100.000000</td>\n",
       "      <td>60.404625</td>\n",
       "      <td>0.0</td>\n",
       "      <td>0.000000</td>\n",
       "      <td>39.595375</td>\n",
       "      <td>0.728491</td>\n",
       "      <td>0.757975</td>\n",
       "      <td>2.0</td>\n",
       "      <td>...</td>\n",
       "      <td>Metals &amp; Mining</td>\n",
       "      <td>NaN</td>\n",
       "      <td>NaN</td>\n",
       "      <td>NaN</td>\n",
       "      <td>NaN</td>\n",
       "      <td>NaN</td>\n",
       "      <td>NaN</td>\n",
       "      <td>NaN</td>\n",
       "      <td>NaN</td>\n",
       "      <td>NaN</td>\n",
       "    </tr>\n",
       "    <tr>\n",
       "      <th>AAL</th>\n",
       "      <td>0.862385</td>\n",
       "      <td>9.0</td>\n",
       "      <td>52.941177</td>\n",
       "      <td>53.991806</td>\n",
       "      <td>8.0</td>\n",
       "      <td>47.058823</td>\n",
       "      <td>46.008194</td>\n",
       "      <td>0.782322</td>\n",
       "      <td>0.599356</td>\n",
       "      <td>7.0</td>\n",
       "      <td>...</td>\n",
       "      <td>Transportation</td>\n",
       "      <td>NaN</td>\n",
       "      <td>NaN</td>\n",
       "      <td>NaN</td>\n",
       "      <td>NaN</td>\n",
       "      <td>NaN</td>\n",
       "      <td>NaN</td>\n",
       "      <td>NaN</td>\n",
       "      <td>NaN</td>\n",
       "      <td>NaN</td>\n",
       "    </tr>\n",
       "    <tr>\n",
       "      <th>AAP</th>\n",
       "      <td>2.266178</td>\n",
       "      <td>15.0</td>\n",
       "      <td>100.000000</td>\n",
       "      <td>39.274876</td>\n",
       "      <td>0.0</td>\n",
       "      <td>0.000000</td>\n",
       "      <td>60.725124</td>\n",
       "      <td>0.917976</td>\n",
       "      <td>0.929945</td>\n",
       "      <td>8.0</td>\n",
       "      <td>...</td>\n",
       "      <td>Retail - Cyclical</td>\n",
       "      <td>0.83</td>\n",
       "      <td>NaN</td>\n",
       "      <td>NaN</td>\n",
       "      <td>NaN</td>\n",
       "      <td>NaN</td>\n",
       "      <td>NaN</td>\n",
       "      <td>NaN</td>\n",
       "      <td>NaN</td>\n",
       "      <td>NaN</td>\n",
       "    </tr>\n",
       "    <tr>\n",
       "      <th>AAPL</th>\n",
       "      <td>7.639575</td>\n",
       "      <td>8.0</td>\n",
       "      <td>22.222221</td>\n",
       "      <td>23.935060</td>\n",
       "      <td>28.0</td>\n",
       "      <td>77.777780</td>\n",
       "      <td>76.064940</td>\n",
       "      <td>1.143769</td>\n",
       "      <td>0.929182</td>\n",
       "      <td>36.0</td>\n",
       "      <td>...</td>\n",
       "      <td>Hardware</td>\n",
       "      <td>1.29</td>\n",
       "      <td>1.27</td>\n",
       "      <td>NaN</td>\n",
       "      <td>NaN</td>\n",
       "      <td>NaN</td>\n",
       "      <td>NaN</td>\n",
       "      <td>NaN</td>\n",
       "      <td>NaN</td>\n",
       "      <td>NaN</td>\n",
       "    </tr>\n",
       "    <tr>\n",
       "      <th>...</th>\n",
       "      <td>...</td>\n",
       "      <td>...</td>\n",
       "      <td>...</td>\n",
       "      <td>...</td>\n",
       "      <td>...</td>\n",
       "      <td>...</td>\n",
       "      <td>...</td>\n",
       "      <td>...</td>\n",
       "      <td>...</td>\n",
       "      <td>...</td>\n",
       "      <td>...</td>\n",
       "      <td>...</td>\n",
       "      <td>...</td>\n",
       "      <td>...</td>\n",
       "      <td>...</td>\n",
       "      <td>...</td>\n",
       "      <td>...</td>\n",
       "      <td>...</td>\n",
       "      <td>...</td>\n",
       "      <td>...</td>\n",
       "      <td>...</td>\n",
       "    </tr>\n",
       "    <tr>\n",
       "      <th>ZS</th>\n",
       "      <td>4.317831</td>\n",
       "      <td>4.0</td>\n",
       "      <td>12.121212</td>\n",
       "      <td>16.110676</td>\n",
       "      <td>29.0</td>\n",
       "      <td>87.878784</td>\n",
       "      <td>83.889320</td>\n",
       "      <td>0.502082</td>\n",
       "      <td>0.491221</td>\n",
       "      <td>10.0</td>\n",
       "      <td>...</td>\n",
       "      <td>Software</td>\n",
       "      <td>NaN</td>\n",
       "      <td>NaN</td>\n",
       "      <td>3018.4</td>\n",
       "      <td>NaN</td>\n",
       "      <td>NaN</td>\n",
       "      <td>NaN</td>\n",
       "      <td>NaN</td>\n",
       "      <td>NaN</td>\n",
       "      <td>NaN</td>\n",
       "    </tr>\n",
       "    <tr>\n",
       "      <th>ZTO</th>\n",
       "      <td>4.868613</td>\n",
       "      <td>2.0</td>\n",
       "      <td>18.181818</td>\n",
       "      <td>50.492565</td>\n",
       "      <td>9.0</td>\n",
       "      <td>81.818184</td>\n",
       "      <td>49.507435</td>\n",
       "      <td>0.498667</td>\n",
       "      <td>0.510452</td>\n",
       "      <td>1.0</td>\n",
       "      <td>...</td>\n",
       "      <td>Transportation</td>\n",
       "      <td>NaN</td>\n",
       "      <td>NaN</td>\n",
       "      <td>NaN</td>\n",
       "      <td>NaN</td>\n",
       "      <td>NaN</td>\n",
       "      <td>NaN</td>\n",
       "      <td>NaN</td>\n",
       "      <td>NaN</td>\n",
       "      <td>NaN</td>\n",
       "    </tr>\n",
       "    <tr>\n",
       "      <th>ZTS</th>\n",
       "      <td>7.658604</td>\n",
       "      <td>1.0</td>\n",
       "      <td>9.090909</td>\n",
       "      <td>28.892622</td>\n",
       "      <td>10.0</td>\n",
       "      <td>90.909090</td>\n",
       "      <td>71.107376</td>\n",
       "      <td>0.597550</td>\n",
       "      <td>0.566861</td>\n",
       "      <td>3.0</td>\n",
       "      <td>...</td>\n",
       "      <td>Drug Manufacturers</td>\n",
       "      <td>1.17</td>\n",
       "      <td>2.02</td>\n",
       "      <td>NaN</td>\n",
       "      <td>NaN</td>\n",
       "      <td>NaN</td>\n",
       "      <td>NaN</td>\n",
       "      <td>NaN</td>\n",
       "      <td>NaN</td>\n",
       "      <td>NaN</td>\n",
       "    </tr>\n",
       "    <tr>\n",
       "      <th>ZUO</th>\n",
       "      <td>0.155362</td>\n",
       "      <td>0.0</td>\n",
       "      <td>0.000000</td>\n",
       "      <td>24.853450</td>\n",
       "      <td>6.0</td>\n",
       "      <td>100.000000</td>\n",
       "      <td>75.146550</td>\n",
       "      <td>0.618500</td>\n",
       "      <td>0.806400</td>\n",
       "      <td>2.0</td>\n",
       "      <td>...</td>\n",
       "      <td>Software</td>\n",
       "      <td>NaN</td>\n",
       "      <td>NaN</td>\n",
       "      <td>NaN</td>\n",
       "      <td>NaN</td>\n",
       "      <td>NaN</td>\n",
       "      <td>NaN</td>\n",
       "      <td>NaN</td>\n",
       "      <td>NaN</td>\n",
       "      <td>NaN</td>\n",
       "    </tr>\n",
       "    <tr>\n",
       "      <th>ZWS</th>\n",
       "      <td>2.461064</td>\n",
       "      <td>0.0</td>\n",
       "      <td>0.000000</td>\n",
       "      <td>40.493520</td>\n",
       "      <td>6.0</td>\n",
       "      <td>100.000000</td>\n",
       "      <td>59.506480</td>\n",
       "      <td>0.770831</td>\n",
       "      <td>0.574644</td>\n",
       "      <td>2.0</td>\n",
       "      <td>...</td>\n",
       "      <td>Industrial Products</td>\n",
       "      <td>NaN</td>\n",
       "      <td>NaN</td>\n",
       "      <td>NaN</td>\n",
       "      <td>NaN</td>\n",
       "      <td>NaN</td>\n",
       "      <td>NaN</td>\n",
       "      <td>NaN</td>\n",
       "      <td>NaN</td>\n",
       "      <td>NaN</td>\n",
       "    </tr>\n",
       "  </tbody>\n",
       "</table>\n",
       "<p>1570 rows × 337 columns</p>\n",
       "</div>"
      ],
      "text/plain": [
       "        altman_z_score  analysts_down  analysts_down_percent  \\\n",
       "ticker                                                         \n",
       "A             6.153144           15.0             100.000000   \n",
       "AA            1.401235            7.0             100.000000   \n",
       "AAL           0.862385            9.0              52.941177   \n",
       "AAP           2.266178           15.0             100.000000   \n",
       "AAPL          7.639575            8.0              22.222221   \n",
       "...                ...            ...                    ...   \n",
       "ZS            4.317831            4.0              12.121212   \n",
       "ZTO           4.868613            2.0              18.181818   \n",
       "ZTS           7.658604            1.0               9.090909   \n",
       "ZUO           0.155362            0.0               0.000000   \n",
       "ZWS           2.461064            0.0               0.000000   \n",
       "\n",
       "        analysts_down_percent_avg_5y  analysts_up  analysts_up_percent  \\\n",
       "ticker                                                                   \n",
       "A                          12.759212          0.0             0.000000   \n",
       "AA                         60.404625          0.0             0.000000   \n",
       "AAL                        53.991806          8.0            47.058823   \n",
       "AAP                        39.274876          0.0             0.000000   \n",
       "AAPL                       23.935060         28.0            77.777780   \n",
       "...                              ...          ...                  ...   \n",
       "ZS                         16.110676         29.0            87.878784   \n",
       "ZTO                        50.492565          9.0            81.818184   \n",
       "ZTS                        28.892622         10.0            90.909090   \n",
       "ZUO                        24.853450          6.0           100.000000   \n",
       "ZWS                        40.493520          6.0           100.000000   \n",
       "\n",
       "        analysts_up_percent_avg_5y  assets_turnover  assets_turnover_avg_5y  \\\n",
       "ticker                                                                        \n",
       "A                        87.240790         0.661089                0.601508   \n",
       "AA                       39.595375         0.728491                0.757975   \n",
       "AAL                      46.008194         0.782322                0.599356   \n",
       "AAP                      60.725124         0.917976                0.929945   \n",
       "AAPL                     76.064940         1.143769                0.929182   \n",
       "...                            ...              ...                     ...   \n",
       "ZS                       83.889320         0.502082                0.491221   \n",
       "ZTO                      49.507435         0.498667                0.510452   \n",
       "ZTS                      71.107376         0.597550                0.566861   \n",
       "ZUO                      75.146550         0.618500                0.806400   \n",
       "ZWS                      59.506480         0.770831                0.574644   \n",
       "\n",
       "        authors_count  ...                            area  \\\n",
       "ticker                 ...                                   \n",
       "A                 4.0  ...  Medical Diagnostics & Research   \n",
       "AA                2.0  ...                 Metals & Mining   \n",
       "AAL               7.0  ...                  Transportation   \n",
       "AAP               8.0  ...               Retail - Cyclical   \n",
       "AAPL             36.0  ...                        Hardware   \n",
       "...               ...  ...                             ...   \n",
       "ZS               10.0  ...                        Software   \n",
       "ZTO               1.0  ...                  Transportation   \n",
       "ZTS               3.0  ...              Drug Manufacturers   \n",
       "ZUO               2.0  ...                        Software   \n",
       "ZWS               2.0  ...             Industrial Products   \n",
       "\n",
       "        Price-to-DCF__Earnings_Based_  Price-to-DCF__FCF_Based_  \\\n",
       "ticker                                                            \n",
       "A                                 NaN                       NaN   \n",
       "AA                                NaN                       NaN   \n",
       "AAL                               NaN                       NaN   \n",
       "AAP                              0.83                       NaN   \n",
       "AAPL                             1.29                      1.27   \n",
       "...                               ...                       ...   \n",
       "ZS                                NaN                       NaN   \n",
       "ZTO                               NaN                       NaN   \n",
       "ZTS                              1.17                      2.02   \n",
       "ZUO                               NaN                       NaN   \n",
       "ZWS                               NaN                       NaN   \n",
       "\n",
       "        Price-to-Net-Current-Asset-Value  Price-to-Net-Cash  Price-to-FFO  \\\n",
       "ticker                                                                      \n",
       "A                                    NaN                NaN           NaN   \n",
       "AA                                   NaN                NaN           NaN   \n",
       "AAL                                  NaN                NaN           NaN   \n",
       "AAP                                  NaN                NaN           NaN   \n",
       "AAPL                                 NaN                NaN           NaN   \n",
       "...                                  ...                ...           ...   \n",
       "ZS                                3018.4                NaN           NaN   \n",
       "ZTO                                  NaN                NaN           NaN   \n",
       "ZTS                                  NaN                NaN           NaN   \n",
       "ZUO                                  NaN                NaN           NaN   \n",
       "ZWS                                  NaN                NaN           NaN   \n",
       "\n",
       "        Volume  Avg_Volume__2M_  Market_Cap  Enterprise_Value  \n",
       "ticker                                                         \n",
       "A          NaN              NaN         NaN               NaN  \n",
       "AA         NaN              NaN         NaN               NaN  \n",
       "AAL        NaN              NaN         NaN               NaN  \n",
       "AAP        NaN              NaN         NaN               NaN  \n",
       "AAPL       NaN              NaN         NaN               NaN  \n",
       "...        ...              ...         ...               ...  \n",
       "ZS         NaN              NaN         NaN               NaN  \n",
       "ZTO        NaN              NaN         NaN               NaN  \n",
       "ZTS        NaN              NaN         NaN               NaN  \n",
       "ZUO        NaN              NaN         NaN               NaN  \n",
       "ZWS        NaN              NaN         NaN               NaN  \n",
       "\n",
       "[1570 rows x 337 columns]"
      ]
     },
     "execution_count": 4,
     "metadata": {},
     "output_type": "execute_result"
    }
   ],
   "source": [
    "joined_df.loc[\"2023-09-28\"]"
   ]
  },
  {
   "cell_type": "code",
   "execution_count": 5,
   "metadata": {},
   "outputs": [
    {
     "name": "stderr",
     "output_type": "stream",
     "text": [
      "100%|██████████| 12/12 [00:00<00:00, 2673.80it/s]"
     ]
    },
    {
     "name": "stdout",
     "output_type": "stream",
     "text": [
      "1570\n",
      "1553\n",
      "1543\n",
      "1538\n",
      "1531\n",
      "1529\n",
      "1523\n",
      "1518\n",
      "1512\n",
      "1507\n",
      "1500\n",
      "1489\n"
     ]
    },
    {
     "name": "stderr",
     "output_type": "stream",
     "text": [
      "\n"
     ]
    },
    {
     "data": {
      "text/plain": [
       "1489"
      ]
     },
     "execution_count": 5,
     "metadata": {},
     "output_type": "execute_result"
    }
   ],
   "source": [
    "overlap_tickers = set(joined_df.index.get_level_values(1).tolist())\n",
    "\n",
    "for d in tqdm(all_dates):\n",
    "\tday_df = joined_df.loc[d]\n",
    "\toverlap_tickers = overlap_tickers.intersection(set(day_df.index.tolist()))\n",
    "\tprint(len(overlap_tickers))\n",
    "\n",
    "len(overlap_tickers)"
   ]
  },
  {
   "cell_type": "code",
   "execution_count": 6,
   "metadata": {},
   "outputs": [
    {
     "data": {
      "text/plain": [
       "(17868, 337)"
      ]
     },
     "execution_count": 6,
     "metadata": {},
     "output_type": "execute_result"
    }
   ],
   "source": [
    "filtered_df = joined_df[joined_df.index.get_level_values(1).isin(overlap_tickers)]\n",
    "filtered_df.shape"
   ]
  },
  {
   "cell_type": "code",
   "execution_count": 7,
   "metadata": {},
   "outputs": [],
   "source": [
    "day_df_0 = filtered_df.loc[\"2023-10-02\"].select_dtypes(float)"
   ]
  },
  {
   "cell_type": "code",
   "execution_count": 8,
   "metadata": {},
   "outputs": [],
   "source": [
    "corr_cols = []\n",
    "\n",
    "for d in all_dates[2:]:\n",
    "\tday_df = filtered_df.loc[d].select_dtypes(float)\n",
    "\tcols = day_df_0.corrwith(day_df)\n",
    "\tcorr_cols.append(cols)"
   ]
  },
  {
   "cell_type": "code",
   "execution_count": 9,
   "metadata": {},
   "outputs": [
    {
     "data": {
      "text/plain": [
       "Text(0, 0.5, 'Pearson')"
      ]
     },
     "execution_count": 9,
     "metadata": {},
     "output_type": "execute_result"
    },
    {
     "data": {
      "image/png": "[encoded data removed]",
      "text/plain": [
       "<Figure size 640x480 with 1 Axes>"
      ]
     },
     "metadata": {},
     "output_type": "display_data"
    }
   ],
   "source": [
    "import matplotlib.pyplot as plt\n",
    "corr_df = pd.DataFrame(corr_cols)\n",
    "corr_df.plot(legend=None, alpha = 0.5)\n",
    "plt.axhline(y = .99, color = \"r\", linestyle = \"dashed\")\n",
    "plt.title(\"Feature Autocorrelation over time\")\n",
    "plt.xticks(ticks = [i for i in range(len(all_dates[2:]))], labels = all_dates[2:], rotation = -45)\n",
    "plt.xlabel(\"Date\")\n",
    "plt.ylabel(\"Pearson\")"
   ]
  },
  {
   "cell_type": "code",
   "execution_count": 10,
   "metadata": {},
   "outputs": [],
   "source": [
    "long_term_columns = corr_df.columns[(corr_df.min() > 0.99)]\n",
    "short_term_columns = corr_df.columns[(corr_df.min() <= 0.99)]"
   ]
  },
  {
   "cell_type": "code",
   "execution_count": 11,
   "metadata": {},
   "outputs": [
    {
     "data": {
      "text/plain": [
       "55"
      ]
     },
     "execution_count": 11,
     "metadata": {},
     "output_type": "execute_result"
    }
   ],
   "source": [
    "len(short_term_columns)"
   ]
  },
  {
   "cell_type": "code",
   "execution_count": 12,
   "metadata": {},
   "outputs": [
    {
     "data": {
      "text/plain": [
       "280"
      ]
     },
     "execution_count": 12,
     "metadata": {},
     "output_type": "execute_result"
    }
   ],
   "source": [
    "len(long_term_columns)"
   ]
  },
  {
   "cell_type": "code",
   "execution_count": 34,
   "metadata": {},
   "outputs": [
    {
     "data": {
      "text/plain": [
       "pb_ratio                                                         0.137779\n",
       "last_price_vs_sma_10d                                            0.251145\n",
       "debt_eq                                                          0.319426\n",
       "last_price_vs_sma_50d                                            0.424203\n",
       "last_price_vs_sma_100d                                           0.447343\n",
       "last_price_vs_sma_200d                                           0.461280\n",
       "return_on_total_capital                                          0.693022\n",
       "5-Day_RSI                                                        0.726598\n",
       "dps_consensus_mean_percent_revisions_down_1_annual_period_fwd    0.747933\n",
       "Forward_PE_Ratio                                                 0.781753\n",
       "Volume                                                           0.802927\n",
       "coefficient_of_variation_90d                                     0.847355\n",
       "9-Day_RSI                                                        0.852247\n",
       "moment_rank                                                      0.877443\n",
       "return_on_net_tangible_assets                                    0.880729\n",
       "14-Day_RSI                                                       0.906841\n",
       "authors_count                                                    0.941035\n",
       "ratios_rank                                                      0.943513\n",
       "momentum_3m                                                      0.951174\n",
       "price_return_3m                                                  0.951242\n",
       "momentum_12m                                                     0.959521\n",
       "price_return_1y                                                  0.959701\n",
       "EV-to-Forward-EBITDA                                             0.962686\n",
       "price_return_6m                                                  0.965984\n",
       "momentum_6m                                                      0.966166\n",
       "analysts_down_percent                                            0.966171\n",
       "analysts_up_percent                                              0.966171\n",
       "dividends_estimate_fy1_analyst_down                              0.969670\n",
       "capm_alpha_60m                                                   0.974696\n",
       "dividends_estimate_fy2_analyst_down                              0.975742\n",
       "momentum_9m                                                      0.976630\n",
       "Earnings_Yield__Greenblatt__%                                    0.976631\n",
       "price_return_9m                                                  0.976709\n",
       "12-1_Month_Momentum_%                                            0.977603\n",
       "6-1_Month_Momentum_%                                             0.977716\n",
       "dividends_estimate_fy1_analyst_up                                0.978488\n",
       "dividends_estimate_fy2_analyst_up                                0.980684\n",
       "Future_3-5Y_EPS_without_NRI_Growth_Rate                          0.983029\n",
       "div_growth_category                                              0.983250\n",
       "div_safety_category                                              0.984814\n",
       "analysts_down                                                    0.985256\n",
       "eps_ltg                                                          0.988809\n",
       "EV-to-Forward-EBIT                                               0.989170\n",
       "Price-to-Median-PS-Value                                         0.991636\n",
       "pe_nongaap_fy1                                                   0.992863\n",
       "analysts_up                                                      0.993190\n",
       "growth_rank                                                      0.993641\n",
       "institutional_ownership_level                                    0.993856\n",
       "div_yield_fwd                                                    0.994006\n",
       "profitability_rank                                               0.995198\n",
       "dtype: float64"
      ]
     },
     "execution_count": 34,
     "metadata": {},
     "output_type": "execute_result"
    }
   ],
   "source": [
    "corr_df.min().sort_values().head(50)"
   ]
  },
  {
   "cell_type": "code",
   "execution_count": 33,
   "metadata": {},
   "outputs": [
    {
     "data": {
      "text/plain": [
       "0.802927418062821"
      ]
     },
     "execution_count": 33,
     "metadata": {},
     "output_type": "execute_result"
    }
   ],
   "source": [
    "corr_df.min().sort_values().loc[\"Volume\"]"
   ]
  },
  {
   "cell_type": "code",
   "execution_count": 37,
   "metadata": {},
   "outputs": [
    {
     "data": {
      "text/plain": [
       "(12708, 337)"
      ]
     },
     "execution_count": 37,
     "metadata": {},
     "output_type": "execute_result"
    }
   ],
   "source": [
    "joined_df.shape"
   ]
  }
 ],
 "metadata": {
  "kernelspec": {
   "display_name": "QuantBearsDataAnalysis",
   "language": "python",
   "name": "python3"
  },
  "language_info": {
   "codemirror_mode": {
    "name": "ipython",
    "version": 3
   },
   "file_extension": ".py",
   "mimetype": "text/x-python",
   "name": "python",
   "nbconvert_exporter": "python",
   "pygments_lexer": "ipython3",
   "version": "3.9.18"
  }
 },
 "nbformat": 4,
 "nbformat_minor": 2
}
