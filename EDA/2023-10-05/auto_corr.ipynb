{
 "cells": [
  {
   "cell_type": "code",
   "execution_count": 1,
   "metadata": {},
   "outputs": [],
   "source": [
    "import boto3\n",
    "import awswrangler as wr\n",
    "import pandas as pd\n",
    "accessKeys = pd.read_csv(\"../../quant-bears_accessKeys.csv\")\n",
    "session = boto3.Session(\n",
    "\taws_access_key_id=accessKeys.loc[0, \"Access key ID\"],\n",
    "\taws_secret_access_key=accessKeys.loc[0, \"Secret access key\"]\n",
    ")\n",
    "\n",
    "s3_collection_path = \"s3://quant-bears-data-collection/raw-data/\""
   ]
  },
  {
   "cell_type": "code",
   "execution_count": 2,
   "metadata": {},
   "outputs": [],
   "source": [
    "objs = wr.s3.list_objects(s3_collection_path + \"seekingAlpha.seekingAlphaBulkMetrics/\", boto3_session=session)"
   ]
  },
  {
   "cell_type": "code",
   "execution_count": 3,
   "metadata": {},
   "outputs": [
    {
     "name": "stderr",
     "output_type": "stream",
     "text": [
      "  0%|          | 0/7 [00:00<?, ?it/s]/var/folders/tq/51dxx6813y7g8dg44h973dmr0000gn/T/ipykernel_77902/1055745706.py:5: PerformanceWarning: DataFrame is highly fragmented.  This is usually the result of calling `frame.insert` many times, which has poor performance.  Consider joining all columns at once using pd.concat(axis=1) instead. To get a de-fragmented frame, use `newframe = frame.copy()`\n",
      "  new_df[\"date\"] = path.split(\"/\")[-1].split(\".\")[0]\n",
      " 14%|█▍        | 1/7 [00:00<00:03,  1.58it/s]/var/folders/tq/51dxx6813y7g8dg44h973dmr0000gn/T/ipykernel_77902/1055745706.py:5: PerformanceWarning: DataFrame is highly fragmented.  This is usually the result of calling `frame.insert` many times, which has poor performance.  Consider joining all columns at once using pd.concat(axis=1) instead. To get a de-fragmented frame, use `newframe = frame.copy()`\n",
      "  new_df[\"date\"] = path.split(\"/\")[-1].split(\".\")[0]\n",
      " 29%|██▊       | 2/7 [00:01<00:04,  1.19it/s]/var/folders/tq/51dxx6813y7g8dg44h973dmr0000gn/T/ipykernel_77902/1055745706.py:5: PerformanceWarning: DataFrame is highly fragmented.  This is usually the result of calling `frame.insert` many times, which has poor performance.  Consider joining all columns at once using pd.concat(axis=1) instead. To get a de-fragmented frame, use `newframe = frame.copy()`\n",
      "  new_df[\"date\"] = path.split(\"/\")[-1].split(\".\")[0]\n",
      " 43%|████▎     | 3/7 [00:02<00:03,  1.26it/s]/var/folders/tq/51dxx6813y7g8dg44h973dmr0000gn/T/ipykernel_77902/1055745706.py:5: PerformanceWarning: DataFrame is highly fragmented.  This is usually the result of calling `frame.insert` many times, which has poor performance.  Consider joining all columns at once using pd.concat(axis=1) instead. To get a de-fragmented frame, use `newframe = frame.copy()`\n",
      "  new_df[\"date\"] = path.split(\"/\")[-1].split(\".\")[0]\n",
      " 57%|█████▋    | 4/7 [00:03<00:02,  1.22it/s]/var/folders/tq/51dxx6813y7g8dg44h973dmr0000gn/T/ipykernel_77902/1055745706.py:5: PerformanceWarning: DataFrame is highly fragmented.  This is usually the result of calling `frame.insert` many times, which has poor performance.  Consider joining all columns at once using pd.concat(axis=1) instead. To get a de-fragmented frame, use `newframe = frame.copy()`\n",
      "  new_df[\"date\"] = path.split(\"/\")[-1].split(\".\")[0]\n",
      " 71%|███████▏  | 5/7 [00:04<00:02,  1.01s/it]/var/folders/tq/51dxx6813y7g8dg44h973dmr0000gn/T/ipykernel_77902/1055745706.py:5: PerformanceWarning: DataFrame is highly fragmented.  This is usually the result of calling `frame.insert` many times, which has poor performance.  Consider joining all columns at once using pd.concat(axis=1) instead. To get a de-fragmented frame, use `newframe = frame.copy()`\n",
      "  new_df[\"date\"] = path.split(\"/\")[-1].split(\".\")[0]\n",
      " 86%|████████▌ | 6/7 [00:05<00:01,  1.02s/it]/var/folders/tq/51dxx6813y7g8dg44h973dmr0000gn/T/ipykernel_77902/1055745706.py:5: PerformanceWarning: DataFrame is highly fragmented.  This is usually the result of calling `frame.insert` many times, which has poor performance.  Consider joining all columns at once using pd.concat(axis=1) instead. To get a de-fragmented frame, use `newframe = frame.copy()`\n",
      "  new_df[\"date\"] = path.split(\"/\")[-1].split(\".\")[0]\n",
      "100%|██████████| 7/7 [00:06<00:00,  1.10it/s]\n"
     ]
    }
   ],
   "source": [
    "from tqdm import tqdm\n",
    "df_alphas = []\n",
    "for path in tqdm(objs):\n",
    "\tnew_df = wr.s3.read_parquet(path, boto3_session=session)\n",
    "\tnew_df[\"date\"] = path.split(\"/\")[-1].split(\".\")[0]\n",
    "\tdf_alphas.append(new_df)\n",
    "\n",
    "df_alpha = pd.concat(df_alphas, axis = 0)"
   ]
  },
  {
   "cell_type": "code",
   "execution_count": 4,
   "metadata": {},
   "outputs": [
    {
     "data": {
      "text/plain": [
       "date\n",
       "2023-10-05    1603\n",
       "2023-10-03    1600\n",
       "2023-10-06    1598\n",
       "2023-10-04    1595\n",
       "2023-10-02    1576\n",
       "2023-09-28    1570\n",
       "2023-09-29    1567\n",
       "Name: count, dtype: int64"
      ]
     },
     "execution_count": 4,
     "metadata": {},
     "output_type": "execute_result"
    }
   ],
   "source": [
    "df_alpha[\"date\"].value_counts()"
   ]
  },
  {
   "cell_type": "code",
   "execution_count": 5,
   "metadata": {},
   "outputs": [
    {
     "data": {
      "text/plain": [
       "array(['2023-09-28', '2023-09-29', '2023-10-02', '2023-10-03',\n",
       "       '2023-10-04', '2023-10-05', '2023-10-06'], dtype=object)"
      ]
     },
     "execution_count": 5,
     "metadata": {},
     "output_type": "execute_result"
    }
   ],
   "source": [
    "all_dates = df_alpha[\"date\"].sort_values().unique()\n",
    "all_dates"
   ]
  },
  {
   "cell_type": "code",
   "execution_count": 6,
   "metadata": {},
   "outputs": [
    {
     "name": "stderr",
     "output_type": "stream",
     "text": [
      "100%|██████████| 7/7 [00:00<00:00, 328.08it/s]"
     ]
    },
    {
     "name": "stdout",
     "output_type": "stream",
     "text": [
      "1570\n",
      "1553\n",
      "1543\n",
      "1538\n",
      "1531\n",
      "1529\n",
      "1523\n"
     ]
    },
    {
     "name": "stderr",
     "output_type": "stream",
     "text": [
      "\n"
     ]
    },
    {
     "data": {
      "text/plain": [
       "1523"
      ]
     },
     "execution_count": 6,
     "metadata": {},
     "output_type": "execute_result"
    }
   ],
   "source": [
    "overlap_tickers = set(df_alpha[\"ticker\"].tolist())\n",
    "\n",
    "for d in tqdm(all_dates):\n",
    "\tday_df = df_alpha[df_alpha[\"date\"]==d]\n",
    "\toverlap_tickers = overlap_tickers.intersection(set(day_df[\"ticker\"].tolist()))\n",
    "\tprint(len(overlap_tickers))\n",
    "\n",
    "len(overlap_tickers)"
   ]
  },
  {
   "cell_type": "code",
   "execution_count": 7,
   "metadata": {},
   "outputs": [
    {
     "data": {
      "text/plain": [
       "(10661, 266)"
      ]
     },
     "execution_count": 7,
     "metadata": {},
     "output_type": "execute_result"
    }
   ],
   "source": [
    "filtered_df = df_alpha[df_alpha[\"ticker\"].isin(overlap_tickers)]\n",
    "filtered_df.shape"
   ]
  },
  {
   "cell_type": "code",
   "execution_count": 8,
   "metadata": {},
   "outputs": [],
   "source": [
    "day_df_0 = filtered_df[filtered_df[\"date\"]==\"2023-09-28\"].set_index(\"ticker\").select_dtypes(float)\n",
    "day_df_1 = filtered_df[filtered_df[\"date\"]==\"2023-09-29\"].set_index(\"ticker\").select_dtypes(float)"
   ]
  },
  {
   "cell_type": "code",
   "execution_count": 9,
   "metadata": {},
   "outputs": [],
   "source": [
    "corr_cols = []\n",
    "\n",
    "for d in all_dates:\n",
    "\tday_df = filtered_df[filtered_df[\"date\"]==d].set_index(\"ticker\").select_dtypes(float)\n",
    "\tcols = day_df_0.corrwith(day_df)\n",
    "\tcorr_cols.append(cols)"
   ]
  },
  {
   "cell_type": "code",
   "execution_count": 11,
   "metadata": {},
   "outputs": [
    {
     "data": {
      "text/plain": [
       "<Axes: >"
      ]
     },
     "execution_count": 11,
     "metadata": {},
     "output_type": "execute_result"
    },
    {
     "data": {
      "image/png": "[encoded data removed]",
      "text/plain": [
       "<Figure size 640x480 with 1 Axes>"
      ]
     },
     "metadata": {},
     "output_type": "display_data"
    }
   ],
   "source": [
    "import matplotlib.pyplot as plt\n",
    "corr_df = pd.DataFrame(corr_cols)\n",
    "corr_df.plot(legend=None, alpha = 0.2)\n"
   ]
  },
  {
   "cell_type": "code",
   "execution_count": 28,
   "metadata": {},
   "outputs": [],
   "source": [
    "high_autocorr_columns = corr_df.columns[(corr_df.min() > 0.99999)]"
   ]
  },
  {
   "cell_type": "code",
   "execution_count": 29,
   "metadata": {},
   "outputs": [
    {
     "data": {
      "text/plain": [
       "(64,)"
      ]
     },
     "execution_count": 29,
     "metadata": {},
     "output_type": "execute_result"
    }
   ],
   "source": [
    "high_autocorr_columns.shape"
   ]
  },
  {
   "cell_type": "code",
   "execution_count": 30,
   "metadata": {},
   "outputs": [
    {
     "data": {
      "text/plain": [
       "Index(['assets_turnover_avg_5y', 'capex_change', 'capex_change_avg_5y',\n",
       "       'capex_to_sales', 'capex_to_sales_avg_5y', 'cash_per_share',\n",
       "       'cash_per_share_ttm', 'cf_payout_avg_5y', 'diluted_eps',\n",
       "       'diluted_eps_growth_avg_5y', 'div_payout_nongaap_fy1_avg_5y',\n",
       "       'dividend_consistency_avg_5y', 'dividend_coverage_ratio_ttm',\n",
       "       'dividend_growth_avg_5y', 'dps_yoy_avg_5y', 'earnings_yield_avg_5y',\n",
       "       'ebit_margin', 'ebit_margin_avg_5y', 'ebitda_margin',\n",
       "       'ebitda_margin_avg_5y', 'eps_gaap_annual_growth_yoy', 'ev_ebit_avg_5y',\n",
       "       'ev_ebit_fy1_avg_5y', 'ev_ebitda_avg_5y', 'ev_ebitda_fy1_avg_5y',\n",
       "       'ev_sales_fy1_avg_5y', 'fcf_yield_avg_5y', 'fixed_asset_turnover_ttm',\n",
       "       'gross_margin', 'gross_margin_avg_5y', 'int_cover',\n",
       "       'levered_fcf_margin', 'levered_fcf_margin_avg_5y',\n",
       "       'net_asset_to_pension_liabilities_annual', 'net_inc_per_employee',\n",
       "       'net_lt_debt_ebitda_avg_5y', 'net_lt_debt_tot_assets_avg_5y',\n",
       "       'net_margin', 'net_margin_avg_5y', 'number_of_employees',\n",
       "       'oper_income_fy1_market_cap_avg_5y', 'operating_income_ebit_yoy_avg_5y',\n",
       "       'other_cap_struct', 'pe_nongaap_avg_5y', 'pe_nongaap_fy1_avg_5y',\n",
       "       'pe_ratio', 'pe_ratio_avg_5y', 'peg_gaap_avg_5y',\n",
       "       'peg_nongaap_fy1_avg_5y', 'price_cf_ratio_avg_5y',\n",
       "       'price_close_adj_ytd', 'price_close_ytd', 'primary_price',\n",
       "       'ps_ratio_avg_5y', 'ps_ratio_fy1_avg_5y',\n",
       "       'return_on_avg_tot_assets_avg_5y', 'revenue_growth',\n",
       "       'revenue_growth_avg_5y', 'revenue_per_share', 'rtn_on_common_equity',\n",
       "       'rtn_on_common_equity_avg_5y', 'total_cash', 'total_debt',\n",
       "       'total_revenue'],\n",
       "      dtype='object')"
      ]
     },
     "execution_count": 30,
     "metadata": {},
     "output_type": "execute_result"
    }
   ],
   "source": [
    "high_autocorr_columns"
   ]
  },
  {
   "cell_type": "markdown",
   "metadata": {},
   "source": [
    "Interestingly, there are many many highly auto-correlated features. I think we can think of it like a division into 2 tasks:\n",
    "\n",
    "1. good long-term return stocks with auto-correlated features (ex: long-term features)\n",
    "2. short term fluctuations with not as auto-correlated features (ex: short-term features)"
   ]
  },
  {
   "cell_type": "markdown",
   "metadata": {},
   "source": []
  }
 ],
 "metadata": {
  "kernelspec": {
   "display_name": "QuantBearsDataAnalysis",
   "language": "python",
   "name": "python3"
  },
  "language_info": {
   "codemirror_mode": {
    "name": "ipython",
    "version": 3
   },
   "file_extension": ".py",
   "mimetype": "text/x-python",
   "name": "python",
   "nbconvert_exporter": "python",
   "pygments_lexer": "ipython3",
   "version": "3.9.18"
  }
 },
 "nbformat": 4,
 "nbformat_minor": 2
}
