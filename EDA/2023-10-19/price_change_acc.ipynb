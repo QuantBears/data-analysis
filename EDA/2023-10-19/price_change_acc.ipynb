{
 "cells": [
  {
   "cell_type": "code",
   "execution_count": 1,
   "metadata": {},
   "outputs": [],
   "source": [
    "import boto3\n",
    "import awswrangler as wr\n",
    "import pandas as pd\n",
    "from tqdm import tqdm\n",
    "accessKeys = pd.read_csv(\"../../quant-bears_accessKeys.csv\")\n",
    "session = boto3.Session(\n",
    "\taws_access_key_id=accessKeys.loc[0, \"Access key ID\"],\n",
    "\taws_secret_access_key=accessKeys.loc[0, \"Secret access key\"]\n",
    ")\n",
    "\n",
    "s3_collection_path = \"s3://quant-bears-data-collection/raw-data/\"\n",
    "s3_price_collection_path = \"s3://quant-bears-data-collection/raw-resolved-price/\""
   ]
  },
  {
   "cell_type": "code",
   "execution_count": 3,
   "metadata": {},
   "outputs": [],
   "source": [
    "today = \"2023-10-18\"\n",
    "previousDay = \"2023-10-11\"\n",
    "\n",
    "prev_df = wr.s3.read_parquet(s3_collection_path + f\"seekingAlpha.seekingAlphaBulkMetrics/{previousDay}.parquet\", boto3_session=session)"
   ]
  },
  {
   "cell_type": "code",
   "execution_count": 4,
   "metadata": {},
   "outputs": [
    {
     "data": {
      "text/html": [
       "<div>\n",
       "<style scoped>\n",
       "    .dataframe tbody tr th:only-of-type {\n",
       "        vertical-align: middle;\n",
       "    }\n",
       "\n",
       "    .dataframe tbody tr th {\n",
       "        vertical-align: top;\n",
       "    }\n",
       "\n",
       "    .dataframe thead th {\n",
       "        text-align: right;\n",
       "    }\n",
       "</style>\n",
       "<table border=\"1\" class=\"dataframe\">\n",
       "  <thead>\n",
       "    <tr style=\"text-align: right;\">\n",
       "      <th></th>\n",
       "      <th>ticker</th>\n",
       "      <th>altman_z_score</th>\n",
       "      <th>analysts_down</th>\n",
       "      <th>analysts_down_percent</th>\n",
       "      <th>analysts_down_percent_avg_5y</th>\n",
       "      <th>analysts_up</th>\n",
       "      <th>analysts_up_percent</th>\n",
       "      <th>analysts_up_percent_avg_5y</th>\n",
       "      <th>assets_turnover</th>\n",
       "      <th>assets_turnover_avg_5y</th>\n",
       "      <th>...</th>\n",
       "      <th>total_debt</th>\n",
       "      <th>total_revenue</th>\n",
       "      <th>working_cap_change</th>\n",
       "      <th>working_cap_change_avg_5y</th>\n",
       "      <th>yld_on_cost_1y</th>\n",
       "      <th>yld_on_cost_1y_avg_5y</th>\n",
       "      <th>yld_on_cost_3y</th>\n",
       "      <th>yld_on_cost_3y_avg_5y</th>\n",
       "      <th>yld_on_cost_5y</th>\n",
       "      <th>yld_on_cost_5y_avg_5y</th>\n",
       "    </tr>\n",
       "  </thead>\n",
       "  <tbody>\n",
       "    <tr>\n",
       "      <th>0</th>\n",
       "      <td>A</td>\n",
       "      <td>6.153144</td>\n",
       "      <td>15.0</td>\n",
       "      <td>100.000000</td>\n",
       "      <td>13.478062</td>\n",
       "      <td>0.0</td>\n",
       "      <td>0.000000</td>\n",
       "      <td>86.521940</td>\n",
       "      <td>0.661089</td>\n",
       "      <td>0.602098</td>\n",
       "      <td>...</td>\n",
       "      <td>2.967000e+09</td>\n",
       "      <td>6.994000e+09</td>\n",
       "      <td>26.9574</td>\n",
       "      <td>-0.412132</td>\n",
       "      <td>0.714569</td>\n",
       "      <td>0.799212</td>\n",
       "      <td>0.850983</td>\n",
       "      <td>1.197979</td>\n",
       "      <td>1.349933</td>\n",
       "      <td>1.474432</td>\n",
       "    </tr>\n",
       "    <tr>\n",
       "      <th>1</th>\n",
       "      <td>AA</td>\n",
       "      <td>1.401235</td>\n",
       "      <td>7.0</td>\n",
       "      <td>100.000000</td>\n",
       "      <td>60.595860</td>\n",
       "      <td>0.0</td>\n",
       "      <td>0.000000</td>\n",
       "      <td>39.404140</td>\n",
       "      <td>0.728491</td>\n",
       "      <td>0.757523</td>\n",
       "      <td>...</td>\n",
       "      <td>1.834000e+09</td>\n",
       "      <td>1.086800e+10</td>\n",
       "      <td>-21.0507</td>\n",
       "      <td>19.992653</td>\n",
       "      <td>1.029866</td>\n",
       "      <td>NaN</td>\n",
       "      <td>3.194888</td>\n",
       "      <td>NaN</td>\n",
       "      <td>1.109262</td>\n",
       "      <td>NaN</td>\n",
       "    </tr>\n",
       "    <tr>\n",
       "      <th>2</th>\n",
       "      <td>AAL</td>\n",
       "      <td>0.862385</td>\n",
       "      <td>13.0</td>\n",
       "      <td>76.470590</td>\n",
       "      <td>54.442814</td>\n",
       "      <td>4.0</td>\n",
       "      <td>23.529411</td>\n",
       "      <td>45.557186</td>\n",
       "      <td>0.782322</td>\n",
       "      <td>0.598929</td>\n",
       "      <td>...</td>\n",
       "      <td>4.258300e+10</td>\n",
       "      <td>5.289400e+10</td>\n",
       "      <td>43.6042</td>\n",
       "      <td>-158.888410</td>\n",
       "      <td>NaN</td>\n",
       "      <td>NaN</td>\n",
       "      <td>NaN</td>\n",
       "      <td>NaN</td>\n",
       "      <td>NaN</td>\n",
       "      <td>NaN</td>\n",
       "    </tr>\n",
       "    <tr>\n",
       "      <th>3</th>\n",
       "      <td>AAP</td>\n",
       "      <td>2.266178</td>\n",
       "      <td>16.0</td>\n",
       "      <td>100.000000</td>\n",
       "      <td>39.881680</td>\n",
       "      <td>0.0</td>\n",
       "      <td>0.000000</td>\n",
       "      <td>60.118320</td>\n",
       "      <td>0.917976</td>\n",
       "      <td>0.928705</td>\n",
       "      <td>...</td>\n",
       "      <td>4.596040e+09</td>\n",
       "      <td>1.121875e+10</td>\n",
       "      <td>54.5253</td>\n",
       "      <td>-10.168253</td>\n",
       "      <td>2.857143</td>\n",
       "      <td>1.237327</td>\n",
       "      <td>3.058203</td>\n",
       "      <td>1.596553</td>\n",
       "      <td>2.911074</td>\n",
       "      <td>1.837003</td>\n",
       "    </tr>\n",
       "    <tr>\n",
       "      <th>4</th>\n",
       "      <td>AAPL</td>\n",
       "      <td>7.639575</td>\n",
       "      <td>8.0</td>\n",
       "      <td>21.621622</td>\n",
       "      <td>24.091553</td>\n",
       "      <td>29.0</td>\n",
       "      <td>78.378380</td>\n",
       "      <td>75.908450</td>\n",
       "      <td>1.143769</td>\n",
       "      <td>0.932244</td>\n",
       "      <td>...</td>\n",
       "      <td>1.092800e+11</td>\n",
       "      <td>3.839330e+11</td>\n",
       "      <td>-86.8950</td>\n",
       "      <td>-59.327420</td>\n",
       "      <td>0.669420</td>\n",
       "      <td>1.778697</td>\n",
       "      <td>0.803625</td>\n",
       "      <td>2.862522</td>\n",
       "      <td>1.737844</td>\n",
       "      <td>3.806725</td>\n",
       "    </tr>\n",
       "  </tbody>\n",
       "</table>\n",
       "<p>5 rows × 265 columns</p>\n",
       "</div>"
      ],
      "text/plain": [
       "  ticker  altman_z_score  analysts_down  analysts_down_percent  \\\n",
       "0      A        6.153144           15.0             100.000000   \n",
       "1     AA        1.401235            7.0             100.000000   \n",
       "2    AAL        0.862385           13.0              76.470590   \n",
       "3    AAP        2.266178           16.0             100.000000   \n",
       "4   AAPL        7.639575            8.0              21.621622   \n",
       "\n",
       "   analysts_down_percent_avg_5y  analysts_up  analysts_up_percent  \\\n",
       "0                     13.478062          0.0             0.000000   \n",
       "1                     60.595860          0.0             0.000000   \n",
       "2                     54.442814          4.0            23.529411   \n",
       "3                     39.881680          0.0             0.000000   \n",
       "4                     24.091553         29.0            78.378380   \n",
       "\n",
       "   analysts_up_percent_avg_5y  assets_turnover  assets_turnover_avg_5y  ...  \\\n",
       "0                   86.521940         0.661089                0.602098  ...   \n",
       "1                   39.404140         0.728491                0.757523  ...   \n",
       "2                   45.557186         0.782322                0.598929  ...   \n",
       "3                   60.118320         0.917976                0.928705  ...   \n",
       "4                   75.908450         1.143769                0.932244  ...   \n",
       "\n",
       "     total_debt  total_revenue  working_cap_change  working_cap_change_avg_5y  \\\n",
       "0  2.967000e+09   6.994000e+09             26.9574                  -0.412132   \n",
       "1  1.834000e+09   1.086800e+10            -21.0507                  19.992653   \n",
       "2  4.258300e+10   5.289400e+10             43.6042                -158.888410   \n",
       "3  4.596040e+09   1.121875e+10             54.5253                 -10.168253   \n",
       "4  1.092800e+11   3.839330e+11            -86.8950                 -59.327420   \n",
       "\n",
       "   yld_on_cost_1y  yld_on_cost_1y_avg_5y  yld_on_cost_3y  \\\n",
       "0        0.714569               0.799212        0.850983   \n",
       "1        1.029866                    NaN        3.194888   \n",
       "2             NaN                    NaN             NaN   \n",
       "3        2.857143               1.237327        3.058203   \n",
       "4        0.669420               1.778697        0.803625   \n",
       "\n",
       "   yld_on_cost_3y_avg_5y  yld_on_cost_5y  yld_on_cost_5y_avg_5y  \n",
       "0               1.197979        1.349933               1.474432  \n",
       "1                    NaN        1.109262                    NaN  \n",
       "2                    NaN             NaN                    NaN  \n",
       "3               1.596553        2.911074               1.837003  \n",
       "4               2.862522        1.737844               3.806725  \n",
       "\n",
       "[5 rows x 265 columns]"
      ]
     },
     "execution_count": 4,
     "metadata": {},
     "output_type": "execute_result"
    }
   ],
   "source": [
    "prev_df.head()"
   ]
  },
  {
   "cell_type": "code",
   "execution_count": 6,
   "metadata": {},
   "outputs": [],
   "source": [
    "prev_df = prev_df.set_index(\"ticker\")"
   ]
  },
  {
   "cell_type": "code",
   "execution_count": 7,
   "metadata": {},
   "outputs": [],
   "source": [
    "resolved_price = wr.s3.read_parquet(s3_price_collection_path + f\"{today}.parquet\", boto3_session=session)"
   ]
  },
  {
   "cell_type": "code",
   "execution_count": 9,
   "metadata": {},
   "outputs": [],
   "source": [
    "resolved_price = resolved_price.set_index(\"ticker\")"
   ]
  },
  {
   "cell_type": "code",
   "execution_count": 14,
   "metadata": {},
   "outputs": [
    {
     "data": {
      "text/plain": [
       "0.9999999667709722"
      ]
     },
     "execution_count": 14,
     "metadata": {},
     "output_type": "execute_result"
    }
   ],
   "source": [
    "prev_df[\"primary_price\"].corr(resolved_price[\"primary_price\"])"
   ]
  },
  {
   "cell_type": "code",
   "execution_count": 15,
   "metadata": {},
   "outputs": [
    {
     "data": {
      "text/plain": [
       "178.39"
      ]
     },
     "execution_count": 15,
     "metadata": {},
     "output_type": "execute_result"
    }
   ],
   "source": [
    "prev_df.loc[\"AAPL\"][\"primary_price\"]"
   ]
  },
  {
   "cell_type": "code",
   "execution_count": 16,
   "metadata": {},
   "outputs": [],
   "source": [
    "price_change = (resolved_price[\"primary_price\"] - prev_df[\"primary_price\"]) / prev_df[\"primary_price\"]"
   ]
  },
  {
   "cell_type": "code",
   "execution_count": 37,
   "metadata": {},
   "outputs": [
    {
     "data": {
      "text/plain": [
       "ticker\n",
       "AEO      18.20\n",
       "AAPL    177.15\n",
       "AEE      78.40\n",
       "AEP      75.67\n",
       "AES      13.75\n",
       "         ...  \n",
       "WRBY     14.80\n",
       "VTYX     17.49\n",
       "VSTS     15.89\n",
       "ZWS      27.04\n",
       "ZUO       8.25\n",
       "Name: primary_price, Length: 1599, dtype: float64"
      ]
     },
     "execution_count": 37,
     "metadata": {},
     "output_type": "execute_result"
    }
   ],
   "source": [
    "resolved_price[\"primary_price\"]"
   ]
  },
  {
   "cell_type": "code",
   "execution_count": 38,
   "metadata": {},
   "outputs": [
    {
     "data": {
      "text/plain": [
       "ticker\n",
       "A       113.29\n",
       "AA       28.20\n",
       "AAL      12.26\n",
       "AAP      52.09\n",
       "AAPL    178.39\n",
       "         ...  \n",
       "ZS      171.88\n",
       "ZTO      24.63\n",
       "ZTS     175.63\n",
       "ZUO       7.98\n",
       "ZWS      26.81\n",
       "Name: primary_price, Length: 1602, dtype: float64"
      ]
     },
     "execution_count": 38,
     "metadata": {},
     "output_type": "execute_result"
    }
   ],
   "source": [
    "prev_df[\"primary_price\"]"
   ]
  },
  {
   "cell_type": "code",
   "execution_count": 21,
   "metadata": {},
   "outputs": [
    {
     "data": {
      "text/plain": [
       "993048.9377207244"
      ]
     },
     "execution_count": 21,
     "metadata": {},
     "output_type": "execute_result"
    }
   ],
   "source": [
    "(1. + price_change[\"AAPL\"]) * 1_000_000"
   ]
  },
  {
   "cell_type": "code",
   "execution_count": 28,
   "metadata": {},
   "outputs": [
    {
     "data": {
      "text/plain": [
       "(1599,)"
      ]
     },
     "execution_count": 28,
     "metadata": {},
     "output_type": "execute_result"
    }
   ],
   "source": [
    "resolved_price.index.shape"
   ]
  },
  {
   "cell_type": "code",
   "execution_count": 29,
   "metadata": {},
   "outputs": [
    {
     "data": {
      "text/plain": [
       "(1602, 264)"
      ]
     },
     "execution_count": 29,
     "metadata": {},
     "output_type": "execute_result"
    }
   ],
   "source": [
    "prev_df.shape"
   ]
  },
  {
   "cell_type": "code",
   "execution_count": 32,
   "metadata": {},
   "outputs": [],
   "source": [
    "import pandas_market_calendars as mcal\n",
    "import datetime\n",
    "\n",
    "def getPreviousMarketOpenDays(date: str, n: int):\n",
    "\t# Create a calendar\n",
    "\tnyse = mcal.get_calendar('NYSE')\n",
    "\tday = datetime.datetime.strptime(date, \"%Y-%m-%d\")\n",
    "\tschedule = nyse.schedule(\n",
    "\t\tstart_date = (day - datetime.timedelta(days = 20 + n*2)).strftime(\"%Y-%m-%d\"),\n",
    "\t\tend_date=day.strftime(\"%Y-%m-%d\"))\n",
    "\t\n",
    "\treturn schedule.index.strftime(\"%Y-%m-%d\").tolist()[-n:]"
   ]
  },
  {
   "cell_type": "code",
   "execution_count": 35,
   "metadata": {},
   "outputs": [
    {
     "data": {
      "text/html": [
       "<div>\n",
       "<style scoped>\n",
       "    .dataframe tbody tr th:only-of-type {\n",
       "        vertical-align: middle;\n",
       "    }\n",
       "\n",
       "    .dataframe tbody tr th {\n",
       "        vertical-align: top;\n",
       "    }\n",
       "\n",
       "    .dataframe thead th {\n",
       "        text-align: right;\n",
       "    }\n",
       "</style>\n",
       "<table border=\"1\" class=\"dataframe\">\n",
       "  <thead>\n",
       "    <tr style=\"text-align: right;\">\n",
       "      <th></th>\n",
       "      <th>primary_price</th>\n",
       "    </tr>\n",
       "    <tr>\n",
       "      <th>ticker</th>\n",
       "      <th></th>\n",
       "    </tr>\n",
       "  </thead>\n",
       "  <tbody>\n",
       "    <tr>\n",
       "      <th>AEO</th>\n",
       "      <td>18.20</td>\n",
       "    </tr>\n",
       "    <tr>\n",
       "      <th>AAPL</th>\n",
       "      <td>177.15</td>\n",
       "    </tr>\n",
       "    <tr>\n",
       "      <th>AEE</th>\n",
       "      <td>78.40</td>\n",
       "    </tr>\n",
       "    <tr>\n",
       "      <th>AEP</th>\n",
       "      <td>75.67</td>\n",
       "    </tr>\n",
       "    <tr>\n",
       "      <th>AES</th>\n",
       "      <td>13.75</td>\n",
       "    </tr>\n",
       "    <tr>\n",
       "      <th>...</th>\n",
       "      <td>...</td>\n",
       "    </tr>\n",
       "    <tr>\n",
       "      <th>WRBY</th>\n",
       "      <td>14.80</td>\n",
       "    </tr>\n",
       "    <tr>\n",
       "      <th>VTYX</th>\n",
       "      <td>17.49</td>\n",
       "    </tr>\n",
       "    <tr>\n",
       "      <th>VSTS</th>\n",
       "      <td>15.89</td>\n",
       "    </tr>\n",
       "    <tr>\n",
       "      <th>ZWS</th>\n",
       "      <td>27.04</td>\n",
       "    </tr>\n",
       "    <tr>\n",
       "      <th>ZUO</th>\n",
       "      <td>8.25</td>\n",
       "    </tr>\n",
       "  </tbody>\n",
       "</table>\n",
       "<p>1599 rows × 1 columns</p>\n",
       "</div>"
      ],
      "text/plain": [
       "        primary_price\n",
       "ticker               \n",
       "AEO             18.20\n",
       "AAPL           177.15\n",
       "AEE             78.40\n",
       "AEP             75.67\n",
       "AES             13.75\n",
       "...               ...\n",
       "WRBY            14.80\n",
       "VTYX            17.49\n",
       "VSTS            15.89\n",
       "ZWS             27.04\n",
       "ZUO              8.25\n",
       "\n",
       "[1599 rows x 1 columns]"
      ]
     },
     "execution_count": 35,
     "metadata": {},
     "output_type": "execute_result"
    }
   ],
   "source": [
    "resolved_price"
   ]
  },
  {
   "cell_type": "code",
   "execution_count": 36,
   "metadata": {},
   "outputs": [
    {
     "data": {
      "text/plain": [
       "1"
      ]
     },
     "execution_count": 36,
     "metadata": {},
     "output_type": "execute_result"
    }
   ],
   "source": [
    "prev_df[\"primary_price\"].isna().sum()"
   ]
  },
  {
   "cell_type": "code",
   "execution_count": null,
   "metadata": {},
   "outputs": [],
   "source": []
  }
 ],
 "metadata": {
  "kernelspec": {
   "display_name": "QuantBearsDataAnalysis",
   "language": "python",
   "name": "python3"
  },
  "language_info": {
   "codemirror_mode": {
    "name": "ipython",
    "version": 3
   },
   "file_extension": ".py",
   "mimetype": "text/x-python",
   "name": "python",
   "nbconvert_exporter": "python",
   "pygments_lexer": "ipython3",
   "version": "3.9.18"
  }
 },
 "nbformat": 4,
 "nbformat_minor": 2
}
